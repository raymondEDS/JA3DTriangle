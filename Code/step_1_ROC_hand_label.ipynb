{
  "cells": [
    {
      "cell_type": "code",
      "execution_count": null,
      "metadata": {
        "colab": {
          "base_uri": "https://localhost:8080/"
        },
        "id": "k_Hw5Au2Rtwa",
        "outputId": "7d6813c7-9ca7-4e61-bcf6-f46151dd2a73"
      },
      "outputs": [],
      "source": [
        "!pip install transformers\n",
        "from PIL import Image\n",
        "import numpy as np\n",
        "import pandas as pd\n",
        "import cv2\n",
        "from transformers import CLIPProcessor, CLIPModel\n",
        "import torch.nn.functional as F"
      ]
    },
    {
      "cell_type": "code",
      "execution_count": null,
      "metadata": {
        "id": "T758-3XYSKbE"
      },
      "outputs": [],
      "source": [
        "from google.colab import drive\n",
        "\n",
        "drive.mount('/content/drive', force_remount=True)\n",
        "\n",
        "# enter the foldername in your Drive where you have saved the unzipped\n",
        "# the files containing the '.npy' files needed for problem 2\n",
        "# e.g. '/content/drive/MyDrive/cs231a'\n",
        "FOLDERNAME = 'random_sampling'\n",
        "\n",
        "assert FOLDERNAME is not None, \"[!] Enter the foldername.\"\n",
        "\n",
        "%cd drive/MyDrive/$FOLDERNAME/\n",
        "print('Files in this folder:')\n",
        "%ls ."
      ]
    },
    {
      "cell_type": "code",
      "execution_count": null,
      "metadata": {
        "id": "LHG7ejjzwdxX"
      },
      "outputs": [],
      "source": [
        "device = 'cuda'"
      ]
    },
    {
      "cell_type": "code",
      "execution_count": null,
      "metadata": {
        "colab": {
          "base_uri": "https://localhost:8080/"
        },
        "id": "Yyuq0cLK1JV9",
        "outputId": "edfa1c43-695c-4c1d-da4e-019742a21303"
      },
      "outputs": [],
      "source": [
        "!pip install git+https://github.com/openai/CLIP.git"
      ]
    },
    {
      "cell_type": "code",
      "execution_count": null,
      "metadata": {
        "colab": {
          "base_uri": "https://localhost:8080/"
        },
        "id": "n9Ki0M-d1VG3",
        "outputId": "c83dc5b9-753e-43e2-9557-0da7529a6e85"
      },
      "outputs": [
        {
          "data": {
            "text/plain": [
              "['RN50',\n",
              " 'RN101',\n",
              " 'RN50x4',\n",
              " 'RN50x16',\n",
              " 'RN50x64',\n",
              " 'ViT-B/32',\n",
              " 'ViT-B/16',\n",
              " 'ViT-L/14',\n",
              " 'ViT-L/14@336px']"
            ]
          },
          "execution_count": 50,
          "metadata": {},
          "output_type": "execute_result"
        }
      ],
      "source": [
        "import clip\n",
        "clip.available_models()"
      ]
    },
    {
      "cell_type": "code",
      "execution_count": null,
      "metadata": {
        "colab": {
          "base_uri": "https://localhost:8080/"
        },
        "id": "sdNTOlYP1Sw3",
        "outputId": "5b0358c6-7b4a-4203-8bb1-e21129a79359"
      },
      "outputs": [
        {
          "name": "stderr",
          "output_type": "stream",
          "text": [
            "100%|███████████████████████████████████████| 891M/891M [00:23<00:00, 40.2MiB/s]\n"
          ]
        }
      ],
      "source": [
        "import torch\n",
        "device = \"cuda\" if torch.cuda.is_available() else \"cpu\"\n",
        "model_name = 'ViT-L/14@336px'\n",
        "model, preprocess = clip.load(model_name, device=device)"
      ]
    },
    {
      "cell_type": "code",
      "execution_count": null,
      "metadata": {
        "id": "N0XxbLEYSe3t"
      },
      "outputs": [],
      "source": [
        "# # load in the model\n",
        "# model_name = \"openai/clip-vit-large-patch14-336\"\n",
        "# model = CLIPModel.from_pretrained(model_name).to(device)\n",
        "# processor = CLIPProcessor.from_pretrained(model_name)\n",
        "# # text_prompt =[\"a photograph of an adult (or adults) and a child (or children) both looking at the same object\n",
        "# text_prompt = \"a photograph of an adult and a child both looking at the same object\"\n",
        "# text_input = processor(text=text_prompt, return_tensors=\"pt\").to(device)"
      ]
    },
    {
      "cell_type": "code",
      "execution_count": null,
      "metadata": {
        "id": "Ll7E9qAl2AZ0"
      },
      "outputs": [],
      "source": [
        "# load in the model\n",
        "# text_prompt =[\"a photograph of an adult (or adults) and a child (or children) both looking at the same object\n",
        "text_prompt = [\n",
        "    \"a photograph of an adult and a child both looking at the same object\",\n",
        "    \"a photograph of an adult and children both looking at the same object\",\n",
        "]\n",
        "negative_prompt = [\n",
        "    \"a photograph of an adult and a child looking at the different objects\",\n",
        "    \"a photograph of an adult and a child looking in different directions\",\n",
        "]\n",
        "text_input = clip.tokenize(text_prompt).to(device)\n",
        "negative_text_input = clip.tokenize(negative_prompt).to(device)"
      ]
    },
    {
      "cell_type": "code",
      "execution_count": null,
      "metadata": {
        "id": "pkP_A_wHS7UA"
      },
      "outputs": [],
      "source": [
        "# direct to my folder\n",
        "import os\n",
        "\n",
        "root_dir = \"/content/drive/MyDrive/random_sampling\""
      ]
    },
    {
      "cell_type": "code",
      "execution_count": null,
      "metadata": {
        "id": "z-rNlyQ2tWal"
      },
      "outputs": [],
      "source": [
        "def pad_to_square(image, color=(0, 0, 0)):\n",
        "    \"\"\"Pad a PIL Image to make it square.\"\"\"\n",
        "    width, height = image.size\n",
        "    if width == height:\n",
        "        return image\n",
        "    elif width > height:\n",
        "        new_height = width\n",
        "        new_width = width\n",
        "    else:\n",
        "        new_width = height\n",
        "        new_height = height\n",
        "    new_image = Image.new(image.mode, (new_width, new_height), color)\n",
        "    new_image.paste(image, ((new_width - width) // 2, (new_height - height) // 2))\n",
        "    return new_image"
      ]
    },
    {
      "cell_type": "code",
      "execution_count": null,
      "metadata": {
        "id": "eKAf2isuU0_C"
      },
      "outputs": [],
      "source": [
        "yes = []\n",
        "no = []\n",
        "def get_sims():\n",
        "  for filename in os.listdir(root_dir):\n",
        "      if filename.endswith(\".jpg\"):\n",
        "          # Load the image and encode it using the processor\n",
        "          image_path = os.path.join(root_dir, filename)\n",
        "          image = pad_to_square(Image.open(image_path))\n",
        "          image_input = preprocess(image).to(device).unsqueeze(0)\n",
        "          image_embedding = model.encode_image(image_input)\n",
        "          image_embeddings = F.normalize(image_embedding, p=2, dim=1)\n",
        "\n",
        "          # Calculate the similarity score between the image and text\n",
        "          text_embedding = model.encode_text(text_input)\n",
        "          text_embeddings = F.normalize(text_embedding, p=2, dim=1)\n",
        "          similarity = (image_embeddings @ text_embeddings.T).max()\n",
        "\n",
        "          negative_text_embedding = model.encode_text(text_input) \n",
        "\n",
        "          # Print the filename and similarity score\n",
        "          # print(f\"{filename}: {similarity.item()}\")\n",
        "          if \"_y\" in filename:\n",
        "            yes.append(similarity.item())\n",
        "          if \"_n\" in filename:\n",
        "            no.append(similarity.item())\n",
        "  return yes, no\n",
        "\n",
        "def precision_recall(threshold, yes, no, eps=0.0001):\n",
        "  tp = sum([y > threshold for y in yes])\n",
        "  fp = sum([n > threshold for n in no])\n",
        "  recall = tp/len(yes)\n",
        "  precision = tp / (tp + fp + eps)\n",
        "  return recall, precision\n",
        "\n",
        "yes, no = get_sims()\n",
        "x = []\n",
        "y = []\n",
        "n = 100000\n",
        "for threshold in [i / n for i in range(n)]:\n",
        "  r, p = (precision_recall(threshold, yes, no))\n",
        "  if p > 0:\n",
        "    y.append(p)\n",
        "    x.append(r)"
      ]
    },
    {
      "cell_type": "code",
      "execution_count": null,
      "metadata": {
        "colab": {
          "base_uri": "https://localhost:8080/"
        },
        "id": "GFu1Jeb58RHI",
        "outputId": "758fa4dc-a407-441a-f7e3-10bea9052b21"
      },
      "outputs": [
        {
          "data": {
            "text/plain": [
              "0.0"
            ]
          },
          "execution_count": 140,
          "metadata": {},
          "output_type": "execute_result"
        }
      ],
      "source": [
        "p"
      ]
    },
    {
      "cell_type": "code",
      "execution_count": null,
      "metadata": {
        "colab": {
          "base_uri": "https://localhost:8080/",
          "height": 313
        },
        "id": "DdEdqRIP4wM2",
        "outputId": "957fff37-c456-4e83-8fd0-60bb091e2c7a"
      },
      "outputs": [
        {
          "data": {
            "text/plain": [
              "Text(0, 0.5, 'Precision')"
            ]
          },
          "execution_count": 143,
          "metadata": {},
          "output_type": "execute_result"
        },
        {
          "data": {
            "image/png": "[encoded data removed]",
            "text/plain": [
              "<Figure size 432x288 with 1 Axes>"
            ]
          },
          "metadata": {
            "needs_background": "light"
          },
          "output_type": "display_data"
        }
      ],
      "source": [
        "import matplotlib.pyplot as plt\n",
        "#x is recall and y is precision\n",
        "plt.title(\"Recall-precesion curve\")\n",
        "plt.scatter(x, y)\n",
        "plt.xlabel(\"Recall\")\n",
        "plt.ylabel(\"Precision\")"
      ]
    },
    {
      "cell_type": "code",
      "execution_count": null,
      "metadata": {
        "colab": {
          "base_uri": "https://localhost:8080/",
          "height": 313
        },
        "id": "g1n1v0LDz4Sb",
        "outputId": "979f0b44-8bfd-4486-a6ae-a6dd35daf8ff"
      },
      "outputs": [
        {
          "data": {
            "text/plain": [
              "Text(0, 0.5, 'Precision')"
            ]
          },
          "execution_count": 142,
          "metadata": {},
          "output_type": "execute_result"
        },
        {
          "data": {
            "image/png": "[encoded data removed]",
            "text/plain": [
              "<Figure size 432x288 with 1 Axes>"
            ]
          },
          "metadata": {
            "needs_background": "light"
          },
          "output_type": "display_data"
        }
      ],
      "source": [
        "import matplotlib.pyplot as plt\n",
        "#x is recall and y is precision\n",
        "plt.title(\"Two examples\")\n",
        "plt.scatter(x, y)\n",
        "plt.xlabel(\"Recall\")\n",
        "plt.ylabel(\"Precision\")"
      ]
    },
    {
      "cell_type": "code",
      "execution_count": null,
      "metadata": {
        "colab": {
          "base_uri": "https://localhost:8080/",
          "height": 313
        },
        "id": "XeaX_L7G5OWS",
        "outputId": "5bf641a2-d0d0-42c6-9d73-d4b0c69e032e"
      },
      "outputs": [
        {
          "data": {
            "text/plain": [
              "Text(0, 0.5, 'Precision')"
            ]
          },
          "execution_count": 115,
          "metadata": {},
          "output_type": "execute_result"
        },
        {
          "data": {
            "image/png": "[encoded data removed]",
            "text/plain": [
              "<Figure size 432x288 with 1 Axes>"
            ]
          },
          "metadata": {
            "needs_background": "light"
          },
          "output_type": "display_data"
        }
      ],
      "source": [
        "import matplotlib.pyplot as plt\n",
        "#x is recall and y is precision\n",
        "plt.title(\"Household\")\n",
        "plt.scatter(x, y)\n",
        "plt.xlabel(\"Recall\")\n",
        "plt.ylabel(\"Precision\")"
      ]
    },
    {
      "cell_type": "code",
      "execution_count": null,
      "metadata": {
        "colab": {
          "base_uri": "https://localhost:8080/",
          "height": 393
        },
        "id": "YCn4cVhMTuZR",
        "outputId": "2d2b825a-4fab-4cfb-e5e7-8f9d9b185bbe"
      },
      "outputs": [],
      "source": [
        "import numpy as np\n",
        "import matplotlib.pyplot as plt\n",
        "\n",
        "# Sort the data in ascending order\n",
        "data_sorted = np.sort(sims)\n",
        "\n",
        "# Calculate the ECDF\n",
        "n = len(data_sorted)\n",
        "y = np.arange(1, n+1) / n\n",
        "\n",
        "# Plot the ECDF\n",
        "plt.plot(data_sorted, y, marker='.', linestyle='none')\n",
        "\n",
        "# Add labels and title\n",
        "plt.xlabel('Data')\n",
        "plt.ylabel('ECDF')\n",
        "plt.title('Empirical CDF of Data')\n",
        "\n",
        "# Show the plot\n",
        "plt.show()\n"
      ]
    }
  ],
  "metadata": {
    "accelerator": "GPU",
    "colab": {
      "provenance": []
    },
    "gpuClass": "standard",
    "kernelspec": {
      "display_name": "Python 3",
      "name": "python3"
    },
    "language_info": {
      "name": "python"
    }
  },
  "nbformat": 4,
  "nbformat_minor": 0
}
