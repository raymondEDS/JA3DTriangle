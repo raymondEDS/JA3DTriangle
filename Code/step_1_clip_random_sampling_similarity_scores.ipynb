{
  "cells": [
    {
      "cell_type": "code",
      "execution_count": null,
      "metadata": {
        "colab": {
          "base_uri": "https://localhost:8080/"
        },
        "id": "QbbSHS0S_Xwx",
        "outputId": "ecd5ed73-888e-4c48-b029-89b606b2b9c7"
      },
      "outputs": [],
      "source": [
        "from google.colab import drive\n",
        "\n",
        "drive.mount('/content/drive', force_remount=True)\n",
        "\n",
        "# enter the foldername in your Drive where you have saved the unzipped\n",
        "# the files containing the '.npy' files needed for problem 2\n",
        "# e.g. '/content/drive/MyDrive/cs231a'\n",
        "FOLDERNAME = 'haber_research'\n",
        "\n",
        "assert FOLDERNAME is not None, \"[!] Enter the foldername.\"\n",
        "\n",
        "%cd drive/MyDrive/haber_research/box_data/raw_film\n",
        "print('Files in this folder:')\n",
        "%ls ."
      ]
    },
    {
      "attachments": {},
      "cell_type": "markdown",
      "metadata": {
        "id": "gp6sr0O7AtMb"
      },
      "source": [
        "**FC103_F05.MOV**"
      ]
    },
    {
      "cell_type": "code",
      "execution_count": null,
      "metadata": {
        "id": "1KgrjHT5Ass3"
      },
      "outputs": [],
      "source": [
        "from google.colab.patches import cv2_imshow\n",
        "import os\n",
        "import cv2"
      ]
    },
    {
      "cell_type": "code",
      "execution_count": null,
      "metadata": {
        "id": "PuH6NH5pA1wv"
      },
      "outputs": [],
      "source": [
        "filename = \"WB026F01_1of2.mov\"\n",
        "file_path = os.path.join(\"/content/drive/MyDrive/haber_research/box_data/raw_film\", filename)\n",
        "folder_name = '/content/drive/MyDrive/frames_WB026F01_1of2.mov'\n",
        "interval = 3\n",
        "\n",
        "# Open the video file\n",
        "cap = cv2.VideoCapture(file_path)\n",
        "\n",
        "# Get the frames per second (fps) and total number of frames\n",
        "fps = cap.get(cv2.CAP_PROP_FPS)\n",
        "total_frames = int(cap.get(cv2.CAP_PROP_FRAME_COUNT))\n",
        "\n",
        "# Calculate the frame interval in frames\n",
        "frame_interval = int(fps * interval)\n",
        "\n",
        "# Extract and save one frame at each specified time interval\n",
        "for i in range(0, total_frames, frame_interval):\n",
        "    # Set the frame position and read the frame\n",
        "    cap.set(cv2.CAP_PROP_POS_FRAMES, i)\n",
        "    success, frame = cap.read()\n",
        "\n",
        "    # If frame reading was successful, save the frame\n",
        "    if success:\n",
        "        frame_name = f\"frame_{i}.jpg\"\n",
        "        frame_path = os.path.join(folder_name, frame_name)\n",
        "        cv2.imwrite(frame_path, frame)\n",
        "\n",
        "cap.release()\n"
      ]
    },
    {
      "cell_type": "code",
      "execution_count": null,
      "metadata": {
        "colab": {
          "base_uri": "https://localhost:8080/"
        },
        "id": "_FkQZ7XxTeqG",
        "outputId": "285a5733-6817-4853-c935-6db1135e8a77"
      },
      "outputs": [
        {
          "name": "stdout",
          "output_type": "stream",
          "text": [
            "227\n"
          ]
        }
      ],
      "source": [
        "num_files = len(os.listdir(folder_name))\n",
        "print(num_files)"
      ]
    },
    {
      "attachments": {},
      "cell_type": "markdown",
      "metadata": {
        "id": "umJM0RiEE_e7"
      },
      "source": [
        "imports for **CLIP**"
      ]
    },
    {
      "cell_type": "code",
      "execution_count": null,
      "metadata": {
        "colab": {
          "base_uri": "https://localhost:8080/"
        },
        "id": "ApagO7RLI1z4",
        "outputId": "06fbe74a-f597-46ce-8cd5-fe04c7aa3c58"
      },
      "outputs": [],
      "source": [
        "!pip install transformers\n",
        "from PIL import Image\n",
        "import numpy as np\n",
        "import pandas as pd\n",
        "import cv2\n",
        "from transformers import CLIPProcessor, CLIPModel\n",
        "import torch.nn.functional as F\n"
      ]
    },
    {
      "cell_type": "code",
      "execution_count": null,
      "metadata": {
        "colab": {
          "base_uri": "https://localhost:8080/"
        },
        "id": "8Z8skpUMEvYK",
        "outputId": "9a8b0562-2c6f-43c9-b081-405eece3f04e"
      },
      "outputs": [],
      "source": [
        "device = 'cuda'\n",
        "!pip install git+https://github.com/openai/CLIP.git\n",
        "import clip\n",
        "clip.available_models()\n",
        "import torch\n",
        "device = \"cuda\" if torch.cuda.is_available() else \"cpu\"\n",
        "model_name = 'ViT-L/14@336px'\n",
        "model, preprocess = clip.load(model_name, device=device)\n",
        "\n"
      ]
    },
    {
      "attachments": {},
      "cell_type": "markdown",
      "metadata": {
        "id": "_YKYGP9uFM29"
      },
      "source": [
        "text prompt"
      ]
    },
    {
      "cell_type": "code",
      "execution_count": null,
      "metadata": {
        "id": "ruo2SMOVFMSC"
      },
      "outputs": [],
      "source": [
        "text_prompt = [\n",
        "    \"a photograph of an adult and a child both LOOKING at the SAME object\",\n",
        "    \"a photograph of an adult and children LOOKING at each other\",\n",
        "]\n",
        "text_input = clip.tokenize(text_prompt).to(device)\n"
      ]
    },
    {
      "cell_type": "code",
      "execution_count": null,
      "metadata": {
        "id": "0FOjRrA5FZa8"
      },
      "outputs": [],
      "source": [
        "import os\n",
        "\n",
        "root_dir = \"/content/drive/MyDrive/unzipped/annotation/frames_FC174F01_1of2.mov\""
      ]
    },
    {
      "attachments": {},
      "cell_type": "markdown",
      "metadata": {
        "id": "0mboBZjGFzr_"
      },
      "source": [
        "\"\"\"Pad a PIL Image to make it square.\"\"\""
      ]
    },
    {
      "cell_type": "code",
      "execution_count": null,
      "metadata": {
        "id": "oq1JIx9vF0qu"
      },
      "outputs": [],
      "source": [
        "def pad_to_square(image, color=(0, 0, 0)):\n",
        "    \"\"\"Pad a PIL Image to make it square.\"\"\"\n",
        "    width, height = image.size\n",
        "    if width == height:\n",
        "        return image\n",
        "    elif width > height:\n",
        "        new_height = width\n",
        "        new_width = width\n",
        "    else:\n",
        "        new_width = height\n",
        "        new_height = height\n",
        "    new_image = Image.new(image.mode, (new_width, new_height), color)\n",
        "    new_image.paste(image, ((new_width - width) // 2, (new_height - height) // 2))\n",
        "    return new_image"
      ]
    },
    {
      "cell_type": "code",
      "execution_count": null,
      "metadata": {
        "id": "j7Iv090tIZ3y"
      },
      "outputs": [],
      "source": [
        "similarity_scores = []\n",
        "filenames=[]\n",
        "def get_sims(root_dir, text_input):\n",
        "    for filename in os.listdir(root_dir):\n",
        "        if filename.endswith(\".jpg\"):\n",
        "            # Load the image and encode it using the processor\n",
        "            image_path = os.path.join(root_dir, filename)\n",
        "            image = pad_to_square(Image.open(image_path))\n",
        "            image_input = preprocess(image).to(device).unsqueeze(0)\n",
        "            image_embedding = model.encode_image(image_input)\n",
        "            image_embeddings = F.normalize(image_embedding, p=2, dim=1)\n",
        "\n",
        "            # Calculate the similarity score between the image and text\n",
        "            text_embedding = model.encode_text(text_input)\n",
        "            text_embeddings = F.normalize(text_embedding, p=2, dim=1)\n",
        "            similarity_score = (image_embeddings @ text_embeddings.T).max().item()\n",
        "            filenames.append(filename)\n",
        "\n",
        "            similarity_scores.append(similarity_score)\n",
        "            print(similarity_score)\n",
        "    return similarity_scores"
      ]
    },
    {
      "cell_type": "code",
      "execution_count": null,
      "metadata": {
        "colab": {
          "base_uri": "https://localhost:8080/"
        },
        "id": "gZl3f0o5IjTy",
        "outputId": "e782108d-47e2-4500-a5f5-481933488ddf"
      },
      "outputs": [],
      "source": [
        "yes=get_sims(root_dir, text_input)\n",
        "df = pd.DataFrame(columns=[\"filename\", \"similarity\"])\n",
        "df[\"filename\"] = filenames\n",
        "df[\"similarity\"] = yes\n",
        "\n",
        "\n",
        "\n"
      ]
    },
    {
      "cell_type": "code",
      "execution_count": null,
      "metadata": {
        "colab": {
          "base_uri": "https://localhost:8080/",
          "height": 647
        },
        "id": "AUH6ymklXvEL",
        "outputId": "63192d11-bc38-4753-d002-cacdf1e3245b"
      },
      "outputs": [
        {
          "data": {
            "text/html": [
              "\n",
              "  <div id=\"df-bba69cda-5c01-42bf-a320-9325c91c27c5\">\n",
              "    <div class=\"colab-df-container\">\n",
              "      <div>\n",
              "<style scoped>\n",
              "    .dataframe tbody tr th:only-of-type {\n",
              "        vertical-align: middle;\n",
              "    }\n",
              "\n",
              "    .dataframe tbody tr th {\n",
              "        vertical-align: top;\n",
              "    }\n",
              "\n",
              "    .dataframe thead th {\n",
              "        text-align: right;\n",
              "    }\n",
              "</style>\n",
              "<table border=\"1\" class=\"dataframe\">\n",
              "  <thead>\n",
              "    <tr style=\"text-align: right;\">\n",
              "      <th></th>\n",
              "      <th>filename</th>\n",
              "      <th>similarity</th>\n",
              "    </tr>\n",
              "  </thead>\n",
              "  <tbody>\n",
              "    <tr>\n",
              "      <th>0</th>\n",
              "      <td>frame_0.jpg</td>\n",
              "      <td>0.190552</td>\n",
              "    </tr>\n",
              "    <tr>\n",
              "      <th>1</th>\n",
              "      <td>frame_89.jpg</td>\n",
              "      <td>0.158691</td>\n",
              "    </tr>\n",
              "    <tr>\n",
              "      <th>2</th>\n",
              "      <td>frame_178.jpg</td>\n",
              "      <td>0.215210</td>\n",
              "    </tr>\n",
              "    <tr>\n",
              "      <th>3</th>\n",
              "      <td>frame_267.jpg</td>\n",
              "      <td>0.205811</td>\n",
              "    </tr>\n",
              "    <tr>\n",
              "      <th>4</th>\n",
              "      <td>frame_356.jpg</td>\n",
              "      <td>0.215088</td>\n",
              "    </tr>\n",
              "    <tr>\n",
              "      <th>...</th>\n",
              "      <td>...</td>\n",
              "      <td>...</td>\n",
              "    </tr>\n",
              "    <tr>\n",
              "      <th>222</th>\n",
              "      <td>frame_19758.jpg</td>\n",
              "      <td>0.188721</td>\n",
              "    </tr>\n",
              "    <tr>\n",
              "      <th>223</th>\n",
              "      <td>frame_19847.jpg</td>\n",
              "      <td>0.193604</td>\n",
              "    </tr>\n",
              "    <tr>\n",
              "      <th>224</th>\n",
              "      <td>frame_19936.jpg</td>\n",
              "      <td>0.170654</td>\n",
              "    </tr>\n",
              "    <tr>\n",
              "      <th>225</th>\n",
              "      <td>frame_20025.jpg</td>\n",
              "      <td>0.183716</td>\n",
              "    </tr>\n",
              "    <tr>\n",
              "      <th>226</th>\n",
              "      <td>frame_20114.jpg</td>\n",
              "      <td>0.199829</td>\n",
              "    </tr>\n",
              "  </tbody>\n",
              "</table>\n",
              "<p>227 rows × 2 columns</p>\n",
              "</div>\n",
              "      <button class=\"colab-df-convert\" onclick=\"convertToInteractive('df-bba69cda-5c01-42bf-a320-9325c91c27c5')\"\n",
              "              title=\"Convert this dataframe to an interactive table.\"\n",
              "              style=\"display:none;\">\n",
              "        \n",
              "  <svg xmlns=\"http://www.w3.org/2000/svg\" height=\"24px\"viewBox=\"0 0 24 24\"\n",
              "       width=\"24px\">\n",
              "    <path d=\"M0 0h24v24H0V0z\" fill=\"none\"/>\n",
              "    <path d=\"M18.56 5.44l.94 2.06.94-2.06 2.06-.94-2.06-.94-.94-2.06-.94 2.06-2.06.94zm-11 1L8.5 8.5l.94-2.06 2.06-.94-2.06-.94L8.5 2.5l-.94 2.06-2.06.94zm10 10l.94 2.06.94-2.06 2.06-.94-2.06-.94-.94-2.06-.94 2.06-2.06.94z\"/><path d=\"M17.41 7.96l-1.37-1.37c-.4-.4-.92-.59-1.43-.59-.52 0-1.04.2-1.43.59L10.3 9.45l-7.72 7.72c-.78.78-.78 2.05 0 2.83L4 21.41c.39.39.9.59 1.41.59.51 0 1.02-.2 1.41-.59l7.78-7.78 2.81-2.81c.8-.78.8-2.07 0-2.86zM5.41 20L4 18.59l7.72-7.72 1.47 1.35L5.41 20z\"/>\n",
              "  </svg>\n",
              "      </button>\n",
              "      \n",
              "  <style>\n",
              "    .colab-df-container {\n",
              "      display:flex;\n",
              "      flex-wrap:wrap;\n",
              "      gap: 12px;\n",
              "    }\n",
              "\n",
              "    .colab-df-convert {\n",
              "      background-color: #E8F0FE;\n",
              "      border: none;\n",
              "      border-radius: 50%;\n",
              "      cursor: pointer;\n",
              "      display: none;\n",
              "      fill: #1967D2;\n",
              "      height: 32px;\n",
              "      padding: 0 0 0 0;\n",
              "      width: 32px;\n",
              "    }\n",
              "\n",
              "    .colab-df-convert:hover {\n",
              "      background-color: #E2EBFA;\n",
              "      box-shadow: 0px 1px 2px rgba(60, 64, 67, 0.3), 0px 1px 3px 1px rgba(60, 64, 67, 0.15);\n",
              "      fill: #174EA6;\n",
              "    }\n",
              "\n",
              "    [theme=dark] .colab-df-convert {\n",
              "      background-color: #3B4455;\n",
              "      fill: #D2E3FC;\n",
              "    }\n",
              "\n",
              "    [theme=dark] .colab-df-convert:hover {\n",
              "      background-color: #434B5C;\n",
              "      box-shadow: 0px 1px 3px 1px rgba(0, 0, 0, 0.15);\n",
              "      filter: drop-shadow(0px 1px 2px rgba(0, 0, 0, 0.3));\n",
              "      fill: #FFFFFF;\n",
              "    }\n",
              "  </style>\n",
              "\n",
              "      <script>\n",
              "        const buttonEl =\n",
              "          document.querySelector('#df-bba69cda-5c01-42bf-a320-9325c91c27c5 button.colab-df-convert');\n",
              "        buttonEl.style.display =\n",
              "          google.colab.kernel.accessAllowed ? 'block' : 'none';\n",
              "\n",
              "        async function convertToInteractive(key) {\n",
              "          const element = document.querySelector('#df-bba69cda-5c01-42bf-a320-9325c91c27c5');\n",
              "          const dataTable =\n",
              "            await google.colab.kernel.invokeFunction('convertToInteractive',\n",
              "                                                     [key], {});\n",
              "          if (!dataTable) return;\n",
              "\n",
              "          const docLinkHtml = 'Like what you see? Visit the ' +\n",
              "            '<a target=\"_blank\" href=https://colab.research.google.com/notebooks/data_table.ipynb>data table notebook</a>'\n",
              "            + ' to learn more about interactive tables.';\n",
              "          element.innerHTML = '';\n",
              "          dataTable['output_type'] = 'display_data';\n",
              "          await google.colab.output.renderOutput(dataTable, element);\n",
              "          const docLink = document.createElement('div');\n",
              "          docLink.innerHTML = docLinkHtml;\n",
              "          element.appendChild(docLink);\n",
              "        }\n",
              "      </script>\n",
              "    </div>\n",
              "  </div>\n",
              "  "
            ],
            "text/plain": [
              "            filename  similarity\n",
              "0        frame_0.jpg    0.190552\n",
              "1       frame_89.jpg    0.158691\n",
              "2      frame_178.jpg    0.215210\n",
              "3      frame_267.jpg    0.205811\n",
              "4      frame_356.jpg    0.215088\n",
              "..               ...         ...\n",
              "222  frame_19758.jpg    0.188721\n",
              "223  frame_19847.jpg    0.193604\n",
              "224  frame_19936.jpg    0.170654\n",
              "225  frame_20025.jpg    0.183716\n",
              "226  frame_20114.jpg    0.199829\n",
              "\n",
              "[227 rows x 2 columns]"
            ]
          },
          "execution_count": 63,
          "metadata": {},
          "output_type": "execute_result"
        }
      ],
      "source": [
        "df"
      ]
    },
    {
      "cell_type": "code",
      "execution_count": null,
      "metadata": {
        "colab": {
          "base_uri": "https://localhost:8080/",
          "height": 295
        },
        "id": "0xaotnFyQIuU",
        "outputId": "a877d2f9-b99e-4eeb-ad34-8ae71f46c232"
      },
      "outputs": [
        {
          "data": {
            "image/png": "[encoded data removed]",
            "text/plain": [
              "<Figure size 432x288 with 1 Axes>"
            ]
          },
          "metadata": {},
          "output_type": "display_data"
        }
      ],
      "source": [
        "import matplotlib.pyplot as plt\n",
        "\n",
        "# Sort the list\n",
        "sorted_numbers = sorted(yes)\n",
        "\n",
        "# Get the total number of elements in the list\n",
        "total_count = len(sorted_numbers)\n",
        "\n",
        "# Initialize empty lists for x and y values\n",
        "x_values = []\n",
        "y_values = []\n",
        "\n",
        "# Loop through the sorted list and calculate the percentage of numbers less than or equal to each number\n",
        "for i, num in enumerate(sorted_numbers):\n",
        "    # Calculate the percentage\n",
        "    percent = (i + 1) / total_count * 100\n",
        "    \n",
        "    # Append to the x and y lists\n",
        "    x_values.append(num)\n",
        "    y_values.append(percent)\n",
        "\n",
        "# Plot the line chart\n",
        "plt.plot(x_values, y_values)\n",
        "plt.xlabel('Number')\n",
        "plt.ylabel('Percentage of similarity scores less than or equal to this number')\n",
        "plt.title(\"WB026F01_1of2.mov\")\n",
        "\n",
        "plt.show()"
      ]
    },
    {
      "cell_type": "code",
      "execution_count": null,
      "metadata": {
        "colab": {
          "base_uri": "https://localhost:8080/"
        },
        "id": "qF5r_3WxZerg",
        "outputId": "ac1c3fb1-85ee-43fc-8475-6a062c2c55bf"
      },
      "outputs": [],
      "source": [
        "raw_film_folder = \"/content/drive/MyDrive/haber_research/box_data/raw_film\"\n",
        "filenames_list=[]\n",
        "for filename in os.listdir(raw_film_folder):\n",
        "  filenames_list.append(filename)\n",
        "\n",
        "for filename in filenames_list:\n",
        "    folder_name = f\"frames_{filename}\"\n",
        "    folder_path = os.path.join(\"/content/drive/MyDrive\", folder_name)\n",
        "    os.makedirs(folder_path, exist_ok=True)\n",
        "    print(f\"Created folder '{folder_name}' in Google Drive.\")"
      ]
    },
    {
      "attachments": {},
      "cell_type": "markdown",
      "metadata": {
        "id": "YgorCOiXaGV0"
      },
      "source": [
        "folder name"
      ]
    },
    {
      "cell_type": "code",
      "execution_count": null,
      "metadata": {
        "id": "N05TYqmxZ0jQ"
      },
      "outputs": [],
      "source": [
        "folder_list=[]\n",
        "for filename in filenames_list:\n",
        "    folder_name = f\"frames_{filename}\"\n",
        "    folder_list.append(folder_name)"
      ]
    },
    {
      "cell_type": "code",
      "execution_count": null,
      "metadata": {
        "id": "5MuM8jqBamu3"
      },
      "outputs": [],
      "source": [
        "df2 = pd.DataFrame(columns=[\"folder_names\", \"file_name\"])\n",
        "df2[\"folder_names\"] = folder_list\n",
        "df2[\"file_name\"] = filenames_list"
      ]
    },
    {
      "cell_type": "code",
      "execution_count": null,
      "metadata": {
        "colab": {
          "base_uri": "https://localhost:8080/",
          "height": 423
        },
        "id": "Z4kHySvgbAO1",
        "outputId": "6b3c0f3e-8ffc-4096-b0ea-029b362d1a05"
      },
      "outputs": [],
      "source": [
        "df2\n",
        "df2 = df2[~df2[\"file_name\"].str.endswith('.jpg')]\n",
        "df2"
      ]
    },
    {
      "cell_type": "code",
      "execution_count": null,
      "metadata": {
        "colab": {
          "base_uri": "https://localhost:8080/"
        },
        "id": "ghFvs7Qld3WZ",
        "outputId": "b00b3e98-468f-477c-e33c-7cdf6c2a360c"
      },
      "outputs": [],
      "source": [
        "for i in range(len(df2)):\n",
        "    file_name = df2.loc[i, 'file_name']\n",
        "    folder_name = df2.loc[i, 'folder_names']\n",
        "    print(file_name,folder_name)"
      ]
    },
    {
      "cell_type": "code",
      "execution_count": null,
      "metadata": {
        "colab": {
          "background_save": true
        },
        "id": "4w8sEQeYaT0Y",
        "outputId": "5fb38efa-2105-4e8d-ea55-d52be1eccb93"
      },
      "outputs": [],
      "source": [
        "import cv2\n",
        "import os\n",
        "\n",
        "# loop through each row and define file_name and folder_name\n",
        "for i in range(len(df2)):\n",
        "    file_name = df2.loc[i, 'file_name']\n",
        "    file_path = os.path.join(\"/content/drive/MyDrive/haber_research/box_data/raw_film\", file_name)\n",
        "    folder_name = df2.loc[i, 'folder_names']\n",
        "    folder_name = os.path.join(\"/content/drive/MyDrive\",folder_name)\n",
        "    #print(file_name,folder_name)\n",
        "\n",
        "    interval = 3\n",
        "\n",
        "    # Open the video file\n",
        "    cap = cv2.VideoCapture(file_path)\n",
        "\n",
        "    # Get the frames per second (fps) and total number of frames\n",
        "    fps = cap.get(cv2.CAP_PROP_FPS)\n",
        "    total_frames = int(cap.get(cv2.CAP_PROP_FRAME_COUNT))\n",
        "\n",
        "    # Calculate the frame interval in frames\n",
        "    frame_interval = int(fps * interval)\n",
        "\n",
        "    # Extract and save one frame at each specified time interval\n",
        "    for j in range(0, total_frames, frame_interval):\n",
        "        # Set the frame position and read the frame\n",
        "        cap.set(cv2.CAP_PROP_POS_FRAMES, j)\n",
        "        success, frame = cap.read()\n",
        "\n",
        "        # If frame reading was successful, save the frame\n",
        "        if success:\n",
        "            frame_name = f\"frame_{j}.jpg\"\n",
        "            frame_path = os.path.join(folder_name, frame_name)\n",
        "            cv2.imwrite(frame_path, frame)\n",
        "\n",
        "    cap.release()"
      ]
    }
  ],
  "metadata": {
    "accelerator": "GPU",
    "colab": {
      "provenance": []
    },
    "gpuClass": "standard",
    "kernelspec": {
      "display_name": "Python 3",
      "name": "python3"
    },
    "language_info": {
      "name": "python"
    }
  },
  "nbformat": 4,
  "nbformat_minor": 0
}
