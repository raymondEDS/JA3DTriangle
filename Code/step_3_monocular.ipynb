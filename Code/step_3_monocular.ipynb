{
  "cells": [
    {
      "cell_type": "code",
      "execution_count": null,
      "metadata": {
        "colab": {
          "base_uri": "https://localhost:8080/"
        },
        "id": "brfsvfWFUjBA",
        "outputId": "8d276551-1533-442f-e2fa-04e836e517c2"
      },
      "outputs": [],
      "source": [
        "! pip install transformers datasets\n",
        "! pip install accelerate"
      ]
    },
    {
      "cell_type": "code",
      "execution_count": null,
      "metadata": {
        "id": "Vw6lKxyUuiV-"
      },
      "outputs": [],
      "source": [
        "from transformers import DPTImageProcessor, DPTForDepthEstimation\n",
        "import torch\n",
        "import numpy as np\n",
        "from PIL import Image\n",
        "import requests\n",
        "import cv2\n",
        "import matplotlib.pyplot as plt\n",
        "from mpl_toolkits import mplot3d\n",
        "import tqdm\n",
        "from scipy.spatial import distance\n",
        "from mpl_toolkits.mplot3d import axes3d\n",
        "from mpl_toolkits.mplot3d.art3d import Poly3DCollection \n",
        "from matplotlib import style"
      ]
    },
    {
      "cell_type": "code",
      "execution_count": null,
      "metadata": {
        "colab": {
          "base_uri": "https://localhost:8080/"
        },
        "id": "2K_BydbxuhRy",
        "outputId": "2c1ea2ae-2f8e-4622-dadc-c10be14ce641"
      },
      "outputs": [
        {
          "name": "stdout",
          "output_type": "stream",
          "text": [
            "Mounted at /content/drive\n"
          ]
        }
      ],
      "source": [
        "from google.colab import drive\n",
        "\n",
        "drive.mount('/content/drive', force_remount=True)"
      ]
    },
    {
      "cell_type": "code",
      "execution_count": null,
      "metadata": {
        "id": "kQWqEHE2gxhx"
      },
      "outputs": [],
      "source": [
        "i1 = \"/content/drive/MyDrive/ifind_hand_label_data/Frame number-65 Video Name- FC148ESE:FC148ESE_raw_clip_example_1.png\"\n",
        "il_object = np.array([792, 796])\n",
        "i1_child = np.array([[960, 540], [768, 364]])\n",
        "i1_parent = np.array(((840, 310), (1080, 135)))\n",
        "\n",
        "i2 = \"/content/drive/MyDrive/ifind_hand_label_data/Frame number-151 Video Name- FC126ESE:FC126ESE_raw_clip_example_0.png\"\n",
        "i2_object = np.array([960, 531])\n",
        "i2_child = np.array([[960, 180], [1152, 405]])\n",
        "i2_parent = np.array([[432, 90], [624, 315]])\n",
        "\n",
        "i3 = \"/content/drive/MyDrive/ifind_hand_label_data/Frame number-344 Video Name- FC107EEB:FC107EEB_raw_clip_example_0.png\"\n",
        "i3_object = np.array([320, 540])\n",
        "i3_child = np.array(((355, 216), (473, 338)))\n",
        "i3_parent = np.array(((720, 135), (936, 472)))\n",
        "\n",
        "i4 = \"/content/drive/MyDrive/ifind_hand_label_data/Frame number-149 Video Name- FC148EBF:FC148EBF_raw_clip_example_1.png\"\n",
        "i4_object = np.array((1680, 742))\n",
        "i4_child = np.array([[355, 216], [473, 338]])\n",
        "i4_parent = np.array([[972, 86], [844, 244]])\n",
        "\n",
        "i5 = \"/content/drive/MyDrive/ifind_hand_label_data/WB003ENM_raw_clip_example_14_frame_69_y.jpg\"\n",
        "i5_object = np.array(( 1919 , 1079 ))\n",
        "i5_child = np.array(((1017, 486), (1248, 702)))\n",
        "i5_parent = np.array(((864, 453), (576, 162)))\n",
        "\n",
        "\n",
        "i6 = \"/content/drive/MyDrive/ifind_hand_label_data/FS019ESF_raw_clip_example_12_frame_19_y.jpg\"\n",
        "i6_object = np.array(( 1279 ,719) )\n",
        "i6_child = np.array(((358, 396), (524, 540)))\n",
        "i6_parent = np.array(((537, 432), (678, 251)))\n",
        "\n",
        "\n",
        "i7 = \"/content/drive/MyDrive/ifind_hand_label_data/FC126F05_2of2_frame_432_y.jpg\"\n",
        "i7_object = np.array(( 479 ,359))\n",
        "i7_child = np.array(((254, 162), (312, 234)))\n",
        "i7_parent = np.array(((216, 151), (144, 54)))\n",
        "\n",
        "\n",
        "i8 = \"/content/drive/MyDrive/ifind_hand_label_data/frame_1.jpg\"\n",
        "i8_object = np.array((719 , 660))\n",
        "i8_child = np.array(((947, 338), (1088, 482)))\n",
        "i8_parent = np.array(((486, 338), (652, 122)))"
      ]
    },
    {
      "cell_type": "code",
      "execution_count": null,
      "metadata": {
        "colab": {
          "base_uri": "https://localhost:8080/",
          "height": 168,
          "referenced_widgets": [
            "4f7e65ae87ad4a78896c04842d9135dc",
            "31d3b05a879641a4b23c611ca1839232",
            "c30cdc524f714d6ea8182840a4e89a9a",
            "5fd731d20ff84ad4b1fe558b000d509a",
            "2774281d4d0240e1a2e0c0a4418959df",
            "f0ae5b66579744569066f15365207640",
            "f71f14cb550b4afda00b82c3368b33a2",
            "2eed1e205dcd4305b04b8a58af76c55e",
            "62c5c8b3a5d549ec8396213ff9163f5e",
            "ebe3c7e87b8740a5b784a39047b75097",
            "2d9b1e68c1014955bbf0af32b6bd021f",
            "9e02021d4fec434e9af8f9425b87b232",
            "aa9fd88749d94bad8cb0e5ab924d33c2",
            "b02335329135489598aaed72dabc9f86",
            "f520b3ec8a9f4aacae4995922eda26a3",
            "c0a6f919c301459a994c203c86ad3325",
            "2759eaa135f145a9981c8e9180607a8f",
            "d5db6b9d57164d54a8fdd9c4091f6497",
            "fd1edeccdbc84c6aa4b92a41bad0db99",
            "85ecbf65165049ae93fb017e8d67c93e",
            "58dd8ab472eb426bb046c258ec2c113c",
            "13ef781da9aa4add8901199d479f6c8e",
            "b76145ba3155486bb61c4c6c1652da0e",
            "9187b469b0bd4947b45c591ff0efd6c7",
            "63f0978cec6c4d9fa8849b27ae77e47c",
            "56fcc901941e471d93d98481750a5acc",
            "a8dec44920954431b77686fa5050be73",
            "d558b484c8f24a069c63d195c741388f",
            "a3be8e527920442b962da26fcf541b3f",
            "034c66845b7e49f0ab35638070462347",
            "61fc3a94872e4c4980ce48b7336c899a",
            "c048839f9dfa49ed811373d256bde17e",
            "cdea5d4293e247bcbf2b72f1f76151d7"
          ]
        },
        "id": "0SXjHU-Y0C4t",
        "outputId": "60fb57d0-1307-4468-d226-5a318049aed8"
      },
      "outputs": [
        {
          "data": {
            "application/vnd.jupyter.widget-view+json": {
              "model_id": "4f7e65ae87ad4a78896c04842d9135dc",
              "version_major": 2,
              "version_minor": 0
            },
            "text/plain": [
              "Downloading (…)rocessor_config.json:   0%|          | 0.00/285 [00:00<?, ?B/s]"
            ]
          },
          "metadata": {},
          "output_type": "display_data"
        },
        {
          "data": {
            "application/vnd.jupyter.widget-view+json": {
              "model_id": "9e02021d4fec434e9af8f9425b87b232",
              "version_major": 2,
              "version_minor": 0
            },
            "text/plain": [
              "Downloading (…)lve/main/config.json:   0%|          | 0.00/942 [00:00<?, ?B/s]"
            ]
          },
          "metadata": {},
          "output_type": "display_data"
        },
        {
          "data": {
            "application/vnd.jupyter.widget-view+json": {
              "model_id": "b76145ba3155486bb61c4c6c1652da0e",
              "version_major": 2,
              "version_minor": 0
            },
            "text/plain": [
              "Downloading pytorch_model.bin:   0%|          | 0.00/1.37G [00:00<?, ?B/s]"
            ]
          },
          "metadata": {},
          "output_type": "display_data"
        },
        {
          "name": "stderr",
          "output_type": "stream",
          "text": [
            "Some weights of DPTForDepthEstimation were not initialized from the model checkpoint at Intel/dpt-large and are newly initialized: ['neck.fusion_stage.layers.0.residual_layer1.convolution1.bias', 'neck.fusion_stage.layers.0.residual_layer1.convolution1.weight', 'neck.fusion_stage.layers.0.residual_layer1.convolution2.bias', 'neck.fusion_stage.layers.0.residual_layer1.convolution2.weight']\n",
            "You should probably TRAIN this model on a down-stream task to be able to use it for predictions and inference.\n"
          ]
        }
      ],
      "source": [
        "  processor = DPTImageProcessor.from_pretrained(\"Intel/dpt-large\")\n",
        "  model = DPTForDepthEstimation.from_pretrained(\"Intel/dpt-large\")"
      ]
    },
    {
      "cell_type": "code",
      "execution_count": null,
      "metadata": {
        "id": "2fNeAIeFVzob"
      },
      "outputs": [],
      "source": [
        "def get_boxpoints(points):\n",
        "  # Compute the width and height of the box\n",
        "  width = points[1][0] - points[0][0]\n",
        "  height = points[1][1] - points[0][1]\n",
        "\n",
        "  # Create two new points that complete the box\n",
        "  point3 = [points[0][0], points[0][1]+height]\n",
        "  point4 = [points[1][0], points[1][1]-height]\n",
        "\n",
        "  # Combine the four points into an array\n",
        "  box_points = np.array([points[0], point3, points[1], point4])\n",
        "  return box_points\n",
        "\n",
        "\n",
        "def get_midpoint(points):\n",
        "  avg_x = np.mean(points[:, 0])\n",
        "  avg_y = np.mean(points[:, 1])\n",
        "\n",
        "  # Create a new point that represents the middle of the box\n",
        "  middle_point = np.array([avg_x, avg_y]).astype(int)\n",
        "  return middle_point\n",
        "\n",
        "def get_z_coordinate( formatted, point):\n",
        "  return np.hstack((point, formatted[point[1],point[0]]))\n",
        "\n",
        "def get_z_coordinate_object( formatted, point):\n",
        "  return np.hstack((point, formatted[point[0],point[1]]))\n",
        "\n",
        "def get_triangle_area(p1,p2,p3):\n",
        "  v1 = p2 - p1\n",
        "  v2 = p3 - p1\n",
        "\n",
        "  # Calculate the cross product of the two vectors\n",
        "  cross = np.cross(v1, v2)\n",
        "\n",
        "  # Calculate the area of the triangle as half the magnitude of the cross product\n",
        "  area =  0.5 * distance.euclidean(cross, np.array([0, 0, 0]))\n",
        "  return area\n",
        "\n",
        "def get_depth(i,processor,model):\n",
        "  image = Image.open(i)\n",
        "\n",
        "\n",
        "  #processor = DPTImageProcessor.from_pretrained(\"Intel/dpt-large\")\n",
        "  #model = DPTForDepthEstimation.from_pretrained(\"Intel/dpt-large\")\n",
        "\n",
        "  # prepare image for the model\n",
        "  inputs = processor(images=image, return_tensors=\"pt\")\n",
        "\n",
        "  with torch.no_grad():\n",
        "      outputs = model(**inputs)\n",
        "      predicted_depth = outputs.predicted_depth\n",
        "\n",
        "  # interpolate to original size\n",
        "  prediction = torch.nn.functional.interpolate(\n",
        "      predicted_depth.unsqueeze(1),\n",
        "      size=image.size[::-1],\n",
        "      mode=\"bicubic\",\n",
        "      align_corners=False,\n",
        "  )\n",
        "\n",
        "  # visualize the prediction\n",
        "  output = prediction.squeeze().cpu().numpy()\n",
        "  formatted = (output * 255 / np.max(output)).astype(\"uint8\")\n",
        "  return formatted"
      ]
    },
    {
      "cell_type": "code",
      "execution_count": null,
      "metadata": {
        "colab": {
          "base_uri": "https://localhost:8080/"
        },
        "id": "V8keP8gHuyJ0",
        "outputId": "6d607571-46b8-4c38-f1df-0232fd0006b5"
      },
      "outputs": [
        {
          "name": "stderr",
          "output_type": "stream",
          "text": [
            "\r  0%|          | 0/8 [00:00<?, ?it/s]"
          ]
        },
        {
          "name": "stdout",
          "output_type": "stream",
          "text": [
            "/content/drive/MyDrive/ifind_hand_label_data/Frame number-65 Video Name- FC148ESE:FC148ESE_raw_clip_example_1.png\n"
          ]
        },
        {
          "name": "stderr",
          "output_type": "stream",
          "text": [
            "\r 12%|█▎        | 1/8 [00:09<01:04,  9.21s/it]"
          ]
        },
        {
          "name": "stdout",
          "output_type": "stream",
          "text": [
            "(1080, 1920)\n",
            "/content/drive/MyDrive/ifind_hand_label_data/Frame number-151 Video Name- FC126ESE:FC126ESE_raw_clip_example_0.png\n"
          ]
        },
        {
          "name": "stderr",
          "output_type": "stream",
          "text": [
            "\r 25%|██▌       | 2/8 [00:18<00:55,  9.20s/it]"
          ]
        },
        {
          "name": "stdout",
          "output_type": "stream",
          "text": [
            "(720, 1280)\n",
            "/content/drive/MyDrive/ifind_hand_label_data/Frame number-344 Video Name- FC107EEB:FC107EEB_raw_clip_example_0.png\n"
          ]
        },
        {
          "name": "stderr",
          "output_type": "stream",
          "text": [
            "\r 38%|███▊      | 3/8 [00:28<00:47,  9.46s/it]"
          ]
        },
        {
          "name": "stdout",
          "output_type": "stream",
          "text": [
            "(720, 1280)\n",
            "/content/drive/MyDrive/ifind_hand_label_data/Frame number-149 Video Name- FC148EBF:FC148EBF_raw_clip_example_1.png\n"
          ]
        },
        {
          "name": "stderr",
          "output_type": "stream",
          "text": [
            "\r 50%|█████     | 4/8 [00:35<00:34,  8.70s/it]"
          ]
        },
        {
          "name": "stdout",
          "output_type": "stream",
          "text": [
            "(1080, 1920)\n",
            "/content/drive/MyDrive/ifind_hand_label_data/WB003ENM_raw_clip_example_14_frame_69_y.jpg\n"
          ]
        },
        {
          "name": "stderr",
          "output_type": "stream",
          "text": [
            "\r 62%|██████▎   | 5/8 [00:45<00:27,  9.08s/it]"
          ]
        },
        {
          "name": "stdout",
          "output_type": "stream",
          "text": [
            "(1080, 1920)\n",
            "/content/drive/MyDrive/ifind_hand_label_data/FS019ESF_raw_clip_example_12_frame_19_y.jpg\n"
          ]
        },
        {
          "name": "stderr",
          "output_type": "stream",
          "text": [
            "\r 75%|███████▌  | 6/8 [00:53<00:17,  8.80s/it]"
          ]
        },
        {
          "name": "stdout",
          "output_type": "stream",
          "text": [
            "(720, 1280)\n",
            "/content/drive/MyDrive/ifind_hand_label_data/FC126F05_2of2_frame_432_y.jpg\n"
          ]
        },
        {
          "name": "stderr",
          "output_type": "stream",
          "text": [
            "\r 88%|████████▊ | 7/8 [01:03<00:08,  8.99s/it]"
          ]
        },
        {
          "name": "stdout",
          "output_type": "stream",
          "text": [
            "(360, 480)\n",
            "/content/drive/MyDrive/ifind_hand_label_data/frame_1.jpg\n"
          ]
        },
        {
          "name": "stderr",
          "output_type": "stream",
          "text": [
            "100%|██████████| 8/8 [01:12<00:00,  9.07s/it]"
          ]
        },
        {
          "name": "stdout",
          "output_type": "stream",
          "text": [
            "(720, 1280)\n"
          ]
        },
        {
          "name": "stderr",
          "output_type": "stream",
          "text": [
            "\n"
          ]
        }
      ],
      "source": [
        "images = [[i1,il_object,i1_child,i1_parent],\n",
        "          [i2,i2_object,i2_child,i2_parent],\n",
        "          [i3,i3_object,i3_child,i3_parent],\n",
        "          [i4,i4_object,i4_child,i4_parent],\n",
        "          [i5,i5_object,i5_child,i5_parent],\n",
        "          [i6,i6_object,i6_child,i6_parent],\n",
        "          [i7,i7_object,i7_child,i7_parent],\n",
        "          [i8,i8_object,i8_child,i8_parent]]\n",
        "areas = []\n",
        "for L in tqdm.tqdm(images):\n",
        "  print(L[0])\n",
        "  formatted = get_depth(L[0],processor,model)\n",
        "  print(formatted.shape)\n",
        "  point1 = get_midpoint(L[2])\n",
        "  point2 = get_midpoint(L[3])\n",
        "  p1 = get_z_coordinate(formatted,L[1])\n",
        "  p2 = get_z_coordinate(formatted,point1)\n",
        "  p3 = get_z_coordinate(formatted,point2)\n",
        "  a = get_triangle_area(p1,p2,p3) / (formatted.shape[0] * formatted.shape[1] )\n",
        "  areas.append(a)\n"
      ]
    },
    {
      "cell_type": "code",
      "execution_count": null,
      "metadata": {
        "colab": {
          "base_uri": "https://localhost:8080/",
          "height": 293
        },
        "id": "EQAdUZk-1Eo6",
        "outputId": "1bd722d3-9685-41fe-977a-bda55d98a972"
      },
      "outputs": [
        {
          "data": {
            "image/png": "[encoded data removed]",
            "text/plain": [
              "<Figure size 720x360 with 1 Axes>"
            ]
          },
          "metadata": {
            "needs_background": "light"
          },
          "output_type": "display_data"
        }
      ],
      "source": [
        "#https://stackoverflow.com/questions/54859741/how-to-create-3d-triangle-with-3-point-using-matplotlib-python\n",
        "formatted = get_depth(i8,processor,model)\n",
        "plt.figure('SPLTV',figsize=(10,5))\n",
        "custom=plt.subplot(121,projection='3d')\n",
        "\n",
        "x1= get_z_coordinate(formatted,i8_object)\n",
        "\n",
        "y1=get_z_coordinate(formatted,get_midpoint(i8_child))\n",
        "z1=get_z_coordinate(formatted,get_midpoint(i8_parent))\n",
        "\n",
        "\n",
        "custom.scatter(x1,y1,z1)\n",
        "\n",
        "# 1. create vertices from points\n",
        "verts = [list(zip(x1, y1, z1))]\n",
        "# 2. create 3d polygons and specify parameters\n",
        "srf = Poly3DCollection(verts, alpha=.25, facecolor='#800000')\n",
        "# 3. add polygon to the figure (current axes)\n",
        "plt.gca().add_collection3d(srf)\n",
        "\n",
        "custom.set_xlim3d(0, formatted.shape[0])\n",
        "custom.set_ylim3d(0, formatted.shape[1])\n",
        "custom.set_xlabel('X')\n",
        "custom.set_ylabel('Y')\n",
        "custom.set_zlabel('Z')\n",
        "plt.show()"
      ]
    },
    {
      "cell_type": "code",
      "execution_count": null,
      "metadata": {
        "colab": {
          "base_uri": "https://localhost:8080/",
          "height": 240
        },
        "id": "LRFxvjRKY8iN",
        "outputId": "e0d0e3d8-2fca-4b01-ac0a-164c31cfa567"
      },
      "outputs": [
        {
          "data": {
            "image/png": "[encoded data removed]",
            "text/plain": [
              "<Figure size 432x288 with 1 Axes>"
            ]
          },
          "metadata": {
            "needs_background": "light"
          },
          "output_type": "display_data"
        }
      ],
      "source": [
        "image_copy = np.array(depth)\n",
        "points = get_boxpoints(i8_child)\n",
        "points1 = get_boxpoints(i8_parent)\n",
        "point3 = get_midpoint(i8_parent)\n",
        "point4 = get_midpoint(i8_child)\n",
        "\n",
        "plt.scatter(i8_object[0], i8_object[1], s=10, color='red')\n",
        "plt.plot(points[:, 0], points[:, 1], color='red', linewidth=2)\n",
        "plt.plot([points[0][0], points[-1][0]], [points[0][1], points[-1][1]], color='red', linewidth=2)\n",
        "plt.plot(points1[:, 0], points1[:, 1], color='red', linewidth=2)\n",
        "plt.plot([points1[0][0], points1[-1][0]], [points1[0][1], points1[-1][1]], color='red', linewidth=2)\n",
        "plt.scatter(point3[0], point3[1], s=10, color='red')\n",
        "plt.plot([points1[0][0], points1[-1][0]], [points1[0][1], points1[-1][1]], color='red', linewidth=2)\n",
        "plt.scatter(point4[0], point4[1], s=10, color='red')\n",
        "plt.imshow(image_copy)\n",
        "plt.show()"
      ]
    },
    {
      "cell_type": "code",
      "execution_count": null,
      "metadata": {
        "colab": {
          "base_uri": "https://localhost:8080/",
          "height": 240
        },
        "id": "0OqlNEwhS_TQ",
        "outputId": "36c99043-1fa8-4215-9c74-3a6bcfcd9281"
      },
      "outputs": [
        {
          "data": {
            "image/png": "[encoded data removed]",
            "text/plain": [
              "<Figure size 432x288 with 1 Axes>"
            ]
          },
          "metadata": {
            "needs_background": "light"
          },
          "output_type": "display_data"
        }
      ],
      "source": [
        "image = Image.open(i3)\n",
        "image_copy = np.array(depth)\n",
        "\n",
        "\n",
        "\n",
        "points = get_boxpoints(i8_child)\n",
        "points1 = get_boxpoints(i8_parent)\n",
        "point3 = get_midpoint(i8_parent)\n",
        "point4 = get_midpoint(i8_child)\n",
        "# Draw a red point at the specified coordinates\n",
        "plt.scatter(i8_object[0], i8_object[1], s=10, color='red')\n",
        "plt.plot(points[:, 0], points[:, 1], color='red', linewidth=2)\n",
        "plt.plot([points[0][0], points[-1][0]], [points[0][1], points[-1][1]], color='red', linewidth=2)\n",
        "plt.plot(points1[:, 0], points1[:, 1], color='red', linewidth=2)\n",
        "plt.plot([points1[0][0], points1[-1][0]], [points1[0][1], points1[-1][1]], color='red', linewidth=2)\n",
        "plt.scatter(point3[0], point3[1], s=10, color='red')\n",
        "plt.plot([points1[0][0], points1[-1][0]], [points1[0][1], points1[-1][1]], color='red', linewidth=2)\n",
        "plt.scatter(point4[0], point4[1], s=10, color='red')\n",
        "plt.imshow(image_copy)\n",
        "plt.show()"
      ]
    }
  ],
  "metadata": {
    "accelerator": "GPU",
    "colab": {
      "provenance": []
    },
    "gpuClass": "standard",
    "kernelspec": {
      "display_name": "Python 3",
      "name": "python3"
    },
    "language_info": {
      "name": "python"
    },
    "widgets": {
      "application/vnd.jupyter.widget-state+json": {
        "034c66845b7e49f0ab35638070462347": {
          "model_module": "@jupyter-widgets/base",
          "model_module_version": "1.2.0",
          "model_name": "LayoutModel",
          "state": {
            "_model_module": "@jupyter-widgets/base",
            "_model_module_version": "1.2.0",
            "_model_name": "LayoutModel",
            "_view_count": null,
            "_view_module": "@jupyter-widgets/base",
            "_view_module_version": "1.2.0",
            "_view_name": "LayoutView",
            "align_content": null,
            "align_items": null,
            "align_self": null,
            "border": null,
            "bottom": null,
            "display": null,
            "flex": null,
            "flex_flow": null,
            "grid_area": null,
            "grid_auto_columns": null,
            "grid_auto_flow": null,
            "grid_auto_rows": null,
            "grid_column": null,
            "grid_gap": null,
            "grid_row": null,
            "grid_template_areas": null,
            "grid_template_columns": null,
            "grid_template_rows": null,
            "height": null,
            "justify_content": null,
            "justify_items": null,
            "left": null,
            "margin": null,
            "max_height": null,
            "max_width": null,
            "min_height": null,
            "min_width": null,
            "object_fit": null,
            "object_position": null,
            "order": null,
            "overflow": null,
            "overflow_x": null,
            "overflow_y": null,
            "padding": null,
            "right": null,
            "top": null,
            "visibility": null,
            "width": null
          }
        },
        "13ef781da9aa4add8901199d479f6c8e": {
          "model_module": "@jupyter-widgets/controls",
          "model_module_version": "1.5.0",
          "model_name": "DescriptionStyleModel",
          "state": {
            "_model_module": "@jupyter-widgets/controls",
            "_model_module_version": "1.5.0",
            "_model_name": "DescriptionStyleModel",
            "_view_count": null,
            "_view_module": "@jupyter-widgets/base",
            "_view_module_version": "1.2.0",
            "_view_name": "StyleView",
            "description_width": ""
          }
        },
        "2759eaa135f145a9981c8e9180607a8f": {
          "model_module": "@jupyter-widgets/base",
          "model_module_version": "1.2.0",
          "model_name": "LayoutModel",
          "state": {
            "_model_module": "@jupyter-widgets/base",
            "_model_module_version": "1.2.0",
            "_model_name": "LayoutModel",
            "_view_count": null,
            "_view_module": "@jupyter-widgets/base",
            "_view_module_version": "1.2.0",
            "_view_name": "LayoutView",
            "align_content": null,
            "align_items": null,
            "align_self": null,
            "border": null,
            "bottom": null,
            "display": null,
            "flex": null,
            "flex_flow": null,
            "grid_area": null,
            "grid_auto_columns": null,
            "grid_auto_flow": null,
            "grid_auto_rows": null,
            "grid_column": null,
            "grid_gap": null,
            "grid_row": null,
            "grid_template_areas": null,
            "grid_template_columns": null,
            "grid_template_rows": null,
            "height": null,
            "justify_content": null,
            "justify_items": null,
            "left": null,
            "margin": null,
            "max_height": null,
            "max_width": null,
            "min_height": null,
            "min_width": null,
            "object_fit": null,
            "object_position": null,
            "order": null,
            "overflow": null,
            "overflow_x": null,
            "overflow_y": null,
            "padding": null,
            "right": null,
            "top": null,
            "visibility": null,
            "width": null
          }
        },
        "2774281d4d0240e1a2e0c0a4418959df": {
          "model_module": "@jupyter-widgets/base",
          "model_module_version": "1.2.0",
          "model_name": "LayoutModel",
          "state": {
            "_model_module": "@jupyter-widgets/base",
            "_model_module_version": "1.2.0",
            "_model_name": "LayoutModel",
            "_view_count": null,
            "_view_module": "@jupyter-widgets/base",
            "_view_module_version": "1.2.0",
            "_view_name": "LayoutView",
            "align_content": null,
            "align_items": null,
            "align_self": null,
            "border": null,
            "bottom": null,
            "display": null,
            "flex": null,
            "flex_flow": null,
            "grid_area": null,
            "grid_auto_columns": null,
            "grid_auto_flow": null,
            "grid_auto_rows": null,
            "grid_column": null,
            "grid_gap": null,
            "grid_row": null,
            "grid_template_areas": null,
            "grid_template_columns": null,
            "grid_template_rows": null,
            "height": null,
            "justify_content": null,
            "justify_items": null,
            "left": null,
            "margin": null,
            "max_height": null,
            "max_width": null,
            "min_height": null,
            "min_width": null,
            "object_fit": null,
            "object_position": null,
            "order": null,
            "overflow": null,
            "overflow_x": null,
            "overflow_y": null,
            "padding": null,
            "right": null,
            "top": null,
            "visibility": null,
            "width": null
          }
        },
        "2d9b1e68c1014955bbf0af32b6bd021f": {
          "model_module": "@jupyter-widgets/controls",
          "model_module_version": "1.5.0",
          "model_name": "DescriptionStyleModel",
          "state": {
            "_model_module": "@jupyter-widgets/controls",
            "_model_module_version": "1.5.0",
            "_model_name": "DescriptionStyleModel",
            "_view_count": null,
            "_view_module": "@jupyter-widgets/base",
            "_view_module_version": "1.2.0",
            "_view_name": "StyleView",
            "description_width": ""
          }
        },
        "2eed1e205dcd4305b04b8a58af76c55e": {
          "model_module": "@jupyter-widgets/base",
          "model_module_version": "1.2.0",
          "model_name": "LayoutModel",
          "state": {
            "_model_module": "@jupyter-widgets/base",
            "_model_module_version": "1.2.0",
            "_model_name": "LayoutModel",
            "_view_count": null,
            "_view_module": "@jupyter-widgets/base",
            "_view_module_version": "1.2.0",
            "_view_name": "LayoutView",
            "align_content": null,
            "align_items": null,
            "align_self": null,
            "border": null,
            "bottom": null,
            "display": null,
            "flex": null,
            "flex_flow": null,
            "grid_area": null,
            "grid_auto_columns": null,
            "grid_auto_flow": null,
            "grid_auto_rows": null,
            "grid_column": null,
            "grid_gap": null,
            "grid_row": null,
            "grid_template_areas": null,
            "grid_template_columns": null,
            "grid_template_rows": null,
            "height": null,
            "justify_content": null,
            "justify_items": null,
            "left": null,
            "margin": null,
            "max_height": null,
            "max_width": null,
            "min_height": null,
            "min_width": null,
            "object_fit": null,
            "object_position": null,
            "order": null,
            "overflow": null,
            "overflow_x": null,
            "overflow_y": null,
            "padding": null,
            "right": null,
            "top": null,
            "visibility": null,
            "width": null
          }
        },
        "31d3b05a879641a4b23c611ca1839232": {
          "model_module": "@jupyter-widgets/controls",
          "model_module_version": "1.5.0",
          "model_name": "HTMLModel",
          "state": {
            "_dom_classes": [],
            "_model_module": "@jupyter-widgets/controls",
            "_model_module_version": "1.5.0",
            "_model_name": "HTMLModel",
            "_view_count": null,
            "_view_module": "@jupyter-widgets/controls",
            "_view_module_version": "1.5.0",
            "_view_name": "HTMLView",
            "description": "",
            "description_tooltip": null,
            "layout": "IPY_MODEL_f0ae5b66579744569066f15365207640",
            "placeholder": "​",
            "style": "IPY_MODEL_f71f14cb550b4afda00b82c3368b33a2",
            "value": "Downloading (…)rocessor_config.json: 100%"
          }
        },
        "4f7e65ae87ad4a78896c04842d9135dc": {
          "model_module": "@jupyter-widgets/controls",
          "model_module_version": "1.5.0",
          "model_name": "HBoxModel",
          "state": {
            "_dom_classes": [],
            "_model_module": "@jupyter-widgets/controls",
            "_model_module_version": "1.5.0",
            "_model_name": "HBoxModel",
            "_view_count": null,
            "_view_module": "@jupyter-widgets/controls",
            "_view_module_version": "1.5.0",
            "_view_name": "HBoxView",
            "box_style": "",
            "children": [
              "IPY_MODEL_31d3b05a879641a4b23c611ca1839232",
              "IPY_MODEL_c30cdc524f714d6ea8182840a4e89a9a",
              "IPY_MODEL_5fd731d20ff84ad4b1fe558b000d509a"
            ],
            "layout": "IPY_MODEL_2774281d4d0240e1a2e0c0a4418959df"
          }
        },
        "56fcc901941e471d93d98481750a5acc": {
          "model_module": "@jupyter-widgets/controls",
          "model_module_version": "1.5.0",
          "model_name": "HTMLModel",
          "state": {
            "_dom_classes": [],
            "_model_module": "@jupyter-widgets/controls",
            "_model_module_version": "1.5.0",
            "_model_name": "HTMLModel",
            "_view_count": null,
            "_view_module": "@jupyter-widgets/controls",
            "_view_module_version": "1.5.0",
            "_view_name": "HTMLView",
            "description": "",
            "description_tooltip": null,
            "layout": "IPY_MODEL_c048839f9dfa49ed811373d256bde17e",
            "placeholder": "​",
            "style": "IPY_MODEL_cdea5d4293e247bcbf2b72f1f76151d7",
            "value": " 1.37G/1.37G [00:14&lt;00:00, 75.6MB/s]"
          }
        },
        "58dd8ab472eb426bb046c258ec2c113c": {
          "model_module": "@jupyter-widgets/base",
          "model_module_version": "1.2.0",
          "model_name": "LayoutModel",
          "state": {
            "_model_module": "@jupyter-widgets/base",
            "_model_module_version": "1.2.0",
            "_model_name": "LayoutModel",
            "_view_count": null,
            "_view_module": "@jupyter-widgets/base",
            "_view_module_version": "1.2.0",
            "_view_name": "LayoutView",
            "align_content": null,
            "align_items": null,
            "align_self": null,
            "border": null,
            "bottom": null,
            "display": null,
            "flex": null,
            "flex_flow": null,
            "grid_area": null,
            "grid_auto_columns": null,
            "grid_auto_flow": null,
            "grid_auto_rows": null,
            "grid_column": null,
            "grid_gap": null,
            "grid_row": null,
            "grid_template_areas": null,
            "grid_template_columns": null,
            "grid_template_rows": null,
            "height": null,
            "justify_content": null,
            "justify_items": null,
            "left": null,
            "margin": null,
            "max_height": null,
            "max_width": null,
            "min_height": null,
            "min_width": null,
            "object_fit": null,
            "object_position": null,
            "order": null,
            "overflow": null,
            "overflow_x": null,
            "overflow_y": null,
            "padding": null,
            "right": null,
            "top": null,
            "visibility": null,
            "width": null
          }
        },
        "5fd731d20ff84ad4b1fe558b000d509a": {
          "model_module": "@jupyter-widgets/controls",
          "model_module_version": "1.5.0",
          "model_name": "HTMLModel",
          "state": {
            "_dom_classes": [],
            "_model_module": "@jupyter-widgets/controls",
            "_model_module_version": "1.5.0",
            "_model_name": "HTMLModel",
            "_view_count": null,
            "_view_module": "@jupyter-widgets/controls",
            "_view_module_version": "1.5.0",
            "_view_name": "HTMLView",
            "description": "",
            "description_tooltip": null,
            "layout": "IPY_MODEL_ebe3c7e87b8740a5b784a39047b75097",
            "placeholder": "​",
            "style": "IPY_MODEL_2d9b1e68c1014955bbf0af32b6bd021f",
            "value": " 285/285 [00:00&lt;00:00, 3.85kB/s]"
          }
        },
        "61fc3a94872e4c4980ce48b7336c899a": {
          "model_module": "@jupyter-widgets/controls",
          "model_module_version": "1.5.0",
          "model_name": "ProgressStyleModel",
          "state": {
            "_model_module": "@jupyter-widgets/controls",
            "_model_module_version": "1.5.0",
            "_model_name": "ProgressStyleModel",
            "_view_count": null,
            "_view_module": "@jupyter-widgets/base",
            "_view_module_version": "1.2.0",
            "_view_name": "StyleView",
            "bar_color": null,
            "description_width": ""
          }
        },
        "62c5c8b3a5d549ec8396213ff9163f5e": {
          "model_module": "@jupyter-widgets/controls",
          "model_module_version": "1.5.0",
          "model_name": "ProgressStyleModel",
          "state": {
            "_model_module": "@jupyter-widgets/controls",
            "_model_module_version": "1.5.0",
            "_model_name": "ProgressStyleModel",
            "_view_count": null,
            "_view_module": "@jupyter-widgets/base",
            "_view_module_version": "1.2.0",
            "_view_name": "StyleView",
            "bar_color": null,
            "description_width": ""
          }
        },
        "63f0978cec6c4d9fa8849b27ae77e47c": {
          "model_module": "@jupyter-widgets/controls",
          "model_module_version": "1.5.0",
          "model_name": "FloatProgressModel",
          "state": {
            "_dom_classes": [],
            "_model_module": "@jupyter-widgets/controls",
            "_model_module_version": "1.5.0",
            "_model_name": "FloatProgressModel",
            "_view_count": null,
            "_view_module": "@jupyter-widgets/controls",
            "_view_module_version": "1.5.0",
            "_view_name": "ProgressView",
            "bar_style": "success",
            "description": "",
            "description_tooltip": null,
            "layout": "IPY_MODEL_034c66845b7e49f0ab35638070462347",
            "max": 1367581165,
            "min": 0,
            "orientation": "horizontal",
            "style": "IPY_MODEL_61fc3a94872e4c4980ce48b7336c899a",
            "value": 1367581165
          }
        },
        "85ecbf65165049ae93fb017e8d67c93e": {
          "model_module": "@jupyter-widgets/controls",
          "model_module_version": "1.5.0",
          "model_name": "ProgressStyleModel",
          "state": {
            "_model_module": "@jupyter-widgets/controls",
            "_model_module_version": "1.5.0",
            "_model_name": "ProgressStyleModel",
            "_view_count": null,
            "_view_module": "@jupyter-widgets/base",
            "_view_module_version": "1.2.0",
            "_view_name": "StyleView",
            "bar_color": null,
            "description_width": ""
          }
        },
        "9187b469b0bd4947b45c591ff0efd6c7": {
          "model_module": "@jupyter-widgets/controls",
          "model_module_version": "1.5.0",
          "model_name": "HTMLModel",
          "state": {
            "_dom_classes": [],
            "_model_module": "@jupyter-widgets/controls",
            "_model_module_version": "1.5.0",
            "_model_name": "HTMLModel",
            "_view_count": null,
            "_view_module": "@jupyter-widgets/controls",
            "_view_module_version": "1.5.0",
            "_view_name": "HTMLView",
            "description": "",
            "description_tooltip": null,
            "layout": "IPY_MODEL_d558b484c8f24a069c63d195c741388f",
            "placeholder": "​",
            "style": "IPY_MODEL_a3be8e527920442b962da26fcf541b3f",
            "value": "Downloading pytorch_model.bin: 100%"
          }
        },
        "9e02021d4fec434e9af8f9425b87b232": {
          "model_module": "@jupyter-widgets/controls",
          "model_module_version": "1.5.0",
          "model_name": "HBoxModel",
          "state": {
            "_dom_classes": [],
            "_model_module": "@jupyter-widgets/controls",
            "_model_module_version": "1.5.0",
            "_model_name": "HBoxModel",
            "_view_count": null,
            "_view_module": "@jupyter-widgets/controls",
            "_view_module_version": "1.5.0",
            "_view_name": "HBoxView",
            "box_style": "",
            "children": [
              "IPY_MODEL_aa9fd88749d94bad8cb0e5ab924d33c2",
              "IPY_MODEL_b02335329135489598aaed72dabc9f86",
              "IPY_MODEL_f520b3ec8a9f4aacae4995922eda26a3"
            ],
            "layout": "IPY_MODEL_c0a6f919c301459a994c203c86ad3325"
          }
        },
        "a3be8e527920442b962da26fcf541b3f": {
          "model_module": "@jupyter-widgets/controls",
          "model_module_version": "1.5.0",
          "model_name": "DescriptionStyleModel",
          "state": {
            "_model_module": "@jupyter-widgets/controls",
            "_model_module_version": "1.5.0",
            "_model_name": "DescriptionStyleModel",
            "_view_count": null,
            "_view_module": "@jupyter-widgets/base",
            "_view_module_version": "1.2.0",
            "_view_name": "StyleView",
            "description_width": ""
          }
        },
        "a8dec44920954431b77686fa5050be73": {
          "model_module": "@jupyter-widgets/base",
          "model_module_version": "1.2.0",
          "model_name": "LayoutModel",
          "state": {
            "_model_module": "@jupyter-widgets/base",
            "_model_module_version": "1.2.0",
            "_model_name": "LayoutModel",
            "_view_count": null,
            "_view_module": "@jupyter-widgets/base",
            "_view_module_version": "1.2.0",
            "_view_name": "LayoutView",
            "align_content": null,
            "align_items": null,
            "align_self": null,
            "border": null,
            "bottom": null,
            "display": null,
            "flex": null,
            "flex_flow": null,
            "grid_area": null,
            "grid_auto_columns": null,
            "grid_auto_flow": null,
            "grid_auto_rows": null,
            "grid_column": null,
            "grid_gap": null,
            "grid_row": null,
            "grid_template_areas": null,
            "grid_template_columns": null,
            "grid_template_rows": null,
            "height": null,
            "justify_content": null,
            "justify_items": null,
            "left": null,
            "margin": null,
            "max_height": null,
            "max_width": null,
            "min_height": null,
            "min_width": null,
            "object_fit": null,
            "object_position": null,
            "order": null,
            "overflow": null,
            "overflow_x": null,
            "overflow_y": null,
            "padding": null,
            "right": null,
            "top": null,
            "visibility": null,
            "width": null
          }
        },
        "aa9fd88749d94bad8cb0e5ab924d33c2": {
          "model_module": "@jupyter-widgets/controls",
          "model_module_version": "1.5.0",
          "model_name": "HTMLModel",
          "state": {
            "_dom_classes": [],
            "_model_module": "@jupyter-widgets/controls",
            "_model_module_version": "1.5.0",
            "_model_name": "HTMLModel",
            "_view_count": null,
            "_view_module": "@jupyter-widgets/controls",
            "_view_module_version": "1.5.0",
            "_view_name": "HTMLView",
            "description": "",
            "description_tooltip": null,
            "layout": "IPY_MODEL_2759eaa135f145a9981c8e9180607a8f",
            "placeholder": "​",
            "style": "IPY_MODEL_d5db6b9d57164d54a8fdd9c4091f6497",
            "value": "Downloading (…)lve/main/config.json: 100%"
          }
        },
        "b02335329135489598aaed72dabc9f86": {
          "model_module": "@jupyter-widgets/controls",
          "model_module_version": "1.5.0",
          "model_name": "FloatProgressModel",
          "state": {
            "_dom_classes": [],
            "_model_module": "@jupyter-widgets/controls",
            "_model_module_version": "1.5.0",
            "_model_name": "FloatProgressModel",
            "_view_count": null,
            "_view_module": "@jupyter-widgets/controls",
            "_view_module_version": "1.5.0",
            "_view_name": "ProgressView",
            "bar_style": "success",
            "description": "",
            "description_tooltip": null,
            "layout": "IPY_MODEL_fd1edeccdbc84c6aa4b92a41bad0db99",
            "max": 942,
            "min": 0,
            "orientation": "horizontal",
            "style": "IPY_MODEL_85ecbf65165049ae93fb017e8d67c93e",
            "value": 942
          }
        },
        "b76145ba3155486bb61c4c6c1652da0e": {
          "model_module": "@jupyter-widgets/controls",
          "model_module_version": "1.5.0",
          "model_name": "HBoxModel",
          "state": {
            "_dom_classes": [],
            "_model_module": "@jupyter-widgets/controls",
            "_model_module_version": "1.5.0",
            "_model_name": "HBoxModel",
            "_view_count": null,
            "_view_module": "@jupyter-widgets/controls",
            "_view_module_version": "1.5.0",
            "_view_name": "HBoxView",
            "box_style": "",
            "children": [
              "IPY_MODEL_9187b469b0bd4947b45c591ff0efd6c7",
              "IPY_MODEL_63f0978cec6c4d9fa8849b27ae77e47c",
              "IPY_MODEL_56fcc901941e471d93d98481750a5acc"
            ],
            "layout": "IPY_MODEL_a8dec44920954431b77686fa5050be73"
          }
        },
        "c048839f9dfa49ed811373d256bde17e": {
          "model_module": "@jupyter-widgets/base",
          "model_module_version": "1.2.0",
          "model_name": "LayoutModel",
          "state": {
            "_model_module": "@jupyter-widgets/base",
            "_model_module_version": "1.2.0",
            "_model_name": "LayoutModel",
            "_view_count": null,
            "_view_module": "@jupyter-widgets/base",
            "_view_module_version": "1.2.0",
            "_view_name": "LayoutView",
            "align_content": null,
            "align_items": null,
            "align_self": null,
            "border": null,
            "bottom": null,
            "display": null,
            "flex": null,
            "flex_flow": null,
            "grid_area": null,
            "grid_auto_columns": null,
            "grid_auto_flow": null,
            "grid_auto_rows": null,
            "grid_column": null,
            "grid_gap": null,
            "grid_row": null,
            "grid_template_areas": null,
            "grid_template_columns": null,
            "grid_template_rows": null,
            "height": null,
            "justify_content": null,
            "justify_items": null,
            "left": null,
            "margin": null,
            "max_height": null,
            "max_width": null,
            "min_height": null,
            "min_width": null,
            "object_fit": null,
            "object_position": null,
            "order": null,
            "overflow": null,
            "overflow_x": null,
            "overflow_y": null,
            "padding": null,
            "right": null,
            "top": null,
            "visibility": null,
            "width": null
          }
        },
        "c0a6f919c301459a994c203c86ad3325": {
          "model_module": "@jupyter-widgets/base",
          "model_module_version": "1.2.0",
          "model_name": "LayoutModel",
          "state": {
            "_model_module": "@jupyter-widgets/base",
            "_model_module_version": "1.2.0",
            "_model_name": "LayoutModel",
            "_view_count": null,
            "_view_module": "@jupyter-widgets/base",
            "_view_module_version": "1.2.0",
            "_view_name": "LayoutView",
            "align_content": null,
            "align_items": null,
            "align_self": null,
            "border": null,
            "bottom": null,
            "display": null,
            "flex": null,
            "flex_flow": null,
            "grid_area": null,
            "grid_auto_columns": null,
            "grid_auto_flow": null,
            "grid_auto_rows": null,
            "grid_column": null,
            "grid_gap": null,
            "grid_row": null,
            "grid_template_areas": null,
            "grid_template_columns": null,
            "grid_template_rows": null,
            "height": null,
            "justify_content": null,
            "justify_items": null,
            "left": null,
            "margin": null,
            "max_height": null,
            "max_width": null,
            "min_height": null,
            "min_width": null,
            "object_fit": null,
            "object_position": null,
            "order": null,
            "overflow": null,
            "overflow_x": null,
            "overflow_y": null,
            "padding": null,
            "right": null,
            "top": null,
            "visibility": null,
            "width": null
          }
        },
        "c30cdc524f714d6ea8182840a4e89a9a": {
          "model_module": "@jupyter-widgets/controls",
          "model_module_version": "1.5.0",
          "model_name": "FloatProgressModel",
          "state": {
            "_dom_classes": [],
            "_model_module": "@jupyter-widgets/controls",
            "_model_module_version": "1.5.0",
            "_model_name": "FloatProgressModel",
            "_view_count": null,
            "_view_module": "@jupyter-widgets/controls",
            "_view_module_version": "1.5.0",
            "_view_name": "ProgressView",
            "bar_style": "success",
            "description": "",
            "description_tooltip": null,
            "layout": "IPY_MODEL_2eed1e205dcd4305b04b8a58af76c55e",
            "max": 285,
            "min": 0,
            "orientation": "horizontal",
            "style": "IPY_MODEL_62c5c8b3a5d549ec8396213ff9163f5e",
            "value": 285
          }
        },
        "cdea5d4293e247bcbf2b72f1f76151d7": {
          "model_module": "@jupyter-widgets/controls",
          "model_module_version": "1.5.0",
          "model_name": "DescriptionStyleModel",
          "state": {
            "_model_module": "@jupyter-widgets/controls",
            "_model_module_version": "1.5.0",
            "_model_name": "DescriptionStyleModel",
            "_view_count": null,
            "_view_module": "@jupyter-widgets/base",
            "_view_module_version": "1.2.0",
            "_view_name": "StyleView",
            "description_width": ""
          }
        },
        "d558b484c8f24a069c63d195c741388f": {
          "model_module": "@jupyter-widgets/base",
          "model_module_version": "1.2.0",
          "model_name": "LayoutModel",
          "state": {
            "_model_module": "@jupyter-widgets/base",
            "_model_module_version": "1.2.0",
            "_model_name": "LayoutModel",
            "_view_count": null,
            "_view_module": "@jupyter-widgets/base",
            "_view_module_version": "1.2.0",
            "_view_name": "LayoutView",
            "align_content": null,
            "align_items": null,
            "align_self": null,
            "border": null,
            "bottom": null,
            "display": null,
            "flex": null,
            "flex_flow": null,
            "grid_area": null,
            "grid_auto_columns": null,
            "grid_auto_flow": null,
            "grid_auto_rows": null,
            "grid_column": null,
            "grid_gap": null,
            "grid_row": null,
            "grid_template_areas": null,
            "grid_template_columns": null,
            "grid_template_rows": null,
            "height": null,
            "justify_content": null,
            "justify_items": null,
            "left": null,
            "margin": null,
            "max_height": null,
            "max_width": null,
            "min_height": null,
            "min_width": null,
            "object_fit": null,
            "object_position": null,
            "order": null,
            "overflow": null,
            "overflow_x": null,
            "overflow_y": null,
            "padding": null,
            "right": null,
            "top": null,
            "visibility": null,
            "width": null
          }
        },
        "d5db6b9d57164d54a8fdd9c4091f6497": {
          "model_module": "@jupyter-widgets/controls",
          "model_module_version": "1.5.0",
          "model_name": "DescriptionStyleModel",
          "state": {
            "_model_module": "@jupyter-widgets/controls",
            "_model_module_version": "1.5.0",
            "_model_name": "DescriptionStyleModel",
            "_view_count": null,
            "_view_module": "@jupyter-widgets/base",
            "_view_module_version": "1.2.0",
            "_view_name": "StyleView",
            "description_width": ""
          }
        },
        "ebe3c7e87b8740a5b784a39047b75097": {
          "model_module": "@jupyter-widgets/base",
          "model_module_version": "1.2.0",
          "model_name": "LayoutModel",
          "state": {
            "_model_module": "@jupyter-widgets/base",
            "_model_module_version": "1.2.0",
            "_model_name": "LayoutModel",
            "_view_count": null,
            "_view_module": "@jupyter-widgets/base",
            "_view_module_version": "1.2.0",
            "_view_name": "LayoutView",
            "align_content": null,
            "align_items": null,
            "align_self": null,
            "border": null,
            "bottom": null,
            "display": null,
            "flex": null,
            "flex_flow": null,
            "grid_area": null,
            "grid_auto_columns": null,
            "grid_auto_flow": null,
            "grid_auto_rows": null,
            "grid_column": null,
            "grid_gap": null,
            "grid_row": null,
            "grid_template_areas": null,
            "grid_template_columns": null,
            "grid_template_rows": null,
            "height": null,
            "justify_content": null,
            "justify_items": null,
            "left": null,
            "margin": null,
            "max_height": null,
            "max_width": null,
            "min_height": null,
            "min_width": null,
            "object_fit": null,
            "object_position": null,
            "order": null,
            "overflow": null,
            "overflow_x": null,
            "overflow_y": null,
            "padding": null,
            "right": null,
            "top": null,
            "visibility": null,
            "width": null
          }
        },
        "f0ae5b66579744569066f15365207640": {
          "model_module": "@jupyter-widgets/base",
          "model_module_version": "1.2.0",
          "model_name": "LayoutModel",
          "state": {
            "_model_module": "@jupyter-widgets/base",
            "_model_module_version": "1.2.0",
            "_model_name": "LayoutModel",
            "_view_count": null,
            "_view_module": "@jupyter-widgets/base",
            "_view_module_version": "1.2.0",
            "_view_name": "LayoutView",
            "align_content": null,
            "align_items": null,
            "align_self": null,
            "border": null,
            "bottom": null,
            "display": null,
            "flex": null,
            "flex_flow": null,
            "grid_area": null,
            "grid_auto_columns": null,
            "grid_auto_flow": null,
            "grid_auto_rows": null,
            "grid_column": null,
            "grid_gap": null,
            "grid_row": null,
            "grid_template_areas": null,
            "grid_template_columns": null,
            "grid_template_rows": null,
            "height": null,
            "justify_content": null,
            "justify_items": null,
            "left": null,
            "margin": null,
            "max_height": null,
            "max_width": null,
            "min_height": null,
            "min_width": null,
            "object_fit": null,
            "object_position": null,
            "order": null,
            "overflow": null,
            "overflow_x": null,
            "overflow_y": null,
            "padding": null,
            "right": null,
            "top": null,
            "visibility": null,
            "width": null
          }
        },
        "f520b3ec8a9f4aacae4995922eda26a3": {
          "model_module": "@jupyter-widgets/controls",
          "model_module_version": "1.5.0",
          "model_name": "HTMLModel",
          "state": {
            "_dom_classes": [],
            "_model_module": "@jupyter-widgets/controls",
            "_model_module_version": "1.5.0",
            "_model_name": "HTMLModel",
            "_view_count": null,
            "_view_module": "@jupyter-widgets/controls",
            "_view_module_version": "1.5.0",
            "_view_name": "HTMLView",
            "description": "",
            "description_tooltip": null,
            "layout": "IPY_MODEL_58dd8ab472eb426bb046c258ec2c113c",
            "placeholder": "​",
            "style": "IPY_MODEL_13ef781da9aa4add8901199d479f6c8e",
            "value": " 942/942 [00:00&lt;00:00, 24.9kB/s]"
          }
        },
        "f71f14cb550b4afda00b82c3368b33a2": {
          "model_module": "@jupyter-widgets/controls",
          "model_module_version": "1.5.0",
          "model_name": "DescriptionStyleModel",
          "state": {
            "_model_module": "@jupyter-widgets/controls",
            "_model_module_version": "1.5.0",
            "_model_name": "DescriptionStyleModel",
            "_view_count": null,
            "_view_module": "@jupyter-widgets/base",
            "_view_module_version": "1.2.0",
            "_view_name": "StyleView",
            "description_width": ""
          }
        },
        "fd1edeccdbc84c6aa4b92a41bad0db99": {
          "model_module": "@jupyter-widgets/base",
          "model_module_version": "1.2.0",
          "model_name": "LayoutModel",
          "state": {
            "_model_module": "@jupyter-widgets/base",
            "_model_module_version": "1.2.0",
            "_model_name": "LayoutModel",
            "_view_count": null,
            "_view_module": "@jupyter-widgets/base",
            "_view_module_version": "1.2.0",
            "_view_name": "LayoutView",
            "align_content": null,
            "align_items": null,
            "align_self": null,
            "border": null,
            "bottom": null,
            "display": null,
            "flex": null,
            "flex_flow": null,
            "grid_area": null,
            "grid_auto_columns": null,
            "grid_auto_flow": null,
            "grid_auto_rows": null,
            "grid_column": null,
            "grid_gap": null,
            "grid_row": null,
            "grid_template_areas": null,
            "grid_template_columns": null,
            "grid_template_rows": null,
            "height": null,
            "justify_content": null,
            "justify_items": null,
            "left": null,
            "margin": null,
            "max_height": null,
            "max_width": null,
            "min_height": null,
            "min_width": null,
            "object_fit": null,
            "object_position": null,
            "order": null,
            "overflow": null,
            "overflow_x": null,
            "overflow_y": null,
            "padding": null,
            "right": null,
            "top": null,
            "visibility": null,
            "width": null
          }
        }
      }
    }
  },
  "nbformat": 4,
  "nbformat_minor": 0
}
