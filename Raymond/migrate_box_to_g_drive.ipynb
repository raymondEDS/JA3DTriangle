{
 "cells": [
  {
   "cell_type": "code",
   "execution_count": 1,
   "id": "d973635a",
   "metadata": {},
   "outputs": [],
   "source": [
    "import numpy as np\n",
    "import pandas as pd\n",
    "from skimage import io\n",
    "from PIL import Image \n",
    "import matplotlib.pylab as plt\n",
    "from tqdm import tqdm \n",
    "from IPython.display import clear_output \n",
    "import os"
   ]
  },
  {
   "cell_type": "code",
   "execution_count": 3,
   "id": "bed99d56",
   "metadata": {},
   "outputs": [
    {
     "name": "stderr",
     "output_type": "stream",
     "text": [
      "\r",
      "  0%|                                                   | 0/452 [00:00<?, ?it/s]"
     ]
    },
    {
     "name": "stdout",
     "output_type": "stream",
     "text": [
      "ditto: /Users/raymondeds/Library/CloudStorage/Box-Box/iFIND Videos/Edited Film/./FS021EEB.mp4: Operation timed out\r\n"
     ]
    },
    {
     "name": "stderr",
     "output_type": "stream",
     "text": [
      " 46%|██████████████████▉                      | 209/452 [00:30<00:21, 11.10it/s]"
     ]
    },
    {
     "name": "stdout",
     "output_type": "stream",
     "text": [
      "ditto: /Users/raymondeds/Library/CloudStorage/Box-Box/iFIND Videos/Edited Film/./FC113EBF.mp4: Operation timed out\r\n"
     ]
    },
    {
     "name": "stderr",
     "output_type": "stream",
     "text": [
      "\r",
      " 68%|████████████████████████████             | 309/452 [00:30<00:14, 10.05it/s]"
     ]
    },
    {
     "name": "stdout",
     "output_type": "stream",
     "text": [
      "ditto: /Users/raymondeds/Library/CloudStorage/Box-Box/iFIND Videos/Edited Film/./FC128ESF.mp4: Operation timed out\r\n"
     ]
    },
    {
     "name": "stderr",
     "output_type": "stream",
     "text": [
      "\r",
      " 69%|████████████████████████████▎            | 312/452 [00:42<00:23,  6.03it/s]"
     ]
    },
    {
     "name": "stdout",
     "output_type": "stream",
     "text": [
      "ditto: /Users/raymondeds/Library/CloudStorage/Box-Box/iFIND Videos/Edited Film/./FS032EBF.mp4: Operation timed out\r\n"
     ]
    },
    {
     "name": "stderr",
     "output_type": "stream",
     "text": [
      "\r",
      " 75%|██████████████████████████████▊          | 339/452 [00:52<00:23,  4.83it/s]"
     ]
    },
    {
     "name": "stdout",
     "output_type": "stream",
     "text": [
      "ditto: /Users/raymondeds/Library/CloudStorage/Box-Box/iFIND Videos/Edited Film/./FC126ENM.mp4: Operation timed out\r\n"
     ]
    },
    {
     "name": "stderr",
     "output_type": "stream",
     "text": [
      "100%|█████████████████████████████████████████| 452/452 [01:09<00:00,  6.55it/s]"
     ]
    },
    {
     "name": "stdout",
     "output_type": "stream",
     "text": [
      "try again\n"
     ]
    },
    {
     "name": "stderr",
     "output_type": "stream",
     "text": [
      "\n"
     ]
    }
   ],
   "source": [
    "box_path = '/Users/raymondeds/Library/CloudStorage/Box-Box/iFIND Videos/Edited Film'\n",
    "google_drive_elements_dir = '/Users/raymondeds/Google Drive/My Drive/haber_research/box_data/elements'\n",
    "google_drive_processed_video_dir = '/Users/raymondeds/Google Drive/My Drive/haber_research/box_data/processed_video'\n",
    "google_drive_complete_processed_dir = '/Users/raymondeds/Google Drive/My Drive/haber_research/box_data/complete_processed'\n",
    "\n",
    "box_videos = os.listdir(box_path)\n",
    "elements_videos = os.listdir(google_drive_elements_dir)\n",
    "processed_video = os.listdir(google_drive_processed_video_dir)\n",
    "complete_processed_video = os.listdir(google_drive_complete_processed_dir)\n",
    "\n",
    "google_videos = elements_videos + processed_video + complete_processed_video\n",
    "count = 0\n",
    "for file in tqdm(box_videos):\n",
    "    if file in google_videos:\n",
    "        continue\n",
    "    count = count + 1    \n",
    "    copy_path = '/Users/raymondeds/Library/CloudStorage/Box-Box/iFIND\\ Videos/Edited\\ Film/' + file\n",
    "    paste_path = '/Users/raymondeds/Google\\ Drive/My\\ Drive/haber_research/box_data/elements'\n",
    "    #print(copy_path)\n",
    "    !ditto {copy_path} {paste_path}\n",
    "    #clear_output()\n",
    "\n",
    "\n",
    "check_elements_videos = os.listdir(google_drive_elements_dir)\n",
    "check_processed_video_check = os.listdir(google_drive_processed_video_dir)\n",
    "check_google_videos = elements_videos + processed_video\n",
    "\n",
    "if len(check_google_videos) - len(box_videos) >= 0:\n",
    "    print('Success: Check that there are ',len(check_google_videos) - len(box_videos),' extra files')\n",
    "else:\n",
    "    print('try again')"
   ]
  },
  {
   "cell_type": "code",
   "execution_count": 4,
   "id": "c802e1b9",
   "metadata": {},
   "outputs": [
    {
     "name": "stdout",
     "output_type": "stream",
     "text": [
      "5\n"
     ]
    }
   ],
   "source": [
    "check_elements_videos = os.listdir(google_drive_elements_dir)\n",
    "check_processed_video_check = os.listdir(google_drive_processed_video_dir)\n",
    "check_complete_processed_video = os.listdir(google_drive_complete_processed_dir)\n",
    "check_google_videos = check_elements_videos + check_processed_video_check + check_complete_processed_video\n",
    "test = []\n",
    "for file in box_videos:\n",
    "    if file in check_google_videos:\n",
    "        continue\n",
    "    else:\n",
    "        test.append(file)\n",
    "print(len(test))"
   ]
  },
  {
   "cell_type": "code",
   "execution_count": null,
   "id": "614207c5",
   "metadata": {},
   "outputs": [],
   "source": []
  },
  {
   "cell_type": "code",
   "execution_count": null,
   "id": "5a7adc04",
   "metadata": {},
   "outputs": [],
   "source": []
  }
 ],
 "metadata": {
  "kernelspec": {
   "display_name": "Python 3 (ipykernel)",
   "language": "python",
   "name": "python3"
  },
  "language_info": {
   "codemirror_mode": {
    "name": "ipython",
    "version": 3
   },
   "file_extension": ".py",
   "mimetype": "text/x-python",
   "name": "python",
   "nbconvert_exporter": "python",
   "pygments_lexer": "ipython3",
   "version": "3.9.7"
  }
 },
 "nbformat": 4,
 "nbformat_minor": 5
}
