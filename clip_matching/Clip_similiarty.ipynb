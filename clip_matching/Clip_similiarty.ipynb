{
  "nbformat": 4,
  "nbformat_minor": 0,
  "metadata": {
    "colab": {
      "name": "Clip_similiarty.ipynb",
      "provenance": [],
      "collapsed_sections": [
        "RZRWpEP5C34G",
        "cYSh8PxD_SL3"
      ],
      "include_colab_link": true
    },
    "kernelspec": {
      "name": "python3",
      "display_name": "Python 3"
    },
    "language_info": {
      "name": "python"
    }
  },
  "cells": [
    {
      "cell_type": "markdown",
      "metadata": {
        "id": "view-in-github",
        "colab_type": "text"
      },
      "source": [
        "<a href=\"https://colab.research.google.com/github/raymondEDS/iFind_tech_team/blob/raymond-colabs/clip_matching/Clip_similiarty.ipynb\" target=\"_parent\"><img src=\"https://colab.research.google.com/assets/colab-badge.svg\" alt=\"Open In Colab\"/></a>"
      ]
    },
    {
      "cell_type": "markdown",
      "source": [
        "This script is meant to match clips with the longer raw footage. The bases of the code is from: https://aws.amazon.com/blogs/media/metfc-automatically-compare-two-videos-to-find-common-content/"
      ],
      "metadata": {
        "id": "D_JYJ8blZJRe"
      }
    },
    {
      "cell_type": "code",
      "source": [
        "!pwd"
      ],
      "metadata": {
        "colab": {
          "base_uri": "https://localhost:8080/"
        },
        "id": "4JbBEoUdcsDJ",
        "outputId": "c107f7ae-ea60-4cc8-8b8b-65f27cacec73"
      },
      "execution_count": null,
      "outputs": [
        {
          "output_type": "stream",
          "name": "stdout",
          "text": [
            "/content\n"
          ]
        }
      ]
    },
    {
      "cell_type": "code",
      "source": [
        "#import libraries\n",
        "import numpy as np\n",
        "import pandas as pd\n",
        "import cv2 as cv \n",
        "from google.colab.patches import cv2_imshow # for image display\n",
        "from skimage import io\n",
        "from PIL import Image \n",
        "import matplotlib.pylab as plt\n",
        "from tqdm import tqdm \n",
        "from google.colab import files\n",
        "from IPython.display import clear_output \n",
        "import os\n",
        "\n",
        "!git clone https://github.com/XniceCraft/ffmpeg-colab.git\n",
        "!chmod 755 ./ffmpeg-colab/install\n",
        "!./ffmpeg-colab/install\n",
        "print('Installation finished!')\n",
        "!rm -fr /content/ffmpeg-colab\n",
        "!ffmpeg -version\n",
        "clear_output()"
      ],
      "metadata": {
        "id": "S9yYVjr-a-Wo"
      },
      "execution_count": null,
      "outputs": []
    },
    {
      "cell_type": "code",
      "source": [
        "from google.colab import drive\n",
        "drive.mount('/content/drive')"
      ],
      "metadata": {
        "colab": {
          "base_uri": "https://localhost:8080/"
        },
        "id": "W_gWoy5pMwSP",
        "outputId": "837701e2-4c39-4229-945b-6d9a46521796"
      },
      "execution_count": null,
      "outputs": [
        {
          "output_type": "stream",
          "name": "stdout",
          "text": [
            "Mounted at /content/drive\n"
          ]
        }
      ]
    },
    {
      "cell_type": "markdown",
      "source": [
        "*Remember* to mount drive first.\n",
        "\n",
        "The path to the entire raw file is:\n",
        "/content/drive/MyDrive/ifind/Raw Footage/Dyad and Family /UI006/UI006.mp4\n",
        "\n",
        "\n",
        "Path to clip is:\n",
        "/content/drive/MyDrive/ifind/Training Video/1 FIND Unedited Clips/1. Sharing the Focus/UI006USF.mp4\n",
        "\n",
        "\n",
        "Your paths might be different."
      ],
      "metadata": {
        "id": "cHWe1ZXRd0UR"
      }
    },
    {
      "cell_type": "markdown",
      "source": [
        "# Matching clips based on first image of target clip"
      ],
      "metadata": {
        "id": "RZRWpEP5C34G"
      }
    },
    {
      "cell_type": "code",
      "source": [
        "def clip_length(path):\n",
        "  #takes in video path as input\n",
        "  #returns number of frames and video duration in milliseconds \n",
        "  cap = cv.VideoCapture(path)\n",
        "  frames = int(cap.get(cv.CAP_PROP_FRAME_COUNT))\n",
        "  fps = int(cap.get(cv.CAP_PROP_FPS))\n",
        "  seconds = frames / fps\n",
        "  milliseconds = seconds * 1000\n",
        "  #print(frames)\n",
        "  #print(milliseconds)\n",
        "  return frames, milliseconds\n",
        "\n",
        "\n",
        "def first_frame_of_clip(path):\n",
        "  #input path to the clip, return image of first frame\n",
        "  clip_obj = cv.VideoCapture(path)\n",
        "  success, image = clip_obj.read()\n",
        "  return image\n",
        "\n",
        "def getPSNR(I1, I2):\n",
        "  #https://docs.opencv.org/4.x/d5/dc4/tutorial_video_input_psnr_ssim.html\n",
        "  #returns psnr (Peak signal-to-noise ratio)\n",
        "    s1 = cv.absdiff(I1, I2) #|I1 - I2|\n",
        "    s1 = np.float32(s1)     # cannot make a square on 8 bits\n",
        "    s1 = s1 * s1            # |I1 - I2|^2\n",
        "    sse = s1.sum()          # sum elements per channel\n",
        "    if sse <= 1e-10:        # sum channels\n",
        "        return 0            # for small values return zero\n",
        "    else:\n",
        "        shape = I1.shape\n",
        "        mse = 1.0 * sse / (shape[0] * shape[1] * shape[2])\n",
        "        psnr = 10.0 * np.log10((255 * 255) / mse)\n",
        "        return psnr\n",
        "\n",
        "def getMSSISM(i1, i2):\n",
        "    #https://docs.opencv.org/4.x/d5/dc4/tutorial_video_input_psnr_ssim.html\n",
        "    C1 = 6.5025\n",
        "    C2 = 58.5225\n",
        "    # INITS\n",
        "    I1 = np.float32(i1) # cannot calculate on one byte large values\n",
        "    I2 = np.float32(i2)\n",
        "    I2_2 = I2 * I2 # I2^2\n",
        "    I1_2 = I1 * I1 # I1^2\n",
        "    I1_I2 = I1 * I2 # I1 * I2\n",
        "    # END INITS\n",
        "    # PRELIMINARY COMPUTING\n",
        "    mu1 = cv.GaussianBlur(I1, (11, 11), 1.5)\n",
        "    mu2 = cv.GaussianBlur(I2, (11, 11), 1.5)\n",
        "    mu1_2 = mu1 * mu1\n",
        "    mu2_2 = mu2 * mu2\n",
        "    mu1_mu2 = mu1 * mu2\n",
        "    sigma1_2 = cv.GaussianBlur(I1_2, (11, 11), 1.5)\n",
        "    sigma1_2 -= mu1_2\n",
        "    sigma2_2 = cv.GaussianBlur(I2_2, (11, 11), 1.5)\n",
        "    sigma2_2 -= mu2_2\n",
        "    sigma12 = cv.GaussianBlur(I1_I2, (11, 11), 1.5)\n",
        "    sigma12 -= mu1_mu2\n",
        "    t1 = 2 * mu1_mu2 + C1\n",
        "    t2 = 2 * sigma12 + C2\n",
        "    t3 = t1 * t2                    # t3 = ((2*mu1_mu2 + C1).*(2*sigma12 + C2))\n",
        "    t1 = mu1_2 + mu2_2 + C1\n",
        "    t2 = sigma1_2 + sigma2_2 + C2\n",
        "    t1 = t1 * t2                    # t1 =((mu1_2 + mu2_2 + C1).*(sigma1_2 + sigma2_2 + C2))\n",
        "    ssim_map = cv.divide(t3, t1)    # ssim_map =  t3./t1;\n",
        "    mssim = cv.mean(ssim_map)       # mssim = average of ssim map\n",
        "    return mssim\n",
        "\n",
        "def resize_image_wrapper(image,dim=(640,360)):\n",
        "  resized_image = cv.resize(image, (640,360), interpolation = cv.INTER_AREA)\n",
        "  return resized_image\n",
        "\n",
        "\n",
        "\n",
        "def find_match_start(raw_video_path, dict_clips, testing = False):\n",
        "  #dict_clips must be in the format of {key:image} key = name of serve and return element\n",
        "  #returns df of the labels based on each frame\n",
        "  raw_video = cv.VideoCapture(raw_video_path)\n",
        "  trigger, image = raw_video.read()\n",
        "  out=[]\n",
        "  count= 0\n",
        "  while trigger:\n",
        "    d = {}\n",
        "    image = resize_image_wrapper(image)\n",
        "    #print('passed')\n",
        "    d['count'] = count\n",
        "    d['timestamp'] = raw_video.get(cv.CAP_PROP_POS_MSEC)\n",
        "    for key, clip in dict_clips.items():\n",
        "      #print(clip)\n",
        "      clip = resize_image_wrapper(clip)\n",
        "      #print('passed2')\n",
        "      d['PSNR_'+ key] = getPSNR(image,clip)\n",
        "      #d['MSSISM'+ key] = getMSSISM(image,clip)\n",
        "      if getPSNR(image,clip) >= 30:\n",
        "        d['match_'+key] = key\n",
        "      else:\n",
        "        d['match_'+key] = ''\n",
        "    out.append(d)\n",
        "    trigger, image = raw_video.read()\n",
        "    count += 1\n",
        "    #print(count)\n",
        "    if testing:\n",
        "      if count > 100:\n",
        "        break\n",
        "\n",
        "  df = pd.DataFrame(out)\n",
        "  return df\n",
        "\n"
      ],
      "metadata": {
        "id": "D7drH3IRrnE5"
      },
      "execution_count": null,
      "outputs": []
    },
    {
      "cell_type": "code",
      "source": [
        "trial_id = \"UI006\"\n",
        "\n",
        "raw_footage_path = '/content/drive/MyDrive/ifind/Raw Footage/Dyad and Family /' + trial_id + '/' + trial_id +'.mp4'\n",
        "clip_path_sharing_focus ='/content/drive/MyDrive/ifind/Training Video/1 FIND Unedited Clips/1. Sharing the Focus/' + trial_id + 'USF.mp4'\n",
        "clip_path_supporting_encouraging = '/content/drive/MyDrive/ifind/Training Video/1 FIND Unedited Clips/2. Supporting and Encouraging/' + trial_id + 'USE.mp4'\n",
        "clip_path_naming = '/content/drive/MyDrive/ifind/Training Video/1 FIND Unedited Clips/3. Naming/' + trial_id + 'UNM.mp4'\n",
        "clip_path_back_forth = '/content/drive/MyDrive/ifind/Training Video/1 FIND Unedited Clips/4. Back and Forth/' + trial_id + 'UBF.mp4'\n",
        "clip_path_ending_beginnings = '/content/drive/MyDrive/ifind/Training Video/1 FIND Unedited Clips/5. Endings and Beginnings/' + trial_id + 'UEB.mp4'\n",
        "\n",
        "\n",
        "\n",
        "image1 = first_frame_of_clip(clip_path_sharing_focus)\n",
        "image2 = first_frame_of_clip(clip_path_supporting_encouraging)\n",
        "image3 = first_frame_of_clip(clip_path_naming)\n",
        "image4 = first_frame_of_clip(clip_path_back_forth)\n",
        "image5 = first_frame_of_clip(clip_path_ending_beginnings)"
      ],
      "metadata": {
        "id": "TYeilaTtQibo"
      },
      "execution_count": null,
      "outputs": []
    },
    {
      "cell_type": "code",
      "source": [
        "clips = {'share_focus': image1, 'support':image2,'naming':image3,'back_forth':image4,'ending_beginning':image5}\n",
        "\n",
        "for key, clip in clips.items():\n",
        "  print(key)\n",
        "  cv2_imshow(clip)"
      ],
      "metadata": {
        "id": "djAAD6OJe2cT"
      },
      "execution_count": null,
      "outputs": []
    },
    {
      "cell_type": "markdown",
      "source": [
        "NOTES:\n",
        "1) The is really difficult to audit the generated labels to the real clips. This might suggest that human labeling is not that accurate to begin with.\n"
      ],
      "metadata": {
        "id": "Q5ndhzypyD3K"
      }
    },
    {
      "cell_type": "code",
      "source": [
        "#CAUTION THIS WILL TAKE FOREVER (forever being like 10 minutes)\n",
        "df = find_match_start(raw_footage_path,clips)\n",
        "df.to_csv('UI006_labels.csv', encoding = 'utf-8-sig') \n",
        "files.download(\"UI006_labels.csv\")"
      ],
      "metadata": {
        "colab": {
          "base_uri": "https://localhost:8080/",
          "height": 17
        },
        "id": "fXc2HYQxonJF",
        "outputId": "7a0b1724-3148-412c-f8d3-cfba1fd1927a"
      },
      "execution_count": null,
      "outputs": [
        {
          "output_type": "display_data",
          "data": {
            "text/plain": [
              "<IPython.core.display.Javascript object>"
            ],
            "application/javascript": [
              "\n",
              "    async function download(id, filename, size) {\n",
              "      if (!google.colab.kernel.accessAllowed) {\n",
              "        return;\n",
              "      }\n",
              "      const div = document.createElement('div');\n",
              "      const label = document.createElement('label');\n",
              "      label.textContent = `Downloading \"${filename}\": `;\n",
              "      div.appendChild(label);\n",
              "      const progress = document.createElement('progress');\n",
              "      progress.max = size;\n",
              "      div.appendChild(progress);\n",
              "      document.body.appendChild(div);\n",
              "\n",
              "      const buffers = [];\n",
              "      let downloaded = 0;\n",
              "\n",
              "      const channel = await google.colab.kernel.comms.open(id);\n",
              "      // Send a message to notify the kernel that we're ready.\n",
              "      channel.send({})\n",
              "\n",
              "      for await (const message of channel.messages) {\n",
              "        // Send a message to notify the kernel that we're ready.\n",
              "        channel.send({})\n",
              "        if (message.buffers) {\n",
              "          for (const buffer of message.buffers) {\n",
              "            buffers.push(buffer);\n",
              "            downloaded += buffer.byteLength;\n",
              "            progress.value = downloaded;\n",
              "          }\n",
              "        }\n",
              "      }\n",
              "      const blob = new Blob(buffers, {type: 'application/binary'});\n",
              "      const a = document.createElement('a');\n",
              "      a.href = window.URL.createObjectURL(blob);\n",
              "      a.download = filename;\n",
              "      div.appendChild(a);\n",
              "      a.click();\n",
              "      div.remove();\n",
              "    }\n",
              "  "
            ]
          },
          "metadata": {}
        },
        {
          "output_type": "display_data",
          "data": {
            "text/plain": [
              "<IPython.core.display.Javascript object>"
            ],
            "application/javascript": [
              "download(\"download_6948e615-d850-4b40-a687-a1b37d4abda0\", \"UI006_labels.csv\", 3306760)"
            ]
          },
          "metadata": {}
        }
      ]
    },
    {
      "cell_type": "code",
      "source": [
        "\n",
        "test = \"/content/drive/MyDrive/ifind/Training Video/1 FIND Unedited Clips/1. Sharing the Focus/UI006USF.mp4\"\n",
        "'''\n",
        "test2 = '/content/drive/MyDrive/ifind/Raw Footage/Dyad and Family /UI006/UI006.mp4'\n",
        "\n",
        "\n",
        "\n",
        "clip_length(test)\n",
        "clip_length(test2)\n",
        "\n",
        "#cv2_imshow(first_frame_of_clip(test))\n",
        "#cv2_imshow(first_frame_of_clip(test2))\n",
        "\n",
        "image1 = first_frame_of_clip(test)\n",
        "image2 = first_frame_of_clip(test2)\n",
        "\n",
        "resized_image1 = cv.resize(image1, (640,360), interpolation = cv.INTER_AREA)\n",
        "print('image 1',image1.shape)\n",
        "print('image 2',image2.shape)\n",
        "print('resize image 1',resized_image1.shape)\n",
        "\n",
        "\n",
        "#x = getMSSISM(image2,resized_image1)\n",
        "#y = getPSNR(image2,resized_image1)\n",
        "#print(x)\n",
        "#print(y)\n",
        "'''\n",
        "\n",
        "df = find_match_start(test,clips)\n",
        "\n",
        "#df"
      ],
      "metadata": {
        "id": "n3rOo-KRtlo0"
      },
      "execution_count": null,
      "outputs": []
    },
    {
      "cell_type": "code",
      "source": [
        "df.to_csv('output.csv', encoding = 'utf-8-sig') \n",
        "files.download(\"output.csv\")"
      ],
      "metadata": {
        "id": "mKzVe8hQshTW",
        "colab": {
          "base_uri": "https://localhost:8080/",
          "height": 17
        },
        "outputId": "0fb512c7-0ecc-4679-f1d9-fccd176c9f23"
      },
      "execution_count": null,
      "outputs": [
        {
          "output_type": "display_data",
          "data": {
            "text/plain": [
              "<IPython.core.display.Javascript object>"
            ],
            "application/javascript": [
              "\n",
              "    async function download(id, filename, size) {\n",
              "      if (!google.colab.kernel.accessAllowed) {\n",
              "        return;\n",
              "      }\n",
              "      const div = document.createElement('div');\n",
              "      const label = document.createElement('label');\n",
              "      label.textContent = `Downloading \"${filename}\": `;\n",
              "      div.appendChild(label);\n",
              "      const progress = document.createElement('progress');\n",
              "      progress.max = size;\n",
              "      div.appendChild(progress);\n",
              "      document.body.appendChild(div);\n",
              "\n",
              "      const buffers = [];\n",
              "      let downloaded = 0;\n",
              "\n",
              "      const channel = await google.colab.kernel.comms.open(id);\n",
              "      // Send a message to notify the kernel that we're ready.\n",
              "      channel.send({})\n",
              "\n",
              "      for await (const message of channel.messages) {\n",
              "        // Send a message to notify the kernel that we're ready.\n",
              "        channel.send({})\n",
              "        if (message.buffers) {\n",
              "          for (const buffer of message.buffers) {\n",
              "            buffers.push(buffer);\n",
              "            downloaded += buffer.byteLength;\n",
              "            progress.value = downloaded;\n",
              "          }\n",
              "        }\n",
              "      }\n",
              "      const blob = new Blob(buffers, {type: 'application/binary'});\n",
              "      const a = document.createElement('a');\n",
              "      a.href = window.URL.createObjectURL(blob);\n",
              "      a.download = filename;\n",
              "      div.appendChild(a);\n",
              "      a.click();\n",
              "      div.remove();\n",
              "    }\n",
              "  "
            ]
          },
          "metadata": {}
        },
        {
          "output_type": "display_data",
          "data": {
            "text/plain": [
              "<IPython.core.display.Javascript object>"
            ],
            "application/javascript": [
              "download(\"download_e485eee5-3460-4e32-98f3-e4a611b3c020\", \"output.csv\", 33867)"
            ]
          },
          "metadata": {}
        }
      ]
    },
    {
      "cell_type": "code",
      "source": [
        "cv2_imshow(first_frame_of_clip(test))"
      ],
      "metadata": {
        "id": "lrhmuFNlusUB"
      },
      "execution_count": null,
      "outputs": []
    },
    {
      "cell_type": "markdown",
      "source": [
        "The following will be to focusing on the extracting clips from edited film"
      ],
      "metadata": {
        "id": "xdyJVVqnPUz3"
      }
    },
    {
      "cell_type": "code",
      "source": [
        "trial_id = \"UI006\"\n",
        "edited_clip_path_sharing_focus = '/content/drive/MyDrive/ifind/Training Video/2 FIND Edited Clips/1. Sharing the Focus/' + trial_id + 'ESF.mp4'\n",
        "\n",
        "test = first_frame_of_clip(edited_clip_path_sharing_focus)\n",
        "\n",
        "cv2_imshow(test)\n"
      ],
      "metadata": {
        "id": "l17n1lUMPmwT"
      },
      "execution_count": null,
      "outputs": []
    },
    {
      "cell_type": "code",
      "source": [
        "import librosa ,  librosa.display\n",
        "import matplotlib.pyplot as plt"
      ],
      "metadata": {
        "id": "E3HfQobwIbuq"
      },
      "execution_count": null,
      "outputs": []
    },
    {
      "cell_type": "code",
      "source": [
        "y , sr = librosa.load(edited_clip_path_sharing_focus)\n",
        "\n",
        "#https://drive.google.com/drive/u/1/folders/17ZDNCQZ_Vr7LiyZBFoIpatoPmtq1Tfqp"
      ],
      "metadata": {
        "colab": {
          "base_uri": "https://localhost:8080/"
        },
        "id": "LmRyxbV0Ikg7",
        "outputId": "244b3ec2-8d5e-485e-dd76-79442752660e"
      },
      "execution_count": null,
      "outputs": [
        {
          "output_type": "stream",
          "name": "stderr",
          "text": [
            "/usr/local/lib/python3.7/dist-packages/librosa/core/audio.py:165: UserWarning: PySoundFile failed. Trying audioread instead.\n",
            "  warnings.warn(\"PySoundFile failed. Trying audioread instead.\")\n"
          ]
        },
        {
          "output_type": "execute_result",
          "data": {
            "text/plain": [
              "61.9307029478458"
            ]
          },
          "metadata": {},
          "execution_count": 9
        }
      ]
    },
    {
      "cell_type": "code",
      "source": [
        "librosa.get_duration(y=y, sr=sr)"
      ],
      "metadata": {
        "colab": {
          "base_uri": "https://localhost:8080/"
        },
        "id": "rZ_vYNgHJ-j4",
        "outputId": "6fb99f16-d7e4-4d90-dade-e58d659c8cf9"
      },
      "execution_count": null,
      "outputs": [
        {
          "output_type": "execute_result",
          "data": {
            "text/plain": [
              "61.9307029478458"
            ]
          },
          "metadata": {},
          "execution_count": 10
        }
      ]
    },
    {
      "cell_type": "code",
      "source": [
        "fig, (ax) = plt.subplots(nrows=1, sharex=True)\n",
        "#ax.set(title='Sample view', ylim=[-0.001, 0.001])\n",
        "librosa.display.waveshow(y=y,sr=sr, marker='.', label='Full signal')"
      ],
      "metadata": {
        "colab": {
          "base_uri": "https://localhost:8080/",
          "height": 297
        },
        "id": "H-xTEwF3KLYL",
        "outputId": "012709f9-9d64-4890-fcd9-59a4e20c9284"
      },
      "execution_count": null,
      "outputs": [
        {
          "output_type": "execute_result",
          "data": {
            "text/plain": [
              "<librosa.display.AdaptiveWaveplot at 0x7fe4c0249f10>"
            ]
          },
          "metadata": {},
          "execution_count": 120
        },
        {
          "output_type": "display_data",
          "data": {
            "text/plain": [
              "<Figure size 432x288 with 1 Axes>"
            ],
            "image/png": "[encoded data removed]"
          },
          "metadata": {
            "needs_background": "light"
          }
        }
      ]
    },
    {
      "cell_type": "code",
      "source": [
        "test = librosa.effects.split(y)/sr\n",
        "\n",
        "test\n",
        "#Do we just smooth out the method\n",
        "#Or do we find and "
      ],
      "metadata": {
        "colab": {
          "base_uri": "https://localhost:8080/"
        },
        "id": "8hLvhcq2OLpM",
        "outputId": "3e3f70a1-d404-4e5a-fec1-240529b749c9"
      },
      "execution_count": null,
      "outputs": [
        {
          "output_type": "execute_result",
          "data": {
            "text/plain": [
              "array([[ 6.7570068 ,  9.93814059],\n",
              "       [10.35609977, 11.14557823],\n",
              "       [11.35455782, 11.9814966 ],\n",
              "       [12.26013605, 13.35147392],\n",
              "       [13.88553288, 16.18430839],\n",
              "       [16.76480726, 17.78648526],\n",
              "       [17.85614512, 18.29732426],\n",
              "       [24.19519274, 27.37632653],\n",
              "       [27.81750567, 28.58376417],\n",
              "       [28.79274376, 29.2339229 ],\n",
              "       [32.2060771 , 32.41505669],\n",
              "       [32.69369615, 33.78503401],\n",
              "       [34.34231293, 36.61786848],\n",
              "       [37.19836735, 38.24326531],\n",
              "       [38.31292517, 38.61478458],\n",
              "       [44.53587302, 47.69378685],\n",
              "       [48.13496599, 48.90122449],\n",
              "       [49.11020408, 49.73714286],\n",
              "       [50.01578231, 51.10712018],\n",
              "       [51.66439909, 53.93995465],\n",
              "       [54.52045351, 55.56535147],\n",
              "       [55.63501134, 56.05297052]])"
            ]
          },
          "metadata": {},
          "execution_count": 84
        }
      ]
    },
    {
      "cell_type": "markdown",
      "source": [
        "# Splicing clips based on sound"
      ],
      "metadata": {
        "id": "cYSh8PxD_SL3"
      }
    },
    {
      "cell_type": "code",
      "source": [
        "fig, (ax) = plt.subplots(nrows=1, sharex=True,figsize = (20,8))\n",
        "#ax.set(title='Sample view', ylim=[-0.001, 0.001])\n",
        "librosa.display.waveshow(y=y,sr=sr, marker='.', label='Full signal')"
      ],
      "metadata": {
        "colab": {
          "base_uri": "https://localhost:8080/",
          "height": 515
        },
        "id": "B45FjwcP_R7l",
        "outputId": "7d5a58fa-f711-4f2c-8586-a3bfb266b7e9"
      },
      "execution_count": null,
      "outputs": [
        {
          "output_type": "execute_result",
          "data": {
            "text/plain": [
              "<librosa.display.AdaptiveWaveplot at 0x7fe4bfb8b190>"
            ]
          },
          "metadata": {},
          "execution_count": 116
        },
        {
          "output_type": "display_data",
          "data": {
            "text/plain": [
              "<Figure size 1440x576 with 1 Axes>"
            ],
            "image/png": "[encoded data removed]"
          },
          "metadata": {
            "needs_background": "light"
          }
        }
      ]
    },
    {
      "cell_type": "code",
      "source": [
        "x = test\n",
        "#https://stackoverflow.com/questions/45844036/python-combine-array-rows-based-on-difference-between-prior-rows-last-element\n",
        "start = x[1:, 0]  # select columns, ignoring the beginning of the first range\n",
        "end = x[:-1, 1]  # and the end of the final range\n",
        "mask = start>end+.3  # identify where consecutive rows have too great a gap\n",
        "result = np.array([np.insert(start[mask], 0, x[0, 0]), np.append(end[mask], x[-1, -1])]).T\n",
        "\n",
        "\n",
        "fig, (ax) = plt.subplots(nrows=1, sharex=True,figsize = (20,8))\n",
        "#ax.set(title='Sample view', ylim=[-0.001, 0.001])\n",
        "librosa.display.waveshow(y=y,sr=sr, marker='.')\n",
        "for line in result.flatten():\n",
        "  plt.axvline(x = line, color = 'r')"
      ],
      "metadata": {
        "colab": {
          "base_uri": "https://localhost:8080/",
          "height": 497
        },
        "id": "ifwW3IW38O19",
        "outputId": "58dd7369-74ba-4ad5-92a9-b4b06eeb1ff8"
      },
      "execution_count": null,
      "outputs": [
        {
          "output_type": "display_data",
          "data": {
            "text/plain": [
              "<Figure size 1440x576 with 1 Axes>"
            ],
            "image/png": "[encoded data removed]"
          },
          "metadata": {
            "needs_background": "light"
          }
        }
      ]
    },
    {
      "cell_type": "code",
      "source": [
        "result"
      ],
      "metadata": {
        "colab": {
          "base_uri": "https://localhost:8080/"
        },
        "id": "opbfuOJvFf_0",
        "outputId": "9bd5a110-85ad-452e-f8e2-ec06eacb88e2"
      },
      "execution_count": null,
      "outputs": [
        {
          "output_type": "execute_result",
          "data": {
            "text/plain": [
              "array([[ 6.7570068 , 18.29732426],\n",
              "       [24.19519274, 29.2339229 ],\n",
              "       [32.2060771 , 38.61478458],\n",
              "       [44.53587302, 56.05297052]])"
            ]
          },
          "metadata": {},
          "execution_count": 122
        }
      ]
    },
    {
      "cell_type": "markdown",
      "source": [
        "# Changing Edited clips into smaller clips using FFMEP"
      ],
      "metadata": {
        "id": "6tDyYXaMGyb7"
      }
    },
    {
      "cell_type": "code",
      "source": [
        "#things i want \n",
        "#https://www.linkedin.com/pulse/power-python-ffmpeg-story-2-detecting-commercial-blacks-ken-hansen/\n",
        "#https://colab.research.google.com/github/yunooooo/FFmpeg-for-Google-Drive/blob/master/FFmpeg.ipynb#scrollTo=Sv8au_RO6WUs\n",
        "#https://notebooks.githubusercontent.com/view/ipynb?browser=chrome&color_mode=auto&commit=ac8d4994e24c9bc5b18044bce945f1590f7145c7&device=unknown&enc_url=68747470733a2f2f7261772e67697468756275736572636f6e74656e742e636f6d2f6a656666686561746f6e2f70726573656e742f616338643439393465323463396263356231383034346263653934356631353930663731343563372f796f75747562652f766964656f2f636f6e766572745f766964656f5f62617369632e6970796e62&logged_in=false&nwo=jeffheaton%2Fpresent&path=youtube%2Fvideo%2Fconvert_video_basic.ipynb&platform=android&repository_id=66116261&repository_type=Repository&version=98\n"
      ],
      "metadata": {
        "colab": {
          "base_uri": "https://localhost:8080/"
        },
        "id": "uKGGW8OFQXSV",
        "outputId": "cfc00160-1030-4901-f487-1f15dcdc7684"
      },
      "execution_count": null,
      "outputs": [
        {
          "output_type": "stream",
          "name": "stdout",
          "text": [
            "drive  sample_data\n"
          ]
        }
      ]
    },
    {
      "cell_type": "code",
      "source": [
        "def get_freeze_frames(path):\n",
        "  #input: string of the path to the clip of interest\n",
        "  #output: dataframe of all the start and stop times of the areas with freeze frames\n",
        "  list_freeze_detect = !ffmpeg -i {path} -vf \"crop=in_w:in_h:in_w:in_h/2, freezedetect=n=-60dB:d=1\" -map 0:v:0 -f null - 2>&1 | grep freezedetect\n",
        "  list_output=[]\n",
        "  for item in list_freeze_detect:\n",
        "    if 'freezedetect' in item:\n",
        "      list_output.append(item)\n",
        "  df_freeze_frames = pd.DataFrame(list_output,columns = ['full'])\n",
        "  df_freeze_frames = df_freeze_frames.full.str.split(expand=True)\n",
        "  df_freeze_frames = df_freeze_frames[df_freeze_frames[3].str.contains('start|end')==True]\n",
        "  df_freeze_frames = df_freeze_frames.drop(columns = [1,2])\n",
        "  df_freeze_frames.columns = ['type','start_end','timestamp']\n",
        "  df_freeze_frames = df_freeze_frames.replace('lavfi.freezedetect.freeze_start:','start',regex = True)\n",
        "  df_freeze_frames = df_freeze_frames.replace('lavfi.freezedetect.freeze_end:','end',regex = True)\n",
        "  df_freeze_frames = df_freeze_frames.replace('\\[freezedetect','freezedetect',regex = True)\n",
        "  df_freeze_frames = pd.concat([df_freeze_frames[df_freeze_frames['start_end']=='start'].reset_index(drop=True),df_freeze_frames[df_freeze_frames['start_end']=='end'].reset_index(drop=True)], axis = 1)\n",
        "  df_freeze_frames.columns = ['start_type', 'start', 'start_timestamp', 'end_type', 'end', 'end_timestamp']  \n",
        "  return(df_freeze_frames)\n",
        "\n",
        "\n",
        "def get_black_frames(path):\n",
        "  list_black_detect = !ffmpeg -i {path} -vf \"blackdetect=d=0.05:pix_th=0.10\" -an -f null - 2>&1 | grep blackdetect\n",
        "  list_output=[]\n",
        "  for item in list_black_detect:\n",
        "    if 'blackdetect' in item:\n",
        "      list_output.append(item)\n",
        "  df_black_screen = pd.DataFrame(list_output,columns = ['full'])\n",
        "  df_black_screen = df_black_screen.full.str.split(expand=True)\n",
        "  df_black_screen = df_black_screen.replace('\\[blackdetect','blackdetect',regex = True)\n",
        "  df_black_screen_start = df_black_screen[3].str.split(':',expand=True)\n",
        "  df_black_screen_start.columns = ['start', 'start_timestamp']\n",
        "  df_black_screen_end = df_black_screen[4].str.split(':',expand=True)\n",
        "  df_black_screen_end.columns = ['end', 'end_timestamp']\n",
        "  df_black_screen_out = pd.concat([df_black_screen_start.reset_index(drop=True),df_black_screen_end.reset_index(drop=True)], axis = 1)\n",
        "  df_black_screen_out[['start_type','end_type']] = 'blackdetect','blackdetect'\n",
        "  df_black_screen_out = df_black_screen_out.replace('black_end','end',regex = True)\n",
        "  df_black_screen_out = df_black_screen_out.replace('black_start','start',regex = True)\n",
        "  return(df_black_screen_out)\n",
        "\n",
        "def get_ordered_freeze_black_frames(path):\n",
        "  df_output = pd.concat([get_freeze_frames(path), get_black_frames(path)], axis=0)\n",
        "  df_output = df_output.astype({'start_timestamp': 'float64','end_timestamp': 'float64'})\n",
        "  df_output = df_output.sort_values(by='start_timestamp').reset_index(drop = True)\n",
        "  df_output = df_output.groupby('start_timestamp').last()\n",
        "  df_output['start_timestamp'] = df_output.index\n",
        "  df_output = df_output.reset_index(drop = True)\n",
        "  return df_output\n",
        "\n",
        "def splice_clips(path,df):\n",
        "  #@path: string of the path to the clip of interest\n",
        "  #@df: dataframe from get_freeze_frames\n",
        "  #this will splice the clips into areas of interest and output it in the spliced_clips folder\n",
        "  row_max_index = df.shape[0] - 1\n",
        "  clip_name = path.rsplit('/',2)[-1].rsplit('.')[0]\n",
        "  splice_clips_dir = path.rsplit('/',1)[0] + '/spliced_clips'\n",
        "  if not os.path.exists(splice_clips_dir):\n",
        "    os.makedirs(splice_clips_dir)\n",
        "  \n",
        "  for index, row in df.iterrows():\n",
        "    output_path = path.rsplit('/',1)[0] + '/spliced_clips/' + clip_name \n",
        "    next_index = index + 1\n",
        "    if index == 0:\n",
        "      continue\n",
        "    if next_index > row_max_index:\n",
        "      break\n",
        "    if float(df.iloc[next_index].start_timestamp) - float(row.end_timestamp) < 1:\n",
        "      continue\n",
        "    start_split = str(row.end_timestamp)\n",
        "    end_split = str(df.iloc[next_index].start_timestamp)\n",
        "    if not os.path.exists(output_path):\n",
        "      os.makedirs(output_path)\n",
        "    output_file_path = output_path + '/'+ clip_name + '_raw_clip_example_' + str(index) + '.mp4'\n",
        "    !ffmpeg -hide_banner -i {path} -ss {start_split} -to {end_split} -c copy {output_file_path}\n",
        "    clear_output()\n",
        "\n",
        "def splice_clips_new(path,df):\n",
        "  #@path: string of the path to the clip of interest\n",
        "  #@df: dataframe from get_freeze_frames\n",
        "  #this will splice the clips into areas of interest and output it in the spliced_clips folder\n",
        "  row_max_index = df.shape[0] - 1\n",
        "  clip_name = path.rsplit('/',2)[-1].rsplit('.')[0]\n",
        "  splice_clips_dir = path.rsplit('/',1)[0] + '/spliced_clips'\n",
        "  if not os.path.exists(splice_clips_dir):\n",
        "    os.makedirs(splice_clips_dir)\n",
        "  for index, row in df.iterrows():\n",
        "    output_path = path.rsplit('/',1)[0] + '/spliced_clips/' + clip_name \n",
        "    next_index = index + 1\n",
        "    if next_index > row_max_index:\n",
        "      break\n",
        "    if (df.iloc[next_index].start_type == 'blackdetect' and row.start_type == 'freezedetect'):\n",
        "      start_split = str(row.end_timestamp)\n",
        "      end_split = str(df.iloc[next_index].start_timestamp)\n",
        "      print('split here',start_split,end_split)\n",
        "      if float(end_split) - float(start_split) <=1:\n",
        "        continue\n",
        "      if not os.path.exists(output_path):\n",
        "        os.makedirs(output_path)\n",
        "      output_file_path = output_path + '/'+ clip_name + '_raw_clip_example_' + str(index) + '.mp4'\n",
        "      !ffmpeg -hide_banner -i {path} -ss {start_split} -to {end_split} -c copy {output_file_path}\n",
        "      clear_output()\n",
        "\n",
        "def get_dict_first_frames(path: str):\n",
        "  #input: path to the directory that contains all the clips of interest\n",
        "  #output: Dictionary of the name of the clip, and first image of the clip\n",
        "  #uses this is to make the dictionary run the find_match_start function\n",
        "  directory_splice_clips = path.rsplit('/',2)[0]\n",
        "  list_clips = os.listdir(directory_splice_clips)\n",
        "  first_frames = {}\n",
        "  for clip in list_clips:\n",
        "    if (first_frame_of_clip(directory_splice_clips + '/'+clip) is not None):\n",
        "      first_frames[clip]=first_frame_of_clip(directory_splice_clips + '/'+clip)\n",
        "  return first_frames"
      ],
      "metadata": {
        "id": "xLMlGfXneHG1"
      },
      "execution_count": null,
      "outputs": []
    },
    {
      "cell_type": "code",
      "source": [
        "path = \"/content/drive/MyDrive/haber_research/test_data/elements/UI006ENM.mp4\"\n",
        "\n",
        "pd.concat([get_black_frames(path), get_freeze_frames(path)], axis=0).sort_values(by='start_timestamp').reset_index(drop = True)\n",
        "\n",
        "#get_freeze_black_frames(path)"
      ],
      "metadata": {
        "colab": {
          "base_uri": "https://localhost:8080/",
          "height": 457
        },
        "id": "oFKRuvR6ITFp",
        "outputId": "13762c44-ed17-4321-8fb1-47c85695ead3"
      },
      "execution_count": null,
      "outputs": [
        {
          "output_type": "execute_result",
          "data": {
            "text/plain": [
              "    start start_timestamp  end end_timestamp    start_type      end_type\n",
              "0   start             1.2  end          2.64  freezedetect  freezedetect\n",
              "1   start           14.16  end         17.16   blackdetect   blackdetect\n",
              "2   start           14.16  end         17.16  freezedetect  freezedetect\n",
              "3   start              18  end          20.2  freezedetect  freezedetect\n",
              "4   start              24  end          26.6  freezedetect  freezedetect\n",
              "5   start            3.36  end           6.6  freezedetect  freezedetect\n",
              "6   start            30.2  end          31.2  freezedetect  freezedetect\n",
              "7   start            31.2  end         33.16  freezedetect  freezedetect\n",
              "8   start           33.16  end         36.16   blackdetect   blackdetect\n",
              "9   start           33.16  end         36.16  freezedetect  freezedetect\n",
              "10  start           43.36  end         46.36   blackdetect   blackdetect\n",
              "11  start           43.36  end         46.36  freezedetect  freezedetect\n",
              "12  start            46.8  end         48.92  freezedetect  freezedetect"
            ],
            "text/html": [
              "\n",
              "  <div id=\"df-bb074afc-866f-4a4e-bb40-d44b911e6b12\">\n",
              "    <div class=\"colab-df-container\">\n",
              "      <div>\n",
              "<style scoped>\n",
              "    .dataframe tbody tr th:only-of-type {\n",
              "        vertical-align: middle;\n",
              "    }\n",
              "\n",
              "    .dataframe tbody tr th {\n",
              "        vertical-align: top;\n",
              "    }\n",
              "\n",
              "    .dataframe thead th {\n",
              "        text-align: right;\n",
              "    }\n",
              "</style>\n",
              "<table border=\"1\" class=\"dataframe\">\n",
              "  <thead>\n",
              "    <tr style=\"text-align: right;\">\n",
              "      <th></th>\n",
              "      <th>start</th>\n",
              "      <th>start_timestamp</th>\n",
              "      <th>end</th>\n",
              "      <th>end_timestamp</th>\n",
              "      <th>start_type</th>\n",
              "      <th>end_type</th>\n",
              "    </tr>\n",
              "  </thead>\n",
              "  <tbody>\n",
              "    <tr>\n",
              "      <th>0</th>\n",
              "      <td>start</td>\n",
              "      <td>1.2</td>\n",
              "      <td>end</td>\n",
              "      <td>2.64</td>\n",
              "      <td>freezedetect</td>\n",
              "      <td>freezedetect</td>\n",
              "    </tr>\n",
              "    <tr>\n",
              "      <th>1</th>\n",
              "      <td>start</td>\n",
              "      <td>14.16</td>\n",
              "      <td>end</td>\n",
              "      <td>17.16</td>\n",
              "      <td>blackdetect</td>\n",
              "      <td>blackdetect</td>\n",
              "    </tr>\n",
              "    <tr>\n",
              "      <th>2</th>\n",
              "      <td>start</td>\n",
              "      <td>14.16</td>\n",
              "      <td>end</td>\n",
              "      <td>17.16</td>\n",
              "      <td>freezedetect</td>\n",
              "      <td>freezedetect</td>\n",
              "    </tr>\n",
              "    <tr>\n",
              "      <th>3</th>\n",
              "      <td>start</td>\n",
              "      <td>18</td>\n",
              "      <td>end</td>\n",
              "      <td>20.2</td>\n",
              "      <td>freezedetect</td>\n",
              "      <td>freezedetect</td>\n",
              "    </tr>\n",
              "    <tr>\n",
              "      <th>4</th>\n",
              "      <td>start</td>\n",
              "      <td>24</td>\n",
              "      <td>end</td>\n",
              "      <td>26.6</td>\n",
              "      <td>freezedetect</td>\n",
              "      <td>freezedetect</td>\n",
              "    </tr>\n",
              "    <tr>\n",
              "      <th>5</th>\n",
              "      <td>start</td>\n",
              "      <td>3.36</td>\n",
              "      <td>end</td>\n",
              "      <td>6.6</td>\n",
              "      <td>freezedetect</td>\n",
              "      <td>freezedetect</td>\n",
              "    </tr>\n",
              "    <tr>\n",
              "      <th>6</th>\n",
              "      <td>start</td>\n",
              "      <td>30.2</td>\n",
              "      <td>end</td>\n",
              "      <td>31.2</td>\n",
              "      <td>freezedetect</td>\n",
              "      <td>freezedetect</td>\n",
              "    </tr>\n",
              "    <tr>\n",
              "      <th>7</th>\n",
              "      <td>start</td>\n",
              "      <td>31.2</td>\n",
              "      <td>end</td>\n",
              "      <td>33.16</td>\n",
              "      <td>freezedetect</td>\n",
              "      <td>freezedetect</td>\n",
              "    </tr>\n",
              "    <tr>\n",
              "      <th>8</th>\n",
              "      <td>start</td>\n",
              "      <td>33.16</td>\n",
              "      <td>end</td>\n",
              "      <td>36.16</td>\n",
              "      <td>blackdetect</td>\n",
              "      <td>blackdetect</td>\n",
              "    </tr>\n",
              "    <tr>\n",
              "      <th>9</th>\n",
              "      <td>start</td>\n",
              "      <td>33.16</td>\n",
              "      <td>end</td>\n",
              "      <td>36.16</td>\n",
              "      <td>freezedetect</td>\n",
              "      <td>freezedetect</td>\n",
              "    </tr>\n",
              "    <tr>\n",
              "      <th>10</th>\n",
              "      <td>start</td>\n",
              "      <td>43.36</td>\n",
              "      <td>end</td>\n",
              "      <td>46.36</td>\n",
              "      <td>blackdetect</td>\n",
              "      <td>blackdetect</td>\n",
              "    </tr>\n",
              "    <tr>\n",
              "      <th>11</th>\n",
              "      <td>start</td>\n",
              "      <td>43.36</td>\n",
              "      <td>end</td>\n",
              "      <td>46.36</td>\n",
              "      <td>freezedetect</td>\n",
              "      <td>freezedetect</td>\n",
              "    </tr>\n",
              "    <tr>\n",
              "      <th>12</th>\n",
              "      <td>start</td>\n",
              "      <td>46.8</td>\n",
              "      <td>end</td>\n",
              "      <td>48.92</td>\n",
              "      <td>freezedetect</td>\n",
              "      <td>freezedetect</td>\n",
              "    </tr>\n",
              "  </tbody>\n",
              "</table>\n",
              "</div>\n",
              "      <button class=\"colab-df-convert\" onclick=\"convertToInteractive('df-bb074afc-866f-4a4e-bb40-d44b911e6b12')\"\n",
              "              title=\"Convert this dataframe to an interactive table.\"\n",
              "              style=\"display:none;\">\n",
              "        \n",
              "  <svg xmlns=\"http://www.w3.org/2000/svg\" height=\"24px\"viewBox=\"0 0 24 24\"\n",
              "       width=\"24px\">\n",
              "    <path d=\"M0 0h24v24H0V0z\" fill=\"none\"/>\n",
              "    <path d=\"M18.56 5.44l.94 2.06.94-2.06 2.06-.94-2.06-.94-.94-2.06-.94 2.06-2.06.94zm-11 1L8.5 8.5l.94-2.06 2.06-.94-2.06-.94L8.5 2.5l-.94 2.06-2.06.94zm10 10l.94 2.06.94-2.06 2.06-.94-2.06-.94-.94-2.06-.94 2.06-2.06.94z\"/><path d=\"M17.41 7.96l-1.37-1.37c-.4-.4-.92-.59-1.43-.59-.52 0-1.04.2-1.43.59L10.3 9.45l-7.72 7.72c-.78.78-.78 2.05 0 2.83L4 21.41c.39.39.9.59 1.41.59.51 0 1.02-.2 1.41-.59l7.78-7.78 2.81-2.81c.8-.78.8-2.07 0-2.86zM5.41 20L4 18.59l7.72-7.72 1.47 1.35L5.41 20z\"/>\n",
              "  </svg>\n",
              "      </button>\n",
              "      \n",
              "  <style>\n",
              "    .colab-df-container {\n",
              "      display:flex;\n",
              "      flex-wrap:wrap;\n",
              "      gap: 12px;\n",
              "    }\n",
              "\n",
              "    .colab-df-convert {\n",
              "      background-color: #E8F0FE;\n",
              "      border: none;\n",
              "      border-radius: 50%;\n",
              "      cursor: pointer;\n",
              "      display: none;\n",
              "      fill: #1967D2;\n",
              "      height: 32px;\n",
              "      padding: 0 0 0 0;\n",
              "      width: 32px;\n",
              "    }\n",
              "\n",
              "    .colab-df-convert:hover {\n",
              "      background-color: #E2EBFA;\n",
              "      box-shadow: 0px 1px 2px rgba(60, 64, 67, 0.3), 0px 1px 3px 1px rgba(60, 64, 67, 0.15);\n",
              "      fill: #174EA6;\n",
              "    }\n",
              "\n",
              "    [theme=dark] .colab-df-convert {\n",
              "      background-color: #3B4455;\n",
              "      fill: #D2E3FC;\n",
              "    }\n",
              "\n",
              "    [theme=dark] .colab-df-convert:hover {\n",
              "      background-color: #434B5C;\n",
              "      box-shadow: 0px 1px 3px 1px rgba(0, 0, 0, 0.15);\n",
              "      filter: drop-shadow(0px 1px 2px rgba(0, 0, 0, 0.3));\n",
              "      fill: #FFFFFF;\n",
              "    }\n",
              "  </style>\n",
              "\n",
              "      <script>\n",
              "        const buttonEl =\n",
              "          document.querySelector('#df-bb074afc-866f-4a4e-bb40-d44b911e6b12 button.colab-df-convert');\n",
              "        buttonEl.style.display =\n",
              "          google.colab.kernel.accessAllowed ? 'block' : 'none';\n",
              "\n",
              "        async function convertToInteractive(key) {\n",
              "          const element = document.querySelector('#df-bb074afc-866f-4a4e-bb40-d44b911e6b12');\n",
              "          const dataTable =\n",
              "            await google.colab.kernel.invokeFunction('convertToInteractive',\n",
              "                                                     [key], {});\n",
              "          if (!dataTable) return;\n",
              "\n",
              "          const docLinkHtml = 'Like what you see? Visit the ' +\n",
              "            '<a target=\"_blank\" href=https://colab.research.google.com/notebooks/data_table.ipynb>data table notebook</a>'\n",
              "            + ' to learn more about interactive tables.';\n",
              "          element.innerHTML = '';\n",
              "          dataTable['output_type'] = 'display_data';\n",
              "          await google.colab.output.renderOutput(dataTable, element);\n",
              "          const docLink = document.createElement('div');\n",
              "          docLink.innerHTML = docLinkHtml;\n",
              "          element.appendChild(docLink);\n",
              "        }\n",
              "      </script>\n",
              "    </div>\n",
              "  </div>\n",
              "  "
            ]
          },
          "metadata": {},
          "execution_count": 162
        }
      ]
    },
    {
      "cell_type": "code",
      "source": [
        "#%%timeit this is a bug in colab not sure now to report this to google\n",
        "#from the 2 FIND Edited Clips\n",
        "clip_edited_ESF = '/content/drive/MyDrive/haber_research/test_data'\n",
        "dict_df = {}\n",
        "for root, dirs, files in os.walk(clip_edited_ESF):\n",
        "  for filename in files:\n",
        "    if 'elements' in root:\n",
        "      if 'spliced_clips' not in root:\n",
        "        print(os.path.join(root, filename))\n",
        "        dict_df[filename] = get_ordered_freeze_black_frames(os.path.join(root, filename))\n",
        "\n",
        "\n",
        "pd.DataFrame([dict_df]).to_csv('/content/drive/MyDrive/haber_research/dict_df_savefile.csv')\n",
        "#http://www.akpdev.com/articles/2014/11/24/batch-media-processing-ffmpeg-python.html parallel computing"
      ],
      "metadata": {
        "colab": {
          "base_uri": "https://localhost:8080/"
        },
        "id": "2EP5F5xGdsX6",
        "outputId": "1a279202-9182-4a97-8b83-cf9e0ba044be"
      },
      "execution_count": null,
      "outputs": [
        {
          "output_type": "stream",
          "name": "stdout",
          "text": [
            "/content/drive/MyDrive/haber_research/test_data/elements/WB033WEditedSupportingandEncouraging.mp4\n"
          ]
        }
      ]
    },
    {
      "cell_type": "code",
      "source": [
        "dict_df['WB033WEditedSupportingandEncouraging.mp4']"
      ],
      "metadata": {
        "colab": {
          "base_uri": "https://localhost:8080/",
          "height": 1000
        },
        "id": "ljsNeLrKqKFN",
        "outputId": "df8c4cb7-0f81-456c-a05a-881585326db5"
      },
      "execution_count": null,
      "outputs": [
        {
          "output_type": "execute_result",
          "data": {
            "text/plain": [
              "      start_type  start      end_type  end  end_timestamp  start_timestamp\n",
              "0   freezedetect  start  freezedetect  end        2.96963          0.00000\n",
              "1   freezedetect  start  freezedetect  end       20.55390          4.23757\n",
              "2   freezedetect  start  freezedetect  end       36.80340         21.62160\n",
              "3   freezedetect  start  freezedetect  end       44.64460         41.24120\n",
              "4   freezedetect  start  freezedetect  end       48.38170         44.64460\n",
              "5   freezedetect  start  freezedetect  end       54.28760         50.65060\n",
              "6   freezedetect  start  freezedetect  end       63.63020         56.65660\n",
              "7    blackdetect  start   blackdetect  end       66.39970         63.63020\n",
              "8   freezedetect  start  freezedetect  end       80.88080         70.73730\n",
              "9    blackdetect  start   blackdetect  end       87.28720         83.95050\n",
              "10  freezedetect  start  freezedetect  end       90.32360         87.28720\n",
              "11  freezedetect  start  freezedetect  end       94.39430         91.29120\n",
              "12  freezedetect  start  freezedetect  end       99.66620         96.29620\n",
              "13  freezedetect  start  freezedetect  end      102.23500         99.66620\n",
              "14  freezedetect  start  freezedetect  end      120.05300        105.20500\n",
              "15   blackdetect  start   blackdetect  end      128.86200        125.45900\n",
              "16  freezedetect  start  freezedetect  end      131.99900        128.86200\n",
              "17  freezedetect  start  freezedetect  end      138.17100        134.86800\n",
              "18  freezedetect  start  freezedetect  end      149.28200        140.87400\n",
              "19   blackdetect  start   blackdetect  end      151.88500        149.28200\n",
              "20   blackdetect  start   blackdetect  end      158.89200        156.85700\n",
              "21  freezedetect  start  freezedetect  end      166.60000        160.16000\n",
              "22  freezedetect  start  freezedetect  end      170.00300        167.83400\n",
              "23  freezedetect  start  freezedetect  end      178.91200        170.80400\n",
              "24  freezedetect  start  freezedetect  end      188.25500        179.71300\n",
              "25  freezedetect  start  freezedetect  end      202.06900        189.05600\n",
              "26  freezedetect  start  freezedetect  end      207.47400        202.86900\n",
              "27  freezedetect  start  freezedetect  end      224.12400        207.87400\n",
              "28  freezedetect  start  freezedetect  end      230.19700        224.52400\n",
              "29  freezedetect  start  freezedetect  end      233.36600        230.99700\n",
              "30   blackdetect  start   blackdetect  end      233.73400        233.56700"
            ],
            "text/html": [
              "\n",
              "  <div id=\"df-2a16d9df-19e8-4cdf-874e-e9ec91fc5b4b\">\n",
              "    <div class=\"colab-df-container\">\n",
              "      <div>\n",
              "<style scoped>\n",
              "    .dataframe tbody tr th:only-of-type {\n",
              "        vertical-align: middle;\n",
              "    }\n",
              "\n",
              "    .dataframe tbody tr th {\n",
              "        vertical-align: top;\n",
              "    }\n",
              "\n",
              "    .dataframe thead th {\n",
              "        text-align: right;\n",
              "    }\n",
              "</style>\n",
              "<table border=\"1\" class=\"dataframe\">\n",
              "  <thead>\n",
              "    <tr style=\"text-align: right;\">\n",
              "      <th></th>\n",
              "      <th>start_type</th>\n",
              "      <th>start</th>\n",
              "      <th>end_type</th>\n",
              "      <th>end</th>\n",
              "      <th>end_timestamp</th>\n",
              "      <th>start_timestamp</th>\n",
              "    </tr>\n",
              "  </thead>\n",
              "  <tbody>\n",
              "    <tr>\n",
              "      <th>0</th>\n",
              "      <td>freezedetect</td>\n",
              "      <td>start</td>\n",
              "      <td>freezedetect</td>\n",
              "      <td>end</td>\n",
              "      <td>2.96963</td>\n",
              "      <td>0.00000</td>\n",
              "    </tr>\n",
              "    <tr>\n",
              "      <th>1</th>\n",
              "      <td>freezedetect</td>\n",
              "      <td>start</td>\n",
              "      <td>freezedetect</td>\n",
              "      <td>end</td>\n",
              "      <td>20.55390</td>\n",
              "      <td>4.23757</td>\n",
              "    </tr>\n",
              "    <tr>\n",
              "      <th>2</th>\n",
              "      <td>freezedetect</td>\n",
              "      <td>start</td>\n",
              "      <td>freezedetect</td>\n",
              "      <td>end</td>\n",
              "      <td>36.80340</td>\n",
              "      <td>21.62160</td>\n",
              "    </tr>\n",
              "    <tr>\n",
              "      <th>3</th>\n",
              "      <td>freezedetect</td>\n",
              "      <td>start</td>\n",
              "      <td>freezedetect</td>\n",
              "      <td>end</td>\n",
              "      <td>44.64460</td>\n",
              "      <td>41.24120</td>\n",
              "    </tr>\n",
              "    <tr>\n",
              "      <th>4</th>\n",
              "      <td>freezedetect</td>\n",
              "      <td>start</td>\n",
              "      <td>freezedetect</td>\n",
              "      <td>end</td>\n",
              "      <td>48.38170</td>\n",
              "      <td>44.64460</td>\n",
              "    </tr>\n",
              "    <tr>\n",
              "      <th>5</th>\n",
              "      <td>freezedetect</td>\n",
              "      <td>start</td>\n",
              "      <td>freezedetect</td>\n",
              "      <td>end</td>\n",
              "      <td>54.28760</td>\n",
              "      <td>50.65060</td>\n",
              "    </tr>\n",
              "    <tr>\n",
              "      <th>6</th>\n",
              "      <td>freezedetect</td>\n",
              "      <td>start</td>\n",
              "      <td>freezedetect</td>\n",
              "      <td>end</td>\n",
              "      <td>63.63020</td>\n",
              "      <td>56.65660</td>\n",
              "    </tr>\n",
              "    <tr>\n",
              "      <th>7</th>\n",
              "      <td>blackdetect</td>\n",
              "      <td>start</td>\n",
              "      <td>blackdetect</td>\n",
              "      <td>end</td>\n",
              "      <td>66.39970</td>\n",
              "      <td>63.63020</td>\n",
              "    </tr>\n",
              "    <tr>\n",
              "      <th>8</th>\n",
              "      <td>freezedetect</td>\n",
              "      <td>start</td>\n",
              "      <td>freezedetect</td>\n",
              "      <td>end</td>\n",
              "      <td>80.88080</td>\n",
              "      <td>70.73730</td>\n",
              "    </tr>\n",
              "    <tr>\n",
              "      <th>9</th>\n",
              "      <td>blackdetect</td>\n",
              "      <td>start</td>\n",
              "      <td>blackdetect</td>\n",
              "      <td>end</td>\n",
              "      <td>87.28720</td>\n",
              "      <td>83.95050</td>\n",
              "    </tr>\n",
              "    <tr>\n",
              "      <th>10</th>\n",
              "      <td>freezedetect</td>\n",
              "      <td>start</td>\n",
              "      <td>freezedetect</td>\n",
              "      <td>end</td>\n",
              "      <td>90.32360</td>\n",
              "      <td>87.28720</td>\n",
              "    </tr>\n",
              "    <tr>\n",
              "      <th>11</th>\n",
              "      <td>freezedetect</td>\n",
              "      <td>start</td>\n",
              "      <td>freezedetect</td>\n",
              "      <td>end</td>\n",
              "      <td>94.39430</td>\n",
              "      <td>91.29120</td>\n",
              "    </tr>\n",
              "    <tr>\n",
              "      <th>12</th>\n",
              "      <td>freezedetect</td>\n",
              "      <td>start</td>\n",
              "      <td>freezedetect</td>\n",
              "      <td>end</td>\n",
              "      <td>99.66620</td>\n",
              "      <td>96.29620</td>\n",
              "    </tr>\n",
              "    <tr>\n",
              "      <th>13</th>\n",
              "      <td>freezedetect</td>\n",
              "      <td>start</td>\n",
              "      <td>freezedetect</td>\n",
              "      <td>end</td>\n",
              "      <td>102.23500</td>\n",
              "      <td>99.66620</td>\n",
              "    </tr>\n",
              "    <tr>\n",
              "      <th>14</th>\n",
              "      <td>freezedetect</td>\n",
              "      <td>start</td>\n",
              "      <td>freezedetect</td>\n",
              "      <td>end</td>\n",
              "      <td>120.05300</td>\n",
              "      <td>105.20500</td>\n",
              "    </tr>\n",
              "    <tr>\n",
              "      <th>15</th>\n",
              "      <td>blackdetect</td>\n",
              "      <td>start</td>\n",
              "      <td>blackdetect</td>\n",
              "      <td>end</td>\n",
              "      <td>128.86200</td>\n",
              "      <td>125.45900</td>\n",
              "    </tr>\n",
              "    <tr>\n",
              "      <th>16</th>\n",
              "      <td>freezedetect</td>\n",
              "      <td>start</td>\n",
              "      <td>freezedetect</td>\n",
              "      <td>end</td>\n",
              "      <td>131.99900</td>\n",
              "      <td>128.86200</td>\n",
              "    </tr>\n",
              "    <tr>\n",
              "      <th>17</th>\n",
              "      <td>freezedetect</td>\n",
              "      <td>start</td>\n",
              "      <td>freezedetect</td>\n",
              "      <td>end</td>\n",
              "      <td>138.17100</td>\n",
              "      <td>134.86800</td>\n",
              "    </tr>\n",
              "    <tr>\n",
              "      <th>18</th>\n",
              "      <td>freezedetect</td>\n",
              "      <td>start</td>\n",
              "      <td>freezedetect</td>\n",
              "      <td>end</td>\n",
              "      <td>149.28200</td>\n",
              "      <td>140.87400</td>\n",
              "    </tr>\n",
              "    <tr>\n",
              "      <th>19</th>\n",
              "      <td>blackdetect</td>\n",
              "      <td>start</td>\n",
              "      <td>blackdetect</td>\n",
              "      <td>end</td>\n",
              "      <td>151.88500</td>\n",
              "      <td>149.28200</td>\n",
              "    </tr>\n",
              "    <tr>\n",
              "      <th>20</th>\n",
              "      <td>blackdetect</td>\n",
              "      <td>start</td>\n",
              "      <td>blackdetect</td>\n",
              "      <td>end</td>\n",
              "      <td>158.89200</td>\n",
              "      <td>156.85700</td>\n",
              "    </tr>\n",
              "    <tr>\n",
              "      <th>21</th>\n",
              "      <td>freezedetect</td>\n",
              "      <td>start</td>\n",
              "      <td>freezedetect</td>\n",
              "      <td>end</td>\n",
              "      <td>166.60000</td>\n",
              "      <td>160.16000</td>\n",
              "    </tr>\n",
              "    <tr>\n",
              "      <th>22</th>\n",
              "      <td>freezedetect</td>\n",
              "      <td>start</td>\n",
              "      <td>freezedetect</td>\n",
              "      <td>end</td>\n",
              "      <td>170.00300</td>\n",
              "      <td>167.83400</td>\n",
              "    </tr>\n",
              "    <tr>\n",
              "      <th>23</th>\n",
              "      <td>freezedetect</td>\n",
              "      <td>start</td>\n",
              "      <td>freezedetect</td>\n",
              "      <td>end</td>\n",
              "      <td>178.91200</td>\n",
              "      <td>170.80400</td>\n",
              "    </tr>\n",
              "    <tr>\n",
              "      <th>24</th>\n",
              "      <td>freezedetect</td>\n",
              "      <td>start</td>\n",
              "      <td>freezedetect</td>\n",
              "      <td>end</td>\n",
              "      <td>188.25500</td>\n",
              "      <td>179.71300</td>\n",
              "    </tr>\n",
              "    <tr>\n",
              "      <th>25</th>\n",
              "      <td>freezedetect</td>\n",
              "      <td>start</td>\n",
              "      <td>freezedetect</td>\n",
              "      <td>end</td>\n",
              "      <td>202.06900</td>\n",
              "      <td>189.05600</td>\n",
              "    </tr>\n",
              "    <tr>\n",
              "      <th>26</th>\n",
              "      <td>freezedetect</td>\n",
              "      <td>start</td>\n",
              "      <td>freezedetect</td>\n",
              "      <td>end</td>\n",
              "      <td>207.47400</td>\n",
              "      <td>202.86900</td>\n",
              "    </tr>\n",
              "    <tr>\n",
              "      <th>27</th>\n",
              "      <td>freezedetect</td>\n",
              "      <td>start</td>\n",
              "      <td>freezedetect</td>\n",
              "      <td>end</td>\n",
              "      <td>224.12400</td>\n",
              "      <td>207.87400</td>\n",
              "    </tr>\n",
              "    <tr>\n",
              "      <th>28</th>\n",
              "      <td>freezedetect</td>\n",
              "      <td>start</td>\n",
              "      <td>freezedetect</td>\n",
              "      <td>end</td>\n",
              "      <td>230.19700</td>\n",
              "      <td>224.52400</td>\n",
              "    </tr>\n",
              "    <tr>\n",
              "      <th>29</th>\n",
              "      <td>freezedetect</td>\n",
              "      <td>start</td>\n",
              "      <td>freezedetect</td>\n",
              "      <td>end</td>\n",
              "      <td>233.36600</td>\n",
              "      <td>230.99700</td>\n",
              "    </tr>\n",
              "    <tr>\n",
              "      <th>30</th>\n",
              "      <td>blackdetect</td>\n",
              "      <td>start</td>\n",
              "      <td>blackdetect</td>\n",
              "      <td>end</td>\n",
              "      <td>233.73400</td>\n",
              "      <td>233.56700</td>\n",
              "    </tr>\n",
              "  </tbody>\n",
              "</table>\n",
              "</div>\n",
              "      <button class=\"colab-df-convert\" onclick=\"convertToInteractive('df-2a16d9df-19e8-4cdf-874e-e9ec91fc5b4b')\"\n",
              "              title=\"Convert this dataframe to an interactive table.\"\n",
              "              style=\"display:none;\">\n",
              "        \n",
              "  <svg xmlns=\"http://www.w3.org/2000/svg\" height=\"24px\"viewBox=\"0 0 24 24\"\n",
              "       width=\"24px\">\n",
              "    <path d=\"M0 0h24v24H0V0z\" fill=\"none\"/>\n",
              "    <path d=\"M18.56 5.44l.94 2.06.94-2.06 2.06-.94-2.06-.94-.94-2.06-.94 2.06-2.06.94zm-11 1L8.5 8.5l.94-2.06 2.06-.94-2.06-.94L8.5 2.5l-.94 2.06-2.06.94zm10 10l.94 2.06.94-2.06 2.06-.94-2.06-.94-.94-2.06-.94 2.06-2.06.94z\"/><path d=\"M17.41 7.96l-1.37-1.37c-.4-.4-.92-.59-1.43-.59-.52 0-1.04.2-1.43.59L10.3 9.45l-7.72 7.72c-.78.78-.78 2.05 0 2.83L4 21.41c.39.39.9.59 1.41.59.51 0 1.02-.2 1.41-.59l7.78-7.78 2.81-2.81c.8-.78.8-2.07 0-2.86zM5.41 20L4 18.59l7.72-7.72 1.47 1.35L5.41 20z\"/>\n",
              "  </svg>\n",
              "      </button>\n",
              "      \n",
              "  <style>\n",
              "    .colab-df-container {\n",
              "      display:flex;\n",
              "      flex-wrap:wrap;\n",
              "      gap: 12px;\n",
              "    }\n",
              "\n",
              "    .colab-df-convert {\n",
              "      background-color: #E8F0FE;\n",
              "      border: none;\n",
              "      border-radius: 50%;\n",
              "      cursor: pointer;\n",
              "      display: none;\n",
              "      fill: #1967D2;\n",
              "      height: 32px;\n",
              "      padding: 0 0 0 0;\n",
              "      width: 32px;\n",
              "    }\n",
              "\n",
              "    .colab-df-convert:hover {\n",
              "      background-color: #E2EBFA;\n",
              "      box-shadow: 0px 1px 2px rgba(60, 64, 67, 0.3), 0px 1px 3px 1px rgba(60, 64, 67, 0.15);\n",
              "      fill: #174EA6;\n",
              "    }\n",
              "\n",
              "    [theme=dark] .colab-df-convert {\n",
              "      background-color: #3B4455;\n",
              "      fill: #D2E3FC;\n",
              "    }\n",
              "\n",
              "    [theme=dark] .colab-df-convert:hover {\n",
              "      background-color: #434B5C;\n",
              "      box-shadow: 0px 1px 3px 1px rgba(0, 0, 0, 0.15);\n",
              "      filter: drop-shadow(0px 1px 2px rgba(0, 0, 0, 0.3));\n",
              "      fill: #FFFFFF;\n",
              "    }\n",
              "  </style>\n",
              "\n",
              "      <script>\n",
              "        const buttonEl =\n",
              "          document.querySelector('#df-2a16d9df-19e8-4cdf-874e-e9ec91fc5b4b button.colab-df-convert');\n",
              "        buttonEl.style.display =\n",
              "          google.colab.kernel.accessAllowed ? 'block' : 'none';\n",
              "\n",
              "        async function convertToInteractive(key) {\n",
              "          const element = document.querySelector('#df-2a16d9df-19e8-4cdf-874e-e9ec91fc5b4b');\n",
              "          const dataTable =\n",
              "            await google.colab.kernel.invokeFunction('convertToInteractive',\n",
              "                                                     [key], {});\n",
              "          if (!dataTable) return;\n",
              "\n",
              "          const docLinkHtml = 'Like what you see? Visit the ' +\n",
              "            '<a target=\"_blank\" href=https://colab.research.google.com/notebooks/data_table.ipynb>data table notebook</a>'\n",
              "            + ' to learn more about interactive tables.';\n",
              "          element.innerHTML = '';\n",
              "          dataTable['output_type'] = 'display_data';\n",
              "          await google.colab.output.renderOutput(dataTable, element);\n",
              "          const docLink = document.createElement('div');\n",
              "          docLink.innerHTML = docLinkHtml;\n",
              "          element.appendChild(docLink);\n",
              "        }\n",
              "      </script>\n",
              "    </div>\n",
              "  </div>\n",
              "  "
            ]
          },
          "metadata": {},
          "execution_count": 266
        }
      ]
    },
    {
      "cell_type": "code",
      "source": [
        "def splice_clips_test(path,df):\n",
        "  #@path: string of the path to the clip of interest\n",
        "  #@df: dataframe from get_freeze_frames\n",
        "  #this will splice the clips into areas of interest and output it in the spliced_clips folder\n",
        "  row_max_index = df.shape[0] - 1\n",
        "  clip_name = path.rsplit('/',2)[-1].rsplit('.')[0]\n",
        "  splice_clips_dir = path.rsplit('/',1)[0] + '/spliced_clips'\n",
        "  if not os.path.exists(splice_clips_dir):\n",
        "    os.makedirs(splice_clips_dir)\n",
        "  for index, row in df.iterrows():\n",
        "    output_path = path.rsplit('/',1)[0] + '/spliced_clips/' + clip_name \n",
        "    next_index = index + 1\n",
        "    if next_index > row_max_index:\n",
        "      break\n",
        "    if (df.iloc[next_index].start_type == 'blackdetect' and row.start_type == 'freezedetect'):\n",
        "      start_split = str(row.end_timestamp)\n",
        "      end_split = str(df.iloc[next_index].start_timestamp)\n",
        "      if float(end_split) - float(start_split) <= 1:\n",
        "        continue\n",
        "      print('split here',start_split,end_split, index)\n",
        "\n",
        "x = dict_df['UI006EEB.mp4']\n",
        "y = '/content/drive/MyDrive/haber_research/test_data/elements/UI006EEB.mp4'\n",
        "splice_clips_test(y,x)"
      ],
      "metadata": {
        "colab": {
          "base_uri": "https://localhost:8080/"
        },
        "id": "rAezOLw_x5HP",
        "outputId": "0e02e1d1-3088-4819-cc52-cb1d0f14d077"
      },
      "execution_count": null,
      "outputs": [
        {
          "output_type": "stream",
          "name": "stdout",
          "text": [
            "split here 6.4 26.84 2\n"
          ]
        }
      ]
    },
    {
      "cell_type": "code",
      "source": [
        "###testing\n",
        "clip_edited_ESF = '/content/drive/MyDrive/haber_research/test_data/elements/'\n",
        "\n",
        "for keys in dict_df.keys():\n",
        "  path = clip_edited_ESF + keys\n",
        "  splice_clips_test(path , dict_df[keys])"
      ],
      "metadata": {
        "colab": {
          "base_uri": "https://localhost:8080/"
        },
        "id": "8Na0SSBzy0el",
        "outputId": "d3420300-4228-48a4-8cae-fd2121cd06db"
      },
      "execution_count": null,
      "outputs": [
        {
          "output_type": "stream",
          "name": "stdout",
          "text": [
            "split here 80.8808 83.9505 8\n",
            "split here 120.053 125.459 14\n"
          ]
        }
      ]
    },
    {
      "cell_type": "code",
      "source": [
        "#splice the video and folder\n",
        "clip_edited_ESF = '/content/drive/MyDrive/haber_research/test_data/elements/'\n",
        "\n",
        "for keys in dict_df.keys():\n",
        "  path = clip_edited_ESF + keys\n",
        "  splice_clips_new(path , dict_df[keys])\n",
        "\n"
      ],
      "metadata": {
        "id": "joE4QT7Ymc0c",
        "colab": {
          "base_uri": "https://localhost:8080/"
        },
        "outputId": "04d1e3e7-e0e6-46a3-c790-4a5896a5a581"
      },
      "execution_count": null,
      "outputs": [
        {
          "output_type": "stream",
          "name": "stdout",
          "text": [
            "split here 149.282 149.282\n",
            "split here 233.366 233.567\n"
          ]
        }
      ]
    },
    {
      "cell_type": "code",
      "source": [
        "#analyze the existing clips\n",
        "path_clip_spliced = '/content/drive/MyDrive/haber_research/test_data/elements/spliced_clips'\n",
        "list_out = []\n",
        "\n",
        "\n",
        "for root, dirs, files in os.walk(clip_edited_ESF):\n",
        "  for filename in files:\n",
        "    dict_input = {}\n",
        "    if 'spliced_clips' in root:\n",
        "      dict_input['filename'] = filename\n",
        "      holder_variable = !ffprobe -v error -show_entries format=duration -of default=noprint_wrappers=1:nokey=1 {os.path.join(root, filename)}\n",
        "      dict_input['duration'] = float(holder_variable[0])\n",
        "      list_out.append(dict_input)\n",
        "\n",
        "df_element_clip = pd.DataFrame(list_out)\n",
        "\n",
        "def apply_element(row):\n",
        "  row = row.lower()\n",
        "  if 'eeb' in row:\n",
        "    return 'end_begin'\n",
        "  elif 'ebf' in row:\n",
        "    return 'back_forth'\n",
        "  elif 'enm' in row:\n",
        "    return 'naming'\n",
        "  elif 'ese' in row:\n",
        "    return 'support_encourage'\n",
        "  elif 'esf' in row:\n",
        "    return 'sharing_focus'\n",
        "\n",
        "\n",
        "df_element_clip['element'] = df_element_clip.filename.apply(lambda x: apply_element(x))\n",
        "\n",
        "df_element_clip.to_csv('/content/drive/MyDrive/haber_research/df_element_clip.csv')\n",
        "df_element_clip"
      ],
      "metadata": {
        "colab": {
          "base_uri": "https://localhost:8080/",
          "height": 1000
        },
        "id": "N7z2qydt4O40",
        "outputId": "6c324418-aeba-4311-91bc-7bd1717574d9"
      },
      "execution_count": null,
      "outputs": [
        {
          "output_type": "execute_result",
          "data": {
            "text/plain": [
              "                                filename  duration            element\n",
              "0   UI007ESE_1of2_raw_clip_example_1.mp4     5.855  support_encourage\n",
              "1   UI007ESE_2of2_raw_clip_example_1.mp4    11.167  support_encourage\n",
              "2   UI007ENM_1of2_raw_clip_example_1.mp4     8.804             naming\n",
              "3   UI007ENM_2of2_raw_clip_example_1.mp4     7.050             naming\n",
              "4   UI007EBF_1of2_raw_clip_example_1.mp4    13.727         back_forth\n",
              "5   UI007EBF_2of2_raw_clip_example_1.mp4    11.292         back_forth\n",
              "6   UI007EEB_1of2_raw_clip_example_1.mp4    11.404          end_begin\n",
              "7   UI007EEB_2of2_raw_clip_example_1.mp4    10.372          end_begin\n",
              "8        UI006ENM_raw_clip_example_1.mp4     7.564             naming\n",
              "9        UI006ESE_raw_clip_example_1.mp4     6.162  support_encourage\n",
              "10       UI006EBF_raw_clip_example_1.mp4    17.252         back_forth\n",
              "11    VCP999ESF_2_raw_clip_example_1.mp4    16.431      sharing_focus\n",
              "12    VCP999ESF_1_raw_clip_example_1.mp4     7.125      sharing_focus\n",
              "13    VCP104ESF_2_raw_clip_example_1.mp4     6.859      sharing_focus\n",
              "14    VCP104ESF_1_raw_clip_example_1.mp4     6.674      sharing_focus\n",
              "15  UI007ESF_2of2_raw_clip_example_1.mp4    10.015      sharing_focus\n",
              "16  UI007ESF_1of2_raw_clip_example_1.mp4    12.562      sharing_focus\n",
              "17       UI006ESF_raw_clip_example_1.mp4    11.860      sharing_focus\n",
              "18    VCP999ESE_3_raw_clip_example_1.mp4     4.913  support_encourage\n",
              "19    VCP999ESE_1_raw_clip_example_1.mp4     8.125  support_encourage\n",
              "20    VCP999ENM_3_raw_clip_example_1.mp4     8.651             naming\n",
              "21    VCP999ENM_2_raw_clip_example_1.mp4     7.515             naming\n",
              "22    VCP999ENM_1_raw_clip_example_1.mp4     6.974             naming\n",
              "23    VCP999EEB_1_raw_clip_example_1.mp4    12.780          end_begin\n",
              "24    VCP999EBF_1_raw_clip_example_1.mp4    19.538         back_forth\n",
              "25    VCP104ESE_3_raw_clip_example_1.mp4     5.857  support_encourage\n",
              "26    VCP104ESE_2_raw_clip_example_1.mp4     5.013  support_encourage\n",
              "27    VCP104ESE_1_raw_clip_example_1.mp4     7.041  support_encourage\n",
              "28    VCP104ENM_3_raw_clip_example_1.mp4     7.795             naming\n",
              "29       UI006EEB_raw_clip_example_2.mp4    20.458          end_begin\n",
              "30    VCP104ENM_2_raw_clip_example_1.mp4     9.713             naming\n",
              "31    VCP104ENM_1_raw_clip_example_1.mp4     7.323             naming\n",
              "32    VCP104EEB_1_raw_clip_example_1.mp4    15.298          end_begin\n",
              "33    VCP104EBF_3_raw_clip_example_1.mp4    13.881         back_forth\n",
              "34    VCP104EBF_2_raw_clip_example_1.mp4    12.813         back_forth\n",
              "35    VCP104EBF_1_raw_clip_example_1.mp4    15.497         back_forth\n",
              "36    VCP999ESE_2_raw_clip_example_1.mp4     8.309  support_encourage"
            ],
            "text/html": [
              "\n",
              "  <div id=\"df-a4f1d855-d01c-4291-b696-872218031bdd\">\n",
              "    <div class=\"colab-df-container\">\n",
              "      <div>\n",
              "<style scoped>\n",
              "    .dataframe tbody tr th:only-of-type {\n",
              "        vertical-align: middle;\n",
              "    }\n",
              "\n",
              "    .dataframe tbody tr th {\n",
              "        vertical-align: top;\n",
              "    }\n",
              "\n",
              "    .dataframe thead th {\n",
              "        text-align: right;\n",
              "    }\n",
              "</style>\n",
              "<table border=\"1\" class=\"dataframe\">\n",
              "  <thead>\n",
              "    <tr style=\"text-align: right;\">\n",
              "      <th></th>\n",
              "      <th>filename</th>\n",
              "      <th>duration</th>\n",
              "      <th>element</th>\n",
              "    </tr>\n",
              "  </thead>\n",
              "  <tbody>\n",
              "    <tr>\n",
              "      <th>0</th>\n",
              "      <td>UI007ESE_1of2_raw_clip_example_1.mp4</td>\n",
              "      <td>5.855</td>\n",
              "      <td>support_encourage</td>\n",
              "    </tr>\n",
              "    <tr>\n",
              "      <th>1</th>\n",
              "      <td>UI007ESE_2of2_raw_clip_example_1.mp4</td>\n",
              "      <td>11.167</td>\n",
              "      <td>support_encourage</td>\n",
              "    </tr>\n",
              "    <tr>\n",
              "      <th>2</th>\n",
              "      <td>UI007ENM_1of2_raw_clip_example_1.mp4</td>\n",
              "      <td>8.804</td>\n",
              "      <td>naming</td>\n",
              "    </tr>\n",
              "    <tr>\n",
              "      <th>3</th>\n",
              "      <td>UI007ENM_2of2_raw_clip_example_1.mp4</td>\n",
              "      <td>7.050</td>\n",
              "      <td>naming</td>\n",
              "    </tr>\n",
              "    <tr>\n",
              "      <th>4</th>\n",
              "      <td>UI007EBF_1of2_raw_clip_example_1.mp4</td>\n",
              "      <td>13.727</td>\n",
              "      <td>back_forth</td>\n",
              "    </tr>\n",
              "    <tr>\n",
              "      <th>5</th>\n",
              "      <td>UI007EBF_2of2_raw_clip_example_1.mp4</td>\n",
              "      <td>11.292</td>\n",
              "      <td>back_forth</td>\n",
              "    </tr>\n",
              "    <tr>\n",
              "      <th>6</th>\n",
              "      <td>UI007EEB_1of2_raw_clip_example_1.mp4</td>\n",
              "      <td>11.404</td>\n",
              "      <td>end_begin</td>\n",
              "    </tr>\n",
              "    <tr>\n",
              "      <th>7</th>\n",
              "      <td>UI007EEB_2of2_raw_clip_example_1.mp4</td>\n",
              "      <td>10.372</td>\n",
              "      <td>end_begin</td>\n",
              "    </tr>\n",
              "    <tr>\n",
              "      <th>8</th>\n",
              "      <td>UI006ENM_raw_clip_example_1.mp4</td>\n",
              "      <td>7.564</td>\n",
              "      <td>naming</td>\n",
              "    </tr>\n",
              "    <tr>\n",
              "      <th>9</th>\n",
              "      <td>UI006ESE_raw_clip_example_1.mp4</td>\n",
              "      <td>6.162</td>\n",
              "      <td>support_encourage</td>\n",
              "    </tr>\n",
              "    <tr>\n",
              "      <th>10</th>\n",
              "      <td>UI006EBF_raw_clip_example_1.mp4</td>\n",
              "      <td>17.252</td>\n",
              "      <td>back_forth</td>\n",
              "    </tr>\n",
              "    <tr>\n",
              "      <th>11</th>\n",
              "      <td>VCP999ESF_2_raw_clip_example_1.mp4</td>\n",
              "      <td>16.431</td>\n",
              "      <td>sharing_focus</td>\n",
              "    </tr>\n",
              "    <tr>\n",
              "      <th>12</th>\n",
              "      <td>VCP999ESF_1_raw_clip_example_1.mp4</td>\n",
              "      <td>7.125</td>\n",
              "      <td>sharing_focus</td>\n",
              "    </tr>\n",
              "    <tr>\n",
              "      <th>13</th>\n",
              "      <td>VCP104ESF_2_raw_clip_example_1.mp4</td>\n",
              "      <td>6.859</td>\n",
              "      <td>sharing_focus</td>\n",
              "    </tr>\n",
              "    <tr>\n",
              "      <th>14</th>\n",
              "      <td>VCP104ESF_1_raw_clip_example_1.mp4</td>\n",
              "      <td>6.674</td>\n",
              "      <td>sharing_focus</td>\n",
              "    </tr>\n",
              "    <tr>\n",
              "      <th>15</th>\n",
              "      <td>UI007ESF_2of2_raw_clip_example_1.mp4</td>\n",
              "      <td>10.015</td>\n",
              "      <td>sharing_focus</td>\n",
              "    </tr>\n",
              "    <tr>\n",
              "      <th>16</th>\n",
              "      <td>UI007ESF_1of2_raw_clip_example_1.mp4</td>\n",
              "      <td>12.562</td>\n",
              "      <td>sharing_focus</td>\n",
              "    </tr>\n",
              "    <tr>\n",
              "      <th>17</th>\n",
              "      <td>UI006ESF_raw_clip_example_1.mp4</td>\n",
              "      <td>11.860</td>\n",
              "      <td>sharing_focus</td>\n",
              "    </tr>\n",
              "    <tr>\n",
              "      <th>18</th>\n",
              "      <td>VCP999ESE_3_raw_clip_example_1.mp4</td>\n",
              "      <td>4.913</td>\n",
              "      <td>support_encourage</td>\n",
              "    </tr>\n",
              "    <tr>\n",
              "      <th>19</th>\n",
              "      <td>VCP999ESE_1_raw_clip_example_1.mp4</td>\n",
              "      <td>8.125</td>\n",
              "      <td>support_encourage</td>\n",
              "    </tr>\n",
              "    <tr>\n",
              "      <th>20</th>\n",
              "      <td>VCP999ENM_3_raw_clip_example_1.mp4</td>\n",
              "      <td>8.651</td>\n",
              "      <td>naming</td>\n",
              "    </tr>\n",
              "    <tr>\n",
              "      <th>21</th>\n",
              "      <td>VCP999ENM_2_raw_clip_example_1.mp4</td>\n",
              "      <td>7.515</td>\n",
              "      <td>naming</td>\n",
              "    </tr>\n",
              "    <tr>\n",
              "      <th>22</th>\n",
              "      <td>VCP999ENM_1_raw_clip_example_1.mp4</td>\n",
              "      <td>6.974</td>\n",
              "      <td>naming</td>\n",
              "    </tr>\n",
              "    <tr>\n",
              "      <th>23</th>\n",
              "      <td>VCP999EEB_1_raw_clip_example_1.mp4</td>\n",
              "      <td>12.780</td>\n",
              "      <td>end_begin</td>\n",
              "    </tr>\n",
              "    <tr>\n",
              "      <th>24</th>\n",
              "      <td>VCP999EBF_1_raw_clip_example_1.mp4</td>\n",
              "      <td>19.538</td>\n",
              "      <td>back_forth</td>\n",
              "    </tr>\n",
              "    <tr>\n",
              "      <th>25</th>\n",
              "      <td>VCP104ESE_3_raw_clip_example_1.mp4</td>\n",
              "      <td>5.857</td>\n",
              "      <td>support_encourage</td>\n",
              "    </tr>\n",
              "    <tr>\n",
              "      <th>26</th>\n",
              "      <td>VCP104ESE_2_raw_clip_example_1.mp4</td>\n",
              "      <td>5.013</td>\n",
              "      <td>support_encourage</td>\n",
              "    </tr>\n",
              "    <tr>\n",
              "      <th>27</th>\n",
              "      <td>VCP104ESE_1_raw_clip_example_1.mp4</td>\n",
              "      <td>7.041</td>\n",
              "      <td>support_encourage</td>\n",
              "    </tr>\n",
              "    <tr>\n",
              "      <th>28</th>\n",
              "      <td>VCP104ENM_3_raw_clip_example_1.mp4</td>\n",
              "      <td>7.795</td>\n",
              "      <td>naming</td>\n",
              "    </tr>\n",
              "    <tr>\n",
              "      <th>29</th>\n",
              "      <td>UI006EEB_raw_clip_example_2.mp4</td>\n",
              "      <td>20.458</td>\n",
              "      <td>end_begin</td>\n",
              "    </tr>\n",
              "    <tr>\n",
              "      <th>30</th>\n",
              "      <td>VCP104ENM_2_raw_clip_example_1.mp4</td>\n",
              "      <td>9.713</td>\n",
              "      <td>naming</td>\n",
              "    </tr>\n",
              "    <tr>\n",
              "      <th>31</th>\n",
              "      <td>VCP104ENM_1_raw_clip_example_1.mp4</td>\n",
              "      <td>7.323</td>\n",
              "      <td>naming</td>\n",
              "    </tr>\n",
              "    <tr>\n",
              "      <th>32</th>\n",
              "      <td>VCP104EEB_1_raw_clip_example_1.mp4</td>\n",
              "      <td>15.298</td>\n",
              "      <td>end_begin</td>\n",
              "    </tr>\n",
              "    <tr>\n",
              "      <th>33</th>\n",
              "      <td>VCP104EBF_3_raw_clip_example_1.mp4</td>\n",
              "      <td>13.881</td>\n",
              "      <td>back_forth</td>\n",
              "    </tr>\n",
              "    <tr>\n",
              "      <th>34</th>\n",
              "      <td>VCP104EBF_2_raw_clip_example_1.mp4</td>\n",
              "      <td>12.813</td>\n",
              "      <td>back_forth</td>\n",
              "    </tr>\n",
              "    <tr>\n",
              "      <th>35</th>\n",
              "      <td>VCP104EBF_1_raw_clip_example_1.mp4</td>\n",
              "      <td>15.497</td>\n",
              "      <td>back_forth</td>\n",
              "    </tr>\n",
              "    <tr>\n",
              "      <th>36</th>\n",
              "      <td>VCP999ESE_2_raw_clip_example_1.mp4</td>\n",
              "      <td>8.309</td>\n",
              "      <td>support_encourage</td>\n",
              "    </tr>\n",
              "  </tbody>\n",
              "</table>\n",
              "</div>\n",
              "      <button class=\"colab-df-convert\" onclick=\"convertToInteractive('df-a4f1d855-d01c-4291-b696-872218031bdd')\"\n",
              "              title=\"Convert this dataframe to an interactive table.\"\n",
              "              style=\"display:none;\">\n",
              "        \n",
              "  <svg xmlns=\"http://www.w3.org/2000/svg\" height=\"24px\"viewBox=\"0 0 24 24\"\n",
              "       width=\"24px\">\n",
              "    <path d=\"M0 0h24v24H0V0z\" fill=\"none\"/>\n",
              "    <path d=\"M18.56 5.44l.94 2.06.94-2.06 2.06-.94-2.06-.94-.94-2.06-.94 2.06-2.06.94zm-11 1L8.5 8.5l.94-2.06 2.06-.94-2.06-.94L8.5 2.5l-.94 2.06-2.06.94zm10 10l.94 2.06.94-2.06 2.06-.94-2.06-.94-.94-2.06-.94 2.06-2.06.94z\"/><path d=\"M17.41 7.96l-1.37-1.37c-.4-.4-.92-.59-1.43-.59-.52 0-1.04.2-1.43.59L10.3 9.45l-7.72 7.72c-.78.78-.78 2.05 0 2.83L4 21.41c.39.39.9.59 1.41.59.51 0 1.02-.2 1.41-.59l7.78-7.78 2.81-2.81c.8-.78.8-2.07 0-2.86zM5.41 20L4 18.59l7.72-7.72 1.47 1.35L5.41 20z\"/>\n",
              "  </svg>\n",
              "      </button>\n",
              "      \n",
              "  <style>\n",
              "    .colab-df-container {\n",
              "      display:flex;\n",
              "      flex-wrap:wrap;\n",
              "      gap: 12px;\n",
              "    }\n",
              "\n",
              "    .colab-df-convert {\n",
              "      background-color: #E8F0FE;\n",
              "      border: none;\n",
              "      border-radius: 50%;\n",
              "      cursor: pointer;\n",
              "      display: none;\n",
              "      fill: #1967D2;\n",
              "      height: 32px;\n",
              "      padding: 0 0 0 0;\n",
              "      width: 32px;\n",
              "    }\n",
              "\n",
              "    .colab-df-convert:hover {\n",
              "      background-color: #E2EBFA;\n",
              "      box-shadow: 0px 1px 2px rgba(60, 64, 67, 0.3), 0px 1px 3px 1px rgba(60, 64, 67, 0.15);\n",
              "      fill: #174EA6;\n",
              "    }\n",
              "\n",
              "    [theme=dark] .colab-df-convert {\n",
              "      background-color: #3B4455;\n",
              "      fill: #D2E3FC;\n",
              "    }\n",
              "\n",
              "    [theme=dark] .colab-df-convert:hover {\n",
              "      background-color: #434B5C;\n",
              "      box-shadow: 0px 1px 3px 1px rgba(0, 0, 0, 0.15);\n",
              "      filter: drop-shadow(0px 1px 2px rgba(0, 0, 0, 0.3));\n",
              "      fill: #FFFFFF;\n",
              "    }\n",
              "  </style>\n",
              "\n",
              "      <script>\n",
              "        const buttonEl =\n",
              "          document.querySelector('#df-a4f1d855-d01c-4291-b696-872218031bdd button.colab-df-convert');\n",
              "        buttonEl.style.display =\n",
              "          google.colab.kernel.accessAllowed ? 'block' : 'none';\n",
              "\n",
              "        async function convertToInteractive(key) {\n",
              "          const element = document.querySelector('#df-a4f1d855-d01c-4291-b696-872218031bdd');\n",
              "          const dataTable =\n",
              "            await google.colab.kernel.invokeFunction('convertToInteractive',\n",
              "                                                     [key], {});\n",
              "          if (!dataTable) return;\n",
              "\n",
              "          const docLinkHtml = 'Like what you see? Visit the ' +\n",
              "            '<a target=\"_blank\" href=https://colab.research.google.com/notebooks/data_table.ipynb>data table notebook</a>'\n",
              "            + ' to learn more about interactive tables.';\n",
              "          element.innerHTML = '';\n",
              "          dataTable['output_type'] = 'display_data';\n",
              "          await google.colab.output.renderOutput(dataTable, element);\n",
              "          const docLink = document.createElement('div');\n",
              "          docLink.innerHTML = docLinkHtml;\n",
              "          element.appendChild(docLink);\n",
              "        }\n",
              "      </script>\n",
              "    </div>\n",
              "  </div>\n",
              "  "
            ]
          },
          "metadata": {},
          "execution_count": 258
        }
      ]
    },
    {
      "cell_type": "code",
      "source": [
        "df_element_clip.boxplot(by = 'element')"
      ],
      "metadata": {
        "colab": {
          "base_uri": "https://localhost:8080/",
          "height": 374
        },
        "id": "9KV7dqUCzvLQ",
        "outputId": "5a10b2c4-4d86-40e8-9ee7-00262cd95948"
      },
      "execution_count": null,
      "outputs": [
        {
          "output_type": "stream",
          "name": "stderr",
          "text": [
            "/usr/local/lib/python3.7/dist-packages/matplotlib/cbook/__init__.py:1376: VisibleDeprecationWarning: Creating an ndarray from ragged nested sequences (which is a list-or-tuple of lists-or-tuples-or ndarrays with different lengths or shapes) is deprecated. If you meant to do this, you must specify 'dtype=object' when creating the ndarray.\n",
            "  X = np.atleast_1d(X.T if isinstance(X, np.ndarray) else np.asarray(X))\n"
          ]
        },
        {
          "output_type": "execute_result",
          "data": {
            "text/plain": [
              "<matplotlib.axes._subplots.AxesSubplot at 0x7f6c94c00410>"
            ]
          },
          "metadata": {},
          "execution_count": 259
        },
        {
          "output_type": "display_data",
          "data": {
            "text/plain": [
              "<Figure size 432x288 with 1 Axes>"
            ],
            "image/png": "[encoded data removed]"
          },
          "metadata": {
            "needs_background": "light"
          }
        }
      ]
    }
  ]
}