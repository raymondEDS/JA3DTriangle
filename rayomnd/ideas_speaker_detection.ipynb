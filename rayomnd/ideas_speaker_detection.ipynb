{
  "nbformat": 4,
  "nbformat_minor": 0,
  "metadata": {
    "colab": {
      "name": "ideas_speaker_detection.ipynb",
      "provenance": [],
      "authorship_tag": "ABX9TyNr+IcTee4GtgwXI45RfilS",
      "include_colab_link": true
    },
    "kernelspec": {
      "name": "python3",
      "display_name": "Python 3"
    },
    "language_info": {
      "name": "python"
    },
    "accelerator": "GPU",
    "gpuClass": "standard"
  },
  "cells": [
    {
      "cell_type": "markdown",
      "metadata": {
        "id": "view-in-github",
        "colab_type": "text"
      },
      "source": [
        "<a href=\"https://colab.research.google.com/github/raymondEDS/iFind_tech_team/blob/clip_matching/rayomnd/ideas_speaker_detection.ipynb\" target=\"_parent\"><img src=\"https://colab.research.google.com/assets/colab-badge.svg\" alt=\"Open In Colab\"/></a>"
      ]
    },
    {
      "cell_type": "code",
      "execution_count": null,
      "metadata": {
        "id": "DVRngJCAzoq4"
      },
      "outputs": [],
      "source": [
        "https://google.github.io/speaker-id/publications/LstmDiarization/\n",
        "\n",
        "https://speechbrain.github.io/\n",
        "\n",
        "\n",
        "https://github.com/tuanchien/asd"
      ]
    },
    {
      "cell_type": "markdown",
      "source": [
        "https://github.com/TaoRuijie/TalkNet-ASD\n",
        "\n",
        "We will try and implement this."
      ],
      "metadata": {
        "id": "R2JW0p_8Ch6X"
      }
    },
    {
      "cell_type": "code",
      "source": [
        "!git clone https://github.com/TaoRuijie/TalkNet-ASD\n",
        "!pip install -r  TalkNet-ASD/requirement.txt\n",
        "!cd TalkNet-ASD"
      ],
      "metadata": {
        "colab": {
          "base_uri": "https://localhost:8080/"
        },
        "id": "7bok4rL8CvAq",
        "outputId": "88e119ce-f54a-4d58-ef87-000440dc1db6"
      },
      "execution_count": null,
      "outputs": [
        {
          "output_type": "stream",
          "name": "stdout",
          "text": [
            "fatal: destination path 'TalkNet-ASD' already exists and is not an empty directory.\n",
            "Looking in indexes: https://pypi.org/simple, https://us-python.pkg.dev/colab-wheels/public/simple/\n",
            "Requirement already satisfied: torch>=1.6.0 in /usr/local/lib/python3.7/dist-packages (from -r TalkNet-ASD/requirement.txt (line 1)) (1.11.0+cu113)\n",
            "Requirement already satisfied: torchaudio>=0.6.0 in /usr/local/lib/python3.7/dist-packages (from -r TalkNet-ASD/requirement.txt (line 2)) (0.11.0+cu113)\n",
            "Requirement already satisfied: numpy in /usr/local/lib/python3.7/dist-packages (from -r TalkNet-ASD/requirement.txt (line 3)) (1.21.6)\n",
            "Requirement already satisfied: scipy in /usr/local/lib/python3.7/dist-packages (from -r TalkNet-ASD/requirement.txt (line 4)) (1.4.1)\n",
            "Requirement already satisfied: scikit-learn in /usr/local/lib/python3.7/dist-packages (from -r TalkNet-ASD/requirement.txt (line 5)) (1.0.2)\n",
            "Requirement already satisfied: tqdm in /usr/local/lib/python3.7/dist-packages (from -r TalkNet-ASD/requirement.txt (line 6)) (4.64.0)\n",
            "Requirement already satisfied: scenedetect in /usr/local/lib/python3.7/dist-packages (from -r TalkNet-ASD/requirement.txt (line 7)) (0.6.0.3)\n",
            "Requirement already satisfied: opencv-python in /usr/local/lib/python3.7/dist-packages (from -r TalkNet-ASD/requirement.txt (line 8)) (4.1.2.30)\n",
            "Requirement already satisfied: python_speech_features in /usr/local/lib/python3.7/dist-packages (from -r TalkNet-ASD/requirement.txt (line 9)) (0.6)\n",
            "Requirement already satisfied: torchvision in /usr/local/lib/python3.7/dist-packages (from -r TalkNet-ASD/requirement.txt (line 10)) (0.12.0+cu113)\n",
            "Requirement already satisfied: ffmpeg in /usr/local/lib/python3.7/dist-packages (from -r TalkNet-ASD/requirement.txt (line 11)) (1.4)\n",
            "Requirement already satisfied: gdown in /usr/local/lib/python3.7/dist-packages (from -r TalkNet-ASD/requirement.txt (line 12)) (4.4.0)\n",
            "Requirement already satisfied: youtube-dl in /usr/local/lib/python3.7/dist-packages (from -r TalkNet-ASD/requirement.txt (line 13)) (2021.12.17)\n",
            "Requirement already satisfied: typing-extensions in /usr/local/lib/python3.7/dist-packages (from torch>=1.6.0->-r TalkNet-ASD/requirement.txt (line 1)) (4.1.1)\n",
            "Requirement already satisfied: threadpoolctl>=2.0.0 in /usr/local/lib/python3.7/dist-packages (from scikit-learn->-r TalkNet-ASD/requirement.txt (line 5)) (3.1.0)\n",
            "Requirement already satisfied: joblib>=0.11 in /usr/local/lib/python3.7/dist-packages (from scikit-learn->-r TalkNet-ASD/requirement.txt (line 5)) (1.1.0)\n",
            "Requirement already satisfied: Click in /usr/local/lib/python3.7/dist-packages (from scenedetect->-r TalkNet-ASD/requirement.txt (line 7)) (7.1.2)\n",
            "Requirement already satisfied: appdirs in /usr/local/lib/python3.7/dist-packages (from scenedetect->-r TalkNet-ASD/requirement.txt (line 7)) (1.4.4)\n",
            "Requirement already satisfied: requests in /usr/local/lib/python3.7/dist-packages (from torchvision->-r TalkNet-ASD/requirement.txt (line 10)) (2.23.0)\n",
            "Requirement already satisfied: pillow!=8.3.*,>=5.3.0 in /usr/local/lib/python3.7/dist-packages (from torchvision->-r TalkNet-ASD/requirement.txt (line 10)) (7.1.2)\n",
            "Requirement already satisfied: six in /usr/local/lib/python3.7/dist-packages (from gdown->-r TalkNet-ASD/requirement.txt (line 12)) (1.15.0)\n",
            "Requirement already satisfied: filelock in /usr/local/lib/python3.7/dist-packages (from gdown->-r TalkNet-ASD/requirement.txt (line 12)) (3.7.1)\n",
            "Requirement already satisfied: beautifulsoup4 in /usr/local/lib/python3.7/dist-packages (from gdown->-r TalkNet-ASD/requirement.txt (line 12)) (4.6.3)\n",
            "Requirement already satisfied: chardet<4,>=3.0.2 in /usr/local/lib/python3.7/dist-packages (from requests->torchvision->-r TalkNet-ASD/requirement.txt (line 10)) (3.0.4)\n",
            "Requirement already satisfied: urllib3!=1.25.0,!=1.25.1,<1.26,>=1.21.1 in /usr/local/lib/python3.7/dist-packages (from requests->torchvision->-r TalkNet-ASD/requirement.txt (line 10)) (1.24.3)\n",
            "Requirement already satisfied: idna<3,>=2.5 in /usr/local/lib/python3.7/dist-packages (from requests->torchvision->-r TalkNet-ASD/requirement.txt (line 10)) (2.10)\n",
            "Requirement already satisfied: certifi>=2017.4.17 in /usr/local/lib/python3.7/dist-packages (from requests->torchvision->-r TalkNet-ASD/requirement.txt (line 10)) (2022.6.15)\n",
            "Requirement already satisfied: PySocks!=1.5.7,>=1.5.6 in /usr/local/lib/python3.7/dist-packages (from requests->torchvision->-r TalkNet-ASD/requirement.txt (line 10)) (1.7.1)\n"
          ]
        }
      ]
    },
    {
      "cell_type": "code",
      "source": [
        "%cd TalkNet-ASD\n",
        "!ls"
      ],
      "metadata": {
        "colab": {
          "base_uri": "https://localhost:8080/"
        },
        "id": "WjXQnvskGcct",
        "outputId": "faab2346-e6c3-42ee-8aee-54629bdd90f2"
      },
      "execution_count": null,
      "outputs": [
        {
          "output_type": "stream",
          "name": "stdout",
          "text": [
            "/content/TalkNet-ASD\n",
            "awesomeASD.md  demoTalkNet.py  loss.py\t    README.md\t     TalkSet\n",
            "dataLoader.py  FAQ.md\t       model\t    requirement.txt  trainTalkNet.py\n",
            "demo\t       LICENSE.md      __pycache__  talkNet.py\t     utils\n"
          ]
        }
      ]
    },
    {
      "cell_type": "code",
      "source": [
        "!python demoTalkNet.py --videoName 001"
      ],
      "metadata": {
        "colab": {
          "base_uri": "https://localhost:8080/"
        },
        "id": "UigzvGUZEJZ4",
        "outputId": "4477d2c8-e4ac-427d-fdf8-31cf7830f448"
      },
      "execution_count": null,
      "outputs": [
        {
          "output_type": "stream",
          "name": "stdout",
          "text": [
            "/usr/local/lib/python3.7/dist-packages/gdown/cli.py:131: FutureWarning: Option `--id` was deprecated in version 4.3.1 and will be removed in 5.0. You don't need to pass it anymore to use a file ID.\n",
            "  category=FutureWarning,\n",
            "Downloading...\n",
            "From: https://drive.google.com/uc?id=1KafnHz7ccT-3IyddBsL5yi2xGtxAKypt\n",
            "To: /content/TalkNet-ASD/model/faceDetector/s3fd/sfd_face.pth\n",
            "100% 89.8M/89.8M [00:01<00:00, 89.7MB/s]\n",
            "/usr/local/lib/python3.7/dist-packages/gdown/cli.py:131: FutureWarning: Option `--id` was deprecated in version 4.3.1 and will be removed in 5.0. You don't need to pass it anymore to use a file ID.\n",
            "  category=FutureWarning,\n",
            "Downloading...\n",
            "From: https://drive.google.com/uc?id=1AbN9fCf9IexMxEKXLQY2KYBlb-IhSEea\n",
            "To: /content/TalkNet-ASD/pretrain_TalkSet.model\n",
            "100% 63.2M/63.2M [00:00<00:00, 211MB/s]\n",
            "2022-07-07 05:22:01 Extract the video and save in demo/001/pyavi/video.avi \n",
            "2022-07-07 05:22:01 Extract the audio and save in demo/001/pyavi/audio.wav \n",
            "2022-07-07 05:22:03 Extract the frames and save in demo/001/pyframes \n",
            "demo/001/pyavi/video.avi - scenes detected 1\n",
            "2022-07-07 05:22:04 Scene detection and save in demo/001/pywork \n",
            "2022-07-07 05:22:25 Face detection and save in demo/001/pywork \n",
            "2022-07-07 05:22:25 Face track and detected 7 tracks \n",
            "100% 7/7 [00:08<00:00,  1.16s/it]\n",
            "2022-07-07 05:22:34 Face Crop and saved in demo/001/pycrop tracks \n",
            "07-07 05:22:34 Model para number = 15.01\n",
            "Model pretrain_TalkSet.model loaded from previous state! \n",
            "100% 7/7 [00:05<00:00,  1.25it/s]\n",
            "2022-07-07 05:22:40 Scores extracted and saved in demo/001/pywork \n",
            "100% 502/502 [00:02<00:00, 204.94it/s]\n"
          ]
        }
      ]
    },
    {
      "cell_type": "code",
      "source": [
        "!python demoTalkNet.py --videoName UI006EBF"
      ],
      "metadata": {
        "colab": {
          "base_uri": "https://localhost:8080/"
        },
        "id": "a5QA1SwLISXP",
        "outputId": "cf907590-5a63-4220-9057-050d552a1b82"
      },
      "execution_count": null,
      "outputs": [
        {
          "output_type": "stream",
          "name": "stdout",
          "text": [
            "2022-07-07 05:40:38 Extract the video and save in demo/UI006EBF/pyavi/video.avi \n",
            "2022-07-07 05:40:38 Extract the audio and save in demo/UI006EBF/pyavi/audio.wav \n",
            "2022-07-07 05:40:52 Extract the frames and save in demo/UI006EBF/pyframes \n",
            "demo/UI006EBF/pyavi/video.avi - scenes detected 9\n",
            "2022-07-07 05:40:59 Scene detection and save in demo/UI006EBF/pywork \n",
            "2022-07-07 05:42:11 Face detection and save in demo/UI006EBF/pywork \n",
            "2022-07-07 05:42:11 Face track and detected 10 tracks \n",
            "100% 10/10 [00:41<00:00,  4.13s/it]\n",
            "2022-07-07 05:42:52 Face Crop and saved in demo/UI006EBF/pycrop tracks \n",
            "07-07 05:42:52 Model para number = 15.01\n",
            "Model pretrain_TalkSet.model loaded from previous state! \n",
            "100% 10/10 [00:11<00:00,  1.16s/it]\n",
            "2022-07-07 05:43:04 Scores extracted and saved in demo/UI006EBF/pywork \n",
            "100% 2173/2173 [00:29<00:00, 74.19it/s]\n"
          ]
        }
      ]
    }
  ]
}